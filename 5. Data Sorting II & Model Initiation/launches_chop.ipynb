{
 "cells": [
  {
   "cell_type": "code",
   "execution_count": 6,
   "metadata": {},
   "outputs": [],
   "source": [
    "import numpy as np\n",
    "import pandas as pd\n",
    "import dask.dataframe as dd\n",
    "from dask import dataframe as dd \n",
    "import matplotlib.pyplot as plt\n",
    "import pickle\n",
    "import seaborn as sns\n",
    "sns.set_style(\"whitegrid\")\n",
    "from pprint import pprint\n",
    "import sqlite3\n",
    "import yaml\n",
    "import re\n",
    "from datetime import datetime\n",
    "from datetime import timezone\n",
    "import maya\n",
    "from collections import Counter\n",
    "from glob import glob\n",
    "import ast\n",
    "import sys\n",
    "import json\n",
    "import cProfile\n",
    "import time\n",
    "from collections import OrderedDict\n",
    "from sklearn.preprocessing import StandardScaler\n",
    "\n",
    "try: # for pip >= 10\n",
    "    from pip._internal.req import parse_requirements\n",
    "except ImportError: # for pip <= 9.0.3\n",
    "    from pip.req import parse_requirements\n",
    "\n",
    "\n",
    "%matplotlib inline\n",
    "\n",
    "# Code for hiding seaborn warnings\n",
    "import warnings\n",
    "warnings.filterwarnings(\"ignore\")"
   ]
  },
  {
   "cell_type": "code",
   "execution_count": null,
   "metadata": {},
   "outputs": [],
   "source": [
    "con = sqlite3.connect('binder.sqlite')\n",
    "launches_df = pd.read_sql('SELECT * FROM events', con)"
   ]
  },
  {
   "cell_type": "code",
   "execution_count": null,
   "metadata": {},
   "outputs": [],
   "source": [
    "dep_df = pd.read_hdf('dependency_table_final.h5', 'df')\n",
    "dep_df = dep_df.rename(columns=dep_df.loc[\"ref\"]).drop(\"ref\")"
   ]
  },
  {
   "cell_type": "code",
   "execution_count": null,
   "metadata": {},
   "outputs": [],
   "source": [
    "launches_df[\"combined_ref\"] = launches_df['ref'].fillna('') + launches_df['guessed_ref'].fillna('')\n",
    "launches_df"
   ]
  },
  {
   "cell_type": "code",
   "execution_count": null,
   "metadata": {},
   "outputs": [],
   "source": []
  }
 ],
 "metadata": {
  "kernelspec": {
   "display_name": "Python 3",
   "language": "python",
   "name": "python3"
  },
  "language_info": {
   "codemirror_mode": {
    "name": "ipython",
    "version": 3
   },
   "file_extension": ".py",
   "mimetype": "text/x-python",
   "name": "python",
   "nbconvert_exporter": "python",
   "pygments_lexer": "ipython3",
   "version": "3.7.3"
  }
 },
 "nbformat": 4,
 "nbformat_minor": 2
}
