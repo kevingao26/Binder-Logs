{
 "cells": [
  {
   "cell_type": "code",
   "execution_count": 1,
   "metadata": {},
   "outputs": [
    {
     "data": {
      "text/plain": [
       "'\\n!pip install pyyaml\\n!pip install matplotlib-venn\\n!pip install numpy\\n'"
      ]
     },
     "execution_count": 1,
     "metadata": {},
     "output_type": "execute_result"
    }
   ],
   "source": [
    "'''\n",
    "!pip install pyyaml\n",
    "!pip install matplotlib-venn\n",
    "!pip install numpy\n",
    "'''"
   ]
  },
  {
   "cell_type": "code",
   "execution_count": 2,
   "metadata": {},
   "outputs": [],
   "source": [
    "import numpy as np\n",
    "import pandas as pd\n",
    "import dask.dataframe as dd\n",
    "import matplotlib.pyplot as plt\n",
    "import pickle\n",
    "import seaborn as sns\n",
    "sns.set_style(\"whitegrid\")\n",
    "from pprint import pprint\n",
    "import sqlite3\n",
    "import yaml\n",
    "import re\n",
    "import datetime\n",
    "\n",
    "try: # for pip >= 10\n",
    "    from pip._internal.req import parse_requirements\n",
    "except ImportError: # for pip <= 9.0.3\n",
    "    from pip.req import parse_requirements\n",
    "\n",
    "from matplotlib_venn import venn2, venn2_circles, venn2_unweighted\n",
    "from matplotlib_venn import venn3, venn3_circles\n",
    "from matplotlib import pyplot as plt\n",
    "%matplotlib inline\n",
    "\n",
    "# Code for hiding seaborn warnings\n",
    "import warnings\n",
    "warnings.filterwarnings(\"ignore\")"
   ]
  },
  {
   "cell_type": "markdown",
   "metadata": {},
   "source": [
    "## Easier navigation:\n",
    "\n",
    "------------------------------------\n",
    "\n",
    "### 1. <a href='#setup'>Setup</a>\n",
    "------------------------------------\n",
    "### 2. <a href='#cdist'>Column distributions</a>\n",
    "### 3. <a href='#repo'>`column`: repo</a>\n",
    "### 4. <a href='#repo'>Launches - repo analysis</a>\n",
    "### 5. <a href='#merge'>Merge launches+sqlite</a>\n",
    "### 6. <a href='#ra'>Repo Analysis</a>\n",
    "\n",
    "------------------------------------"
   ]
  },
  {
   "cell_type": "markdown",
   "metadata": {},
   "source": [
    "<a name='setup'></a>\n",
    "## 1. Setup\n",
    "\n",
    "<br>"
   ]
  },
  {
   "cell_type": "code",
   "execution_count": 3,
   "metadata": {},
   "outputs": [],
   "source": [
    "con = sqlite3.connect('binder-launches.db')\n",
    "df = pd.read_sql('SELECT * FROM binder', con)"
   ]
  },
  {
   "cell_type": "code",
   "execution_count": 4,
   "metadata": {},
   "outputs": [
    {
     "data": {
      "text/plain": [
       "Index(['timestamp', 'version', 'provider', 'spec', 'ref', 'origin', 'repo',\n",
       "       'resolved_ref', 'org'],\n",
       "      dtype='object')"
      ]
     },
     "execution_count": 4,
     "metadata": {},
     "output_type": "execute_result"
    }
   ],
   "source": [
    "df.columns"
   ]
  },
  {
   "cell_type": "code",
   "execution_count": 5,
   "metadata": {},
   "outputs": [
    {
     "data": {
      "text/html": [
       "<div>\n",
       "<style scoped>\n",
       "    .dataframe tbody tr th:only-of-type {\n",
       "        vertical-align: middle;\n",
       "    }\n",
       "\n",
       "    .dataframe tbody tr th {\n",
       "        vertical-align: top;\n",
       "    }\n",
       "\n",
       "    .dataframe thead th {\n",
       "        text-align: right;\n",
       "    }\n",
       "</style>\n",
       "<table border=\"1\" class=\"dataframe\">\n",
       "  <thead>\n",
       "    <tr style=\"text-align: right;\">\n",
       "      <th></th>\n",
       "      <th>timestamp</th>\n",
       "      <th>version</th>\n",
       "      <th>provider</th>\n",
       "      <th>spec</th>\n",
       "      <th>ref</th>\n",
       "      <th>origin</th>\n",
       "      <th>repo</th>\n",
       "      <th>resolved_ref</th>\n",
       "      <th>org</th>\n",
       "    </tr>\n",
       "  </thead>\n",
       "  <tbody>\n",
       "    <tr>\n",
       "      <th>0</th>\n",
       "      <td>2021-01-21T00:00:00+00:00</td>\n",
       "      <td>4</td>\n",
       "      <td>GitHub</td>\n",
       "      <td>ipython/ipython-in-depth/master</td>\n",
       "      <td>master</td>\n",
       "      <td>turing.mybinder.org</td>\n",
       "      <td>ipython/ipython-in-depth</td>\n",
       "      <td>7e5ce96cc9251083979efdfc393425f1229a4a68</td>\n",
       "      <td>ipython</td>\n",
       "    </tr>\n",
       "    <tr>\n",
       "      <th>1</th>\n",
       "      <td>2021-01-21T00:00:00+00:00</td>\n",
       "      <td>4</td>\n",
       "      <td>GitHub</td>\n",
       "      <td>ipython/ipython-in-depth/master</td>\n",
       "      <td>master</td>\n",
       "      <td>turing.mybinder.org</td>\n",
       "      <td>ipython/ipython-in-depth</td>\n",
       "      <td>7e5ce96cc9251083979efdfc393425f1229a4a68</td>\n",
       "      <td>ipython</td>\n",
       "    </tr>\n",
       "    <tr>\n",
       "      <th>2</th>\n",
       "      <td>2021-01-21T00:00:00+00:00</td>\n",
       "      <td>4</td>\n",
       "      <td>GitHub</td>\n",
       "      <td>jupyterlab/jupyterlab-demo/master</td>\n",
       "      <td>master</td>\n",
       "      <td>turing.mybinder.org</td>\n",
       "      <td>jupyterlab/jupyterlab-demo</td>\n",
       "      <td>79184a07d47cf03787b39cfc345da98794d76554</td>\n",
       "      <td>jupyterlab</td>\n",
       "    </tr>\n",
       "    <tr>\n",
       "      <th>3</th>\n",
       "      <td>2021-01-21T00:00:00+00:00</td>\n",
       "      <td>4</td>\n",
       "      <td>GitHub</td>\n",
       "      <td>qiskit-community/qiskit-textbook/thebe-stable</td>\n",
       "      <td>thebe-stable</td>\n",
       "      <td>turing.mybinder.org</td>\n",
       "      <td>qiskit-community/qiskit-textbook</td>\n",
       "      <td>5427cf2721cc352a522832a67845d6b59e04666b</td>\n",
       "      <td>qiskit-community</td>\n",
       "    </tr>\n",
       "    <tr>\n",
       "      <th>4</th>\n",
       "      <td>2021-01-21T00:00:00+00:00</td>\n",
       "      <td>4</td>\n",
       "      <td>GitHub</td>\n",
       "      <td>furnstahl/5300-notebooks/master</td>\n",
       "      <td>master</td>\n",
       "      <td>gke.mybinder.org</td>\n",
       "      <td>furnstahl/5300-notebooks</td>\n",
       "      <td>aa03b995e36957a72fee85be8d2a52aea451422a</td>\n",
       "      <td>furnstahl</td>\n",
       "    </tr>\n",
       "    <tr>\n",
       "      <th>...</th>\n",
       "      <td>...</td>\n",
       "      <td>...</td>\n",
       "      <td>...</td>\n",
       "      <td>...</td>\n",
       "      <td>...</td>\n",
       "      <td>...</td>\n",
       "      <td>...</td>\n",
       "      <td>...</td>\n",
       "      <td>...</td>\n",
       "    </tr>\n",
       "    <tr>\n",
       "      <th>13946913</th>\n",
       "      <td>2018-11-03T23:58:00+00:00</td>\n",
       "      <td>1</td>\n",
       "      <td>GitHub</td>\n",
       "      <td>ipython/ipython-in-depth/master</td>\n",
       "      <td>master</td>\n",
       "      <td>None</td>\n",
       "      <td>ipython/ipython-in-depth</td>\n",
       "      <td></td>\n",
       "      <td>ipython</td>\n",
       "    </tr>\n",
       "    <tr>\n",
       "      <th>13946914</th>\n",
       "      <td>2018-11-03T23:58:00+00:00</td>\n",
       "      <td>1</td>\n",
       "      <td>GitHub</td>\n",
       "      <td>ipython/ipython-in-depth/master</td>\n",
       "      <td>master</td>\n",
       "      <td>None</td>\n",
       "      <td>ipython/ipython-in-depth</td>\n",
       "      <td></td>\n",
       "      <td>ipython</td>\n",
       "    </tr>\n",
       "    <tr>\n",
       "      <th>13946915</th>\n",
       "      <td>2018-11-03T23:58:00+00:00</td>\n",
       "      <td>1</td>\n",
       "      <td>GitHub</td>\n",
       "      <td>ines/spacy-io-binder/live</td>\n",
       "      <td>live</td>\n",
       "      <td>None</td>\n",
       "      <td>ines/spacy-io-binder</td>\n",
       "      <td></td>\n",
       "      <td>ines</td>\n",
       "    </tr>\n",
       "    <tr>\n",
       "      <th>13946916</th>\n",
       "      <td>2018-11-03T23:58:00+00:00</td>\n",
       "      <td>1</td>\n",
       "      <td>GitHub</td>\n",
       "      <td>ipython/ipython-in-depth/master</td>\n",
       "      <td>master</td>\n",
       "      <td>None</td>\n",
       "      <td>ipython/ipython-in-depth</td>\n",
       "      <td></td>\n",
       "      <td>ipython</td>\n",
       "    </tr>\n",
       "    <tr>\n",
       "      <th>13946917</th>\n",
       "      <td>2018-11-03T23:59:00+00:00</td>\n",
       "      <td>1</td>\n",
       "      <td>GitHub</td>\n",
       "      <td>ipython/ipython-in-depth/master</td>\n",
       "      <td>master</td>\n",
       "      <td>None</td>\n",
       "      <td>ipython/ipython-in-depth</td>\n",
       "      <td></td>\n",
       "      <td>ipython</td>\n",
       "    </tr>\n",
       "  </tbody>\n",
       "</table>\n",
       "<p>13946918 rows × 9 columns</p>\n",
       "</div>"
      ],
      "text/plain": [
       "                          timestamp  version provider  \\\n",
       "0         2021-01-21T00:00:00+00:00        4   GitHub   \n",
       "1         2021-01-21T00:00:00+00:00        4   GitHub   \n",
       "2         2021-01-21T00:00:00+00:00        4   GitHub   \n",
       "3         2021-01-21T00:00:00+00:00        4   GitHub   \n",
       "4         2021-01-21T00:00:00+00:00        4   GitHub   \n",
       "...                             ...      ...      ...   \n",
       "13946913  2018-11-03T23:58:00+00:00        1   GitHub   \n",
       "13946914  2018-11-03T23:58:00+00:00        1   GitHub   \n",
       "13946915  2018-11-03T23:58:00+00:00        1   GitHub   \n",
       "13946916  2018-11-03T23:58:00+00:00        1   GitHub   \n",
       "13946917  2018-11-03T23:59:00+00:00        1   GitHub   \n",
       "\n",
       "                                                   spec           ref  \\\n",
       "0                       ipython/ipython-in-depth/master        master   \n",
       "1                       ipython/ipython-in-depth/master        master   \n",
       "2                     jupyterlab/jupyterlab-demo/master        master   \n",
       "3         qiskit-community/qiskit-textbook/thebe-stable  thebe-stable   \n",
       "4                       furnstahl/5300-notebooks/master        master   \n",
       "...                                                 ...           ...   \n",
       "13946913                ipython/ipython-in-depth/master        master   \n",
       "13946914                ipython/ipython-in-depth/master        master   \n",
       "13946915                      ines/spacy-io-binder/live          live   \n",
       "13946916                ipython/ipython-in-depth/master        master   \n",
       "13946917                ipython/ipython-in-depth/master        master   \n",
       "\n",
       "                       origin                              repo  \\\n",
       "0         turing.mybinder.org          ipython/ipython-in-depth   \n",
       "1         turing.mybinder.org          ipython/ipython-in-depth   \n",
       "2         turing.mybinder.org        jupyterlab/jupyterlab-demo   \n",
       "3         turing.mybinder.org  qiskit-community/qiskit-textbook   \n",
       "4            gke.mybinder.org          furnstahl/5300-notebooks   \n",
       "...                       ...                               ...   \n",
       "13946913                 None          ipython/ipython-in-depth   \n",
       "13946914                 None          ipython/ipython-in-depth   \n",
       "13946915                 None              ines/spacy-io-binder   \n",
       "13946916                 None          ipython/ipython-in-depth   \n",
       "13946917                 None          ipython/ipython-in-depth   \n",
       "\n",
       "                                      resolved_ref               org  \n",
       "0         7e5ce96cc9251083979efdfc393425f1229a4a68           ipython  \n",
       "1         7e5ce96cc9251083979efdfc393425f1229a4a68           ipython  \n",
       "2         79184a07d47cf03787b39cfc345da98794d76554        jupyterlab  \n",
       "3         5427cf2721cc352a522832a67845d6b59e04666b  qiskit-community  \n",
       "4         aa03b995e36957a72fee85be8d2a52aea451422a         furnstahl  \n",
       "...                                            ...               ...  \n",
       "13946913                                                     ipython  \n",
       "13946914                                                     ipython  \n",
       "13946915                                                        ines  \n",
       "13946916                                                     ipython  \n",
       "13946917                                                     ipython  \n",
       "\n",
       "[13946918 rows x 9 columns]"
      ]
     },
     "execution_count": 5,
     "metadata": {},
     "output_type": "execute_result"
    }
   ],
   "source": [
    "df"
   ]
  },
  {
   "cell_type": "code",
   "execution_count": 6,
   "metadata": {},
   "outputs": [],
   "source": [
    "dash = '-' * 60"
   ]
  },
  {
   "cell_type": "markdown",
   "metadata": {},
   "source": [
    "<a name='cdist'></a>\n",
    "## 2. Column distributions\n",
    "\n",
    "<br>"
   ]
  },
  {
   "cell_type": "code",
   "execution_count": 7,
   "metadata": {},
   "outputs": [
    {
     "data": {
      "text/plain": [
       "<AxesSubplot:xlabel='version', ylabel='count'>"
      ]
     },
     "execution_count": 7,
     "metadata": {},
     "output_type": "execute_result"
    },
    {
     "data": {
      "image/png": "[encoded data removed]",
      "text/plain": [
       "<Figure size 432x288 with 1 Axes>"
      ]
     },
     "metadata": {
      "needs_background": "light"
     },
     "output_type": "display_data"
    }
   ],
   "source": [
    "sns.countplot(x=\"version\", data=df)"
   ]
  },
  {
   "cell_type": "code",
   "execution_count": 8,
   "metadata": {},
   "outputs": [
    {
     "data": {
      "text/plain": [
       "[Text(0, 0, 'GitHub'),\n",
       " Text(1, 0, 'Git'),\n",
       " Text(2, 0, 'Gist'),\n",
       " Text(3, 0, 'GitLab'),\n",
       " Text(4, 0, 'Zenodo'),\n",
       " Text(5, 0, 'Dataverse'),\n",
       " Text(6, 0, 'Hydroshare'),\n",
       " Text(7, 0, 'Figshare')]"
      ]
     },
     "execution_count": 8,
     "metadata": {},
     "output_type": "execute_result"
    },
    {
     "data": {
      "image/png": "[encoded data removed]",
      "text/plain": [
       "<Figure size 432x288 with 1 Axes>"
      ]
     },
     "metadata": {
      "needs_background": "light"
     },
     "output_type": "display_data"
    }
   ],
   "source": [
    "chart = sns.countplot(x=\"provider\", data=df)\n",
    "chart.set_xticklabels(chart.get_xticklabels(), rotation=45, horizontalalignment='right')"
   ]
  },
  {
   "cell_type": "code",
   "execution_count": 9,
   "metadata": {},
   "outputs": [
    {
     "data": {
      "image/png": "[encoded data removed]",
      "text/plain": [
       "<Figure size 432x288 with 1 Axes>"
      ]
     },
     "metadata": {
      "needs_background": "light"
     },
     "output_type": "display_data"
    }
   ],
   "source": [
    "chart = sns.countplot(x=\"origin\", data=df)\n",
    "_ = chart.set_xticklabels(chart.get_xticklabels(), rotation=45, horizontalalignment='right')"
   ]
  },
  {
   "cell_type": "code",
   "execution_count": 10,
   "metadata": {},
   "outputs": [
    {
     "data": {
      "text/plain": [
       "137685"
      ]
     },
     "execution_count": 10,
     "metadata": {},
     "output_type": "execute_result"
    }
   ],
   "source": [
    "len(df[\"spec\"].unique())"
   ]
  },
  {
   "cell_type": "code",
   "execution_count": 11,
   "metadata": {},
   "outputs": [
    {
     "data": {
      "text/plain": [
       "112753"
      ]
     },
     "execution_count": 11,
     "metadata": {},
     "output_type": "execute_result"
    }
   ],
   "source": [
    "len(df[\"repo\"].unique())"
   ]
  },
  {
   "cell_type": "markdown",
   "metadata": {},
   "source": [
    "Since the \"repo\" and \"ref\" columns are the ones to merge with the specs dataset, it would be useful to see how many unique branches there are."
   ]
  },
  {
   "cell_type": "code",
   "execution_count": 12,
   "metadata": {},
   "outputs": [
    {
     "data": {
      "text/plain": [
       "171770"
      ]
     },
     "execution_count": 12,
     "metadata": {},
     "output_type": "execute_result"
    }
   ],
   "source": [
    "unique_b = len(pd.unique(df[['repo', 'ref']].values.ravel('K')))\n",
    "unique_b"
   ]
  },
  {
   "cell_type": "markdown",
   "metadata": {},
   "source": [
    "This means that on average, each branch has about **81** entries:"
   ]
  },
  {
   "cell_type": "code",
   "execution_count": 13,
   "metadata": {},
   "outputs": [
    {
     "data": {
      "text/plain": [
       "81.19530767887291"
      ]
     },
     "execution_count": 13,
     "metadata": {},
     "output_type": "execute_result"
    }
   ],
   "source": [
    "len(df) / unique_b"
   ]
  },
  {
   "cell_type": "markdown",
   "metadata": {},
   "source": [
    "<a name='repo'></a>\n",
    "## 3. `column`: repo\n",
    "\n",
    "<br>"
   ]
  },
  {
   "cell_type": "code",
   "execution_count": 14,
   "metadata": {},
   "outputs": [
    {
     "data": {
      "text/html": [
       "<div>\n",
       "<style scoped>\n",
       "    .dataframe tbody tr th:only-of-type {\n",
       "        vertical-align: middle;\n",
       "    }\n",
       "\n",
       "    .dataframe tbody tr th {\n",
       "        vertical-align: top;\n",
       "    }\n",
       "\n",
       "    .dataframe thead th {\n",
       "        text-align: right;\n",
       "    }\n",
       "</style>\n",
       "<table border=\"1\" class=\"dataframe\">\n",
       "  <thead>\n",
       "    <tr style=\"text-align: right;\">\n",
       "      <th></th>\n",
       "      <th>index</th>\n",
       "      <th>repo</th>\n",
       "    </tr>\n",
       "  </thead>\n",
       "  <tbody>\n",
       "    <tr>\n",
       "      <th>0</th>\n",
       "      <td>ipython/ipython-in-depth</td>\n",
       "      <td>4972671</td>\n",
       "    </tr>\n",
       "    <tr>\n",
       "      <th>1</th>\n",
       "      <td>jupyterlab/jupyterlab-demo</td>\n",
       "      <td>2573722</td>\n",
       "    </tr>\n",
       "    <tr>\n",
       "      <th>2</th>\n",
       "      <td>binder-examples/requirements</td>\n",
       "      <td>433068</td>\n",
       "    </tr>\n",
       "    <tr>\n",
       "      <th>3</th>\n",
       "      <td>ines/spacy-io-binder</td>\n",
       "      <td>335425</td>\n",
       "    </tr>\n",
       "    <tr>\n",
       "      <th>4</th>\n",
       "      <td>DS-100/textbook</td>\n",
       "      <td>221404</td>\n",
       "    </tr>\n",
       "    <tr>\n",
       "      <th>...</th>\n",
       "      <td>...</td>\n",
       "      <td>...</td>\n",
       "    </tr>\n",
       "    <tr>\n",
       "      <th>112747</th>\n",
       "      <td>https://jovian.ml/api/git/4ce191bcd8de406f83d7...</td>\n",
       "      <td>1</td>\n",
       "    </tr>\n",
       "    <tr>\n",
       "      <th>112748</th>\n",
       "      <td>fperez/5681541</td>\n",
       "      <td>1</td>\n",
       "    </tr>\n",
       "    <tr>\n",
       "      <th>112749</th>\n",
       "      <td>annierak/plume_tracking_statistics</td>\n",
       "      <td>1</td>\n",
       "    </tr>\n",
       "    <tr>\n",
       "      <th>112750</th>\n",
       "      <td>https://jovian.ml/api/git/894f9725330640e4a37f...</td>\n",
       "      <td>1</td>\n",
       "    </tr>\n",
       "    <tr>\n",
       "      <th>112751</th>\n",
       "      <td>naveenkod22/Data-Visualization-With-Python</td>\n",
       "      <td>1</td>\n",
       "    </tr>\n",
       "  </tbody>\n",
       "</table>\n",
       "<p>112752 rows × 2 columns</p>\n",
       "</div>"
      ],
      "text/plain": [
       "                                                    index     repo\n",
       "0                                ipython/ipython-in-depth  4972671\n",
       "1                              jupyterlab/jupyterlab-demo  2573722\n",
       "2                            binder-examples/requirements   433068\n",
       "3                                    ines/spacy-io-binder   335425\n",
       "4                                         DS-100/textbook   221404\n",
       "...                                                   ...      ...\n",
       "112747  https://jovian.ml/api/git/4ce191bcd8de406f83d7...        1\n",
       "112748                                     fperez/5681541        1\n",
       "112749                 annierak/plume_tracking_statistics        1\n",
       "112750  https://jovian.ml/api/git/894f9725330640e4a37f...        1\n",
       "112751         naveenkod22/Data-Visualization-With-Python        1\n",
       "\n",
       "[112752 rows x 2 columns]"
      ]
     },
     "execution_count": 14,
     "metadata": {},
     "output_type": "execute_result"
    }
   ],
   "source": [
    "rp_df = df[\"repo\"].value_counts().to_frame().reset_index()\n",
    "rp_df"
   ]
  },
  {
   "cell_type": "markdown",
   "metadata": {},
   "source": [
    "x axis from 0 to 1000, log style"
   ]
  },
  {
   "cell_type": "code",
   "execution_count": 15,
   "metadata": {},
   "outputs": [
    {
     "data": {
      "image/png": "[encoded data removed]",
      "text/plain": [
       "<Figure size 432x288 with 1 Axes>"
      ]
     },
     "metadata": {
      "needs_background": "light"
     },
     "output_type": "display_data"
    }
   ],
   "source": [
    "_ = plt.hist(rp_df[\"repo\"], bins=(10**(np.arange(0,4))))"
   ]
  },
  {
   "cell_type": "markdown",
   "metadata": {},
   "source": [
    "Same look for any set, like 100 to 10^6."
   ]
  },
  {
   "cell_type": "code",
   "execution_count": 16,
   "metadata": {},
   "outputs": [
    {
     "data": {
      "image/png": "[encoded data removed]",
      "text/plain": [
       "<Figure size 432x288 with 1 Axes>"
      ]
     },
     "metadata": {
      "needs_background": "light"
     },
     "output_type": "display_data"
    }
   ],
   "source": [
    "_ = plt.hist(rp_df[\"repo\"], bins=(10**(np.arange(3,7))))"
   ]
  },
  {
   "cell_type": "markdown",
   "metadata": {},
   "source": [
    "Frequency in each 10^x range."
   ]
  },
  {
   "cell_type": "code",
   "execution_count": 17,
   "metadata": {},
   "outputs": [
    {
     "name": "stdout",
     "output_type": "stream",
     "text": [
      "1-10: 89810\n",
      "10-100: 18374\n",
      "100-1000: 3979\n",
      "1000-10000: 534\n",
      "10000-100000: 44\n",
      "100000-1000000: 9\n",
      "1000000-10000000: 2\n"
     ]
    }
   ],
   "source": [
    "for i in np.arange(7):\n",
    "    amt = len(rp_df[(rp_df[\"repo\"] >= (10**i))][(rp_df[\"repo\"] < (10**(i + 1)))])\n",
    "    print(str(10**i) + \"-\" + str(10**(i + 1)) + \": \" + str(amt))\n",
    "    "
   ]
  },
  {
   "cell_type": "markdown",
   "metadata": {},
   "source": [
    "<a name='lra'></a>\n",
    "## 4. Launches - repo analysis\n",
    "\n",
    "<br>"
   ]
  },
  {
   "cell_type": "markdown",
   "metadata": {},
   "source": [
    "A 1000+ commit repo might be interesting to look at."
   ]
  },
  {
   "cell_type": "code",
   "execution_count": 18,
   "metadata": {},
   "outputs": [
    {
     "data": {
      "text/plain": [
       "'elyra-ai/elyra'"
      ]
     },
     "execution_count": 18,
     "metadata": {},
     "output_type": "execute_result"
    }
   ],
   "source": [
    "tail_repo = rp_df[rp_df[\"repo\"] >= 1000].iloc[-1][\"index\"]\n",
    "tail_repo"
   ]
  },
  {
   "cell_type": "code",
   "execution_count": 19,
   "metadata": {},
   "outputs": [
    {
     "data": {
      "text/html": [
       "<div>\n",
       "<style scoped>\n",
       "    .dataframe tbody tr th:only-of-type {\n",
       "        vertical-align: middle;\n",
       "    }\n",
       "\n",
       "    .dataframe tbody tr th {\n",
       "        vertical-align: top;\n",
       "    }\n",
       "\n",
       "    .dataframe thead th {\n",
       "        text-align: right;\n",
       "    }\n",
       "</style>\n",
       "<table border=\"1\" class=\"dataframe\">\n",
       "  <thead>\n",
       "    <tr style=\"text-align: right;\">\n",
       "      <th></th>\n",
       "      <th>timestamp</th>\n",
       "      <th>version</th>\n",
       "      <th>provider</th>\n",
       "      <th>spec</th>\n",
       "      <th>ref</th>\n",
       "      <th>origin</th>\n",
       "      <th>repo</th>\n",
       "      <th>resolved_ref</th>\n",
       "      <th>org</th>\n",
       "    </tr>\n",
       "  </thead>\n",
       "  <tbody>\n",
       "    <tr>\n",
       "      <th>12883</th>\n",
       "      <td>2021-01-20T09:04:00+00:00</td>\n",
       "      <td>4</td>\n",
       "      <td>GitHub</td>\n",
       "      <td>elyra-ai/elyra/v1.5.3</td>\n",
       "      <td>v1.5.3</td>\n",
       "      <td>gke.mybinder.org</td>\n",
       "      <td>elyra-ai/elyra</td>\n",
       "      <td>9cc85f6329a8b32e089628c98f311fbcc2a9d45a</td>\n",
       "      <td>elyra-ai</td>\n",
       "    </tr>\n",
       "    <tr>\n",
       "      <th>18043</th>\n",
       "      <td>2021-01-20T12:37:00+00:00</td>\n",
       "      <td>4</td>\n",
       "      <td>GitHub</td>\n",
       "      <td>elyra-ai/elyra/v1.5.3</td>\n",
       "      <td>v1.5.3</td>\n",
       "      <td>gesis.mybinder.org</td>\n",
       "      <td>elyra-ai/elyra</td>\n",
       "      <td>9cc85f6329a8b32e089628c98f311fbcc2a9d45a</td>\n",
       "      <td>elyra-ai</td>\n",
       "    </tr>\n",
       "    <tr>\n",
       "      <th>21808</th>\n",
       "      <td>2021-01-20T14:57:00+00:00</td>\n",
       "      <td>4</td>\n",
       "      <td>GitHub</td>\n",
       "      <td>elyra-ai/elyra/v1.5.3</td>\n",
       "      <td>v1.5.3</td>\n",
       "      <td>gke.mybinder.org</td>\n",
       "      <td>elyra-ai/elyra</td>\n",
       "      <td>9cc85f6329a8b32e089628c98f311fbcc2a9d45a</td>\n",
       "      <td>elyra-ai</td>\n",
       "    </tr>\n",
       "    <tr>\n",
       "      <th>31422</th>\n",
       "      <td>2021-01-20T23:16:00+00:00</td>\n",
       "      <td>4</td>\n",
       "      <td>GitHub</td>\n",
       "      <td>elyra-ai/elyra/v1.5.3</td>\n",
       "      <td>v1.5.3</td>\n",
       "      <td>turing.mybinder.org</td>\n",
       "      <td>elyra-ai/elyra</td>\n",
       "      <td>9cc85f6329a8b32e089628c98f311fbcc2a9d45a</td>\n",
       "      <td>elyra-ai</td>\n",
       "    </tr>\n",
       "    <tr>\n",
       "      <th>31565</th>\n",
       "      <td>2021-01-20T23:29:00+00:00</td>\n",
       "      <td>4</td>\n",
       "      <td>GitHub</td>\n",
       "      <td>elyra-ai/elyra/v1.5.3</td>\n",
       "      <td>v1.5.3</td>\n",
       "      <td>turing.mybinder.org</td>\n",
       "      <td>elyra-ai/elyra</td>\n",
       "      <td>9cc85f6329a8b32e089628c98f311fbcc2a9d45a</td>\n",
       "      <td>elyra-ai</td>\n",
       "    </tr>\n",
       "    <tr>\n",
       "      <th>...</th>\n",
       "      <td>...</td>\n",
       "      <td>...</td>\n",
       "      <td>...</td>\n",
       "      <td>...</td>\n",
       "      <td>...</td>\n",
       "      <td>...</td>\n",
       "      <td>...</td>\n",
       "      <td>...</td>\n",
       "      <td>...</td>\n",
       "    </tr>\n",
       "    <tr>\n",
       "      <th>4836578</th>\n",
       "      <td>2020-06-05T16:30:00+00:00</td>\n",
       "      <td>3</td>\n",
       "      <td>GitHub</td>\n",
       "      <td>elyra-ai/elyra/master</td>\n",
       "      <td>master</td>\n",
       "      <td>gesis.mybinder.org</td>\n",
       "      <td>elyra-ai/elyra</td>\n",
       "      <td></td>\n",
       "      <td>elyra-ai</td>\n",
       "    </tr>\n",
       "    <tr>\n",
       "      <th>4837758</th>\n",
       "      <td>2020-06-05T17:37:00+00:00</td>\n",
       "      <td>3</td>\n",
       "      <td>GitHub</td>\n",
       "      <td>elyra-ai/elyra/master</td>\n",
       "      <td>master</td>\n",
       "      <td>gesis.mybinder.org</td>\n",
       "      <td>elyra-ai/elyra</td>\n",
       "      <td></td>\n",
       "      <td>elyra-ai</td>\n",
       "    </tr>\n",
       "    <tr>\n",
       "      <th>5594386</th>\n",
       "      <td>2020-05-03T17:44:00+00:00</td>\n",
       "      <td>3</td>\n",
       "      <td>GitHub</td>\n",
       "      <td>elyra-ai/elyra/master</td>\n",
       "      <td>master</td>\n",
       "      <td>gke.mybinder.org</td>\n",
       "      <td>elyra-ai/elyra</td>\n",
       "      <td></td>\n",
       "      <td>elyra-ai</td>\n",
       "    </tr>\n",
       "    <tr>\n",
       "      <th>5833036</th>\n",
       "      <td>2020-04-23T19:43:00+00:00</td>\n",
       "      <td>3</td>\n",
       "      <td>GitHub</td>\n",
       "      <td>elyra-ai/elyra/master</td>\n",
       "      <td>master</td>\n",
       "      <td>gke.mybinder.org</td>\n",
       "      <td>elyra-ai/elyra</td>\n",
       "      <td></td>\n",
       "      <td>elyra-ai</td>\n",
       "    </tr>\n",
       "    <tr>\n",
       "      <th>6661333</th>\n",
       "      <td>2020-03-18T17:23:00+00:00</td>\n",
       "      <td>3</td>\n",
       "      <td>GitHub</td>\n",
       "      <td>elyra-ai/elyra/master</td>\n",
       "      <td>master</td>\n",
       "      <td>gke.mybinder.org</td>\n",
       "      <td>elyra-ai/elyra</td>\n",
       "      <td></td>\n",
       "      <td>elyra-ai</td>\n",
       "    </tr>\n",
       "  </tbody>\n",
       "</table>\n",
       "<p>1000 rows × 9 columns</p>\n",
       "</div>"
      ],
      "text/plain": [
       "                         timestamp  version provider                   spec  \\\n",
       "12883    2021-01-20T09:04:00+00:00        4   GitHub  elyra-ai/elyra/v1.5.3   \n",
       "18043    2021-01-20T12:37:00+00:00        4   GitHub  elyra-ai/elyra/v1.5.3   \n",
       "21808    2021-01-20T14:57:00+00:00        4   GitHub  elyra-ai/elyra/v1.5.3   \n",
       "31422    2021-01-20T23:16:00+00:00        4   GitHub  elyra-ai/elyra/v1.5.3   \n",
       "31565    2021-01-20T23:29:00+00:00        4   GitHub  elyra-ai/elyra/v1.5.3   \n",
       "...                            ...      ...      ...                    ...   \n",
       "4836578  2020-06-05T16:30:00+00:00        3   GitHub  elyra-ai/elyra/master   \n",
       "4837758  2020-06-05T17:37:00+00:00        3   GitHub  elyra-ai/elyra/master   \n",
       "5594386  2020-05-03T17:44:00+00:00        3   GitHub  elyra-ai/elyra/master   \n",
       "5833036  2020-04-23T19:43:00+00:00        3   GitHub  elyra-ai/elyra/master   \n",
       "6661333  2020-03-18T17:23:00+00:00        3   GitHub  elyra-ai/elyra/master   \n",
       "\n",
       "            ref               origin            repo  \\\n",
       "12883    v1.5.3     gke.mybinder.org  elyra-ai/elyra   \n",
       "18043    v1.5.3   gesis.mybinder.org  elyra-ai/elyra   \n",
       "21808    v1.5.3     gke.mybinder.org  elyra-ai/elyra   \n",
       "31422    v1.5.3  turing.mybinder.org  elyra-ai/elyra   \n",
       "31565    v1.5.3  turing.mybinder.org  elyra-ai/elyra   \n",
       "...         ...                  ...             ...   \n",
       "4836578  master   gesis.mybinder.org  elyra-ai/elyra   \n",
       "4837758  master   gesis.mybinder.org  elyra-ai/elyra   \n",
       "5594386  master     gke.mybinder.org  elyra-ai/elyra   \n",
       "5833036  master     gke.mybinder.org  elyra-ai/elyra   \n",
       "6661333  master     gke.mybinder.org  elyra-ai/elyra   \n",
       "\n",
       "                                     resolved_ref       org  \n",
       "12883    9cc85f6329a8b32e089628c98f311fbcc2a9d45a  elyra-ai  \n",
       "18043    9cc85f6329a8b32e089628c98f311fbcc2a9d45a  elyra-ai  \n",
       "21808    9cc85f6329a8b32e089628c98f311fbcc2a9d45a  elyra-ai  \n",
       "31422    9cc85f6329a8b32e089628c98f311fbcc2a9d45a  elyra-ai  \n",
       "31565    9cc85f6329a8b32e089628c98f311fbcc2a9d45a  elyra-ai  \n",
       "...                                           ...       ...  \n",
       "4836578                                            elyra-ai  \n",
       "4837758                                            elyra-ai  \n",
       "5594386                                            elyra-ai  \n",
       "5833036                                            elyra-ai  \n",
       "6661333                                            elyra-ai  \n",
       "\n",
       "[1000 rows x 9 columns]"
      ]
     },
     "execution_count": 19,
     "metadata": {},
     "output_type": "execute_result"
    }
   ],
   "source": [
    "ra_df = df[df[\"repo\"] == tail_repo]\n",
    "ra_df"
   ]
  },
  {
   "cell_type": "code",
   "execution_count": 26,
   "metadata": {},
   "outputs": [],
   "source": [
    "ra_df.to_pickle(\"./1000repo_launches.pkl\")"
   ]
  },
  {
   "cell_type": "code",
   "execution_count": 27,
   "metadata": {},
   "outputs": [],
   "source": [
    "ra_df = pd.read_pickle(\"./1000repo_launches.pkl\")"
   ]
  },
  {
   "cell_type": "markdown",
   "metadata": {},
   "source": [
    "<a name='merge'></a>\n",
    "## 5. Merge launches+sqlite\n",
    "\n",
    "<br>"
   ]
  },
  {
   "cell_type": "code",
   "execution_count": 24,
   "metadata": {},
   "outputs": [
    {
     "data": {
      "text/plain": [
       "0                 ipython/ipython-in-depth\n",
       "1                 ipython/ipython-in-depth\n",
       "2                 ipython/ipython-in-depth\n",
       "3                 ipython/ipython-in-depth\n",
       "4                 ipython/ipython-in-depth\n",
       "                        ...               \n",
       "7378662    Tylerleonhardt/JupyterNotebooks\n",
       "7378663            fugue-project/tutorials\n",
       "7378664                     h17/fastreport\n",
       "7378665                    ricgama/VLF-LAB\n",
       "7378666                    ricgama/VLF-LAB\n",
       "Name: repo, Length: 7378667, dtype: object"
      ]
     },
     "execution_count": 24,
     "metadata": {},
     "output_type": "execute_result"
    }
   ],
   "source": [
    "con = sqlite3.connect('binder-specs.sqlite')\n",
    "temdf = pd.read_sql('SELECT * FROM specs', con)\n",
    "merged_df = pd.merge(df, temdf,  how='inner', left_on=['repo','ref', \"resolved_ref\"], right_on = ['remote','git_ref', \"resolved_commit\"])\n",
    "merged_df[\"repo\"]\n"
   ]
  },
  {
   "cell_type": "code",
   "execution_count": 21,
   "metadata": {},
   "outputs": [
    {
     "data": {
      "text/html": [
       "<div>\n",
       "<style scoped>\n",
       "    .dataframe tbody tr th:only-of-type {\n",
       "        vertical-align: middle;\n",
       "    }\n",
       "\n",
       "    .dataframe tbody tr th {\n",
       "        vertical-align: top;\n",
       "    }\n",
       "\n",
       "    .dataframe thead th {\n",
       "        text-align: right;\n",
       "    }\n",
       "</style>\n",
       "<table border=\"1\" class=\"dataframe\">\n",
       "  <thead>\n",
       "    <tr style=\"text-align: right;\">\n",
       "      <th></th>\n",
       "      <th>ok</th>\n",
       "      <th>remote</th>\n",
       "      <th>git_ref</th>\n",
       "      <th>git_commit</th>\n",
       "      <th>apt</th>\n",
       "      <th>conda</th>\n",
       "      <th>pip</th>\n",
       "      <th>pipfile</th>\n",
       "      <th>docker</th>\n",
       "      <th>setup</th>\n",
       "      <th>julia</th>\n",
       "      <th>r</th>\n",
       "      <th>nix</th>\n",
       "      <th>postbuild</th>\n",
       "      <th>start</th>\n",
       "      <th>runtime</th>\n",
       "      <th>ls</th>\n",
       "      <th>resolved_commit</th>\n",
       "    </tr>\n",
       "  </thead>\n",
       "  <tbody>\n",
       "    <tr>\n",
       "      <th>0</th>\n",
       "      <td>0</td>\n",
       "      <td>00Kai0/jupyter-book</td>\n",
       "      <td>master</td>\n",
       "      <td></td>\n",
       "      <td>None</td>\n",
       "      <td>None</td>\n",
       "      <td>None</td>\n",
       "      <td>None</td>\n",
       "      <td>None</td>\n",
       "      <td>None</td>\n",
       "      <td>None</td>\n",
       "      <td>None</td>\n",
       "      <td>None</td>\n",
       "      <td>None</td>\n",
       "      <td>None</td>\n",
       "      <td>None</td>\n",
       "      <td>None</td>\n",
       "      <td>None</td>\n",
       "    </tr>\n",
       "    <tr>\n",
       "      <th>1</th>\n",
       "      <td>0</td>\n",
       "      <td>00quanta/practicalAI</td>\n",
       "      <td>master</td>\n",
       "      <td></td>\n",
       "      <td>None</td>\n",
       "      <td>None</td>\n",
       "      <td>None</td>\n",
       "      <td>None</td>\n",
       "      <td>None</td>\n",
       "      <td>None</td>\n",
       "      <td>None</td>\n",
       "      <td>None</td>\n",
       "      <td>None</td>\n",
       "      <td>None</td>\n",
       "      <td>None</td>\n",
       "      <td>None</td>\n",
       "      <td>None</td>\n",
       "      <td>None</td>\n",
       "    </tr>\n",
       "    <tr>\n",
       "      <th>2</th>\n",
       "      <td>0</td>\n",
       "      <td>00quanta/requirements</td>\n",
       "      <td>master</td>\n",
       "      <td></td>\n",
       "      <td>None</td>\n",
       "      <td>None</td>\n",
       "      <td>None</td>\n",
       "      <td>None</td>\n",
       "      <td>None</td>\n",
       "      <td>None</td>\n",
       "      <td>None</td>\n",
       "      <td>None</td>\n",
       "      <td>None</td>\n",
       "      <td>None</td>\n",
       "      <td>None</td>\n",
       "      <td>None</td>\n",
       "      <td>None</td>\n",
       "      <td>None</td>\n",
       "    </tr>\n",
       "    <tr>\n",
       "      <th>3</th>\n",
       "      <td>0</td>\n",
       "      <td>04x/instagramCracker</td>\n",
       "      <td>master</td>\n",
       "      <td></td>\n",
       "      <td>None</td>\n",
       "      <td>None</td>\n",
       "      <td>None</td>\n",
       "      <td>None</td>\n",
       "      <td>None</td>\n",
       "      <td>None</td>\n",
       "      <td>None</td>\n",
       "      <td>None</td>\n",
       "      <td>None</td>\n",
       "      <td>None</td>\n",
       "      <td>None</td>\n",
       "      <td>None</td>\n",
       "      <td>None</td>\n",
       "      <td>None</td>\n",
       "    </tr>\n",
       "    <tr>\n",
       "      <th>4</th>\n",
       "      <td>0</td>\n",
       "      <td>1-Nameless-1/Lign167</td>\n",
       "      <td>59804a761525c729b6b7965e0526f4b4b25d5ddd</td>\n",
       "      <td></td>\n",
       "      <td>None</td>\n",
       "      <td>None</td>\n",
       "      <td>None</td>\n",
       "      <td>None</td>\n",
       "      <td>None</td>\n",
       "      <td>None</td>\n",
       "      <td>None</td>\n",
       "      <td>None</td>\n",
       "      <td>None</td>\n",
       "      <td>None</td>\n",
       "      <td>None</td>\n",
       "      <td>None</td>\n",
       "      <td>None</td>\n",
       "      <td>None</td>\n",
       "    </tr>\n",
       "    <tr>\n",
       "      <th>...</th>\n",
       "      <td>...</td>\n",
       "      <td>...</td>\n",
       "      <td>...</td>\n",
       "      <td>...</td>\n",
       "      <td>...</td>\n",
       "      <td>...</td>\n",
       "      <td>...</td>\n",
       "      <td>...</td>\n",
       "      <td>...</td>\n",
       "      <td>...</td>\n",
       "      <td>...</td>\n",
       "      <td>...</td>\n",
       "      <td>...</td>\n",
       "      <td>...</td>\n",
       "      <td>...</td>\n",
       "      <td>...</td>\n",
       "      <td>...</td>\n",
       "      <td>...</td>\n",
       "    </tr>\n",
       "    <tr>\n",
       "      <th>166074</th>\n",
       "      <td>1</td>\n",
       "      <td>mdpetters/MEA-412-Notebooks</td>\n",
       "      <td>master</td>\n",
       "      <td></td>\n",
       "      <td>None</td>\n",
       "      <td>None</td>\n",
       "      <td>None</td>\n",
       "      <td>None</td>\n",
       "      <td># Dockerfile for building Atmospheric-Physics-...</td>\n",
       "      <td>None</td>\n",
       "      <td>name = \"Atmospheric Physics\"\\nuuid = \"13a5dcd1...</td>\n",
       "      <td>None</td>\n",
       "      <td>None</td>\n",
       "      <td>None</td>\n",
       "      <td>None</td>\n",
       "      <td>None</td>\n",
       "      <td>{\".gitignore\": 12, \".travis.yml\": 822, \"Docker...</td>\n",
       "      <td>e0ff4987ab44c3574b78a5022d244e659cab64ba</td>\n",
       "    </tr>\n",
       "    <tr>\n",
       "      <th>166075</th>\n",
       "      <td>1</td>\n",
       "      <td>mdpetters/mdpetters.github.io</td>\n",
       "      <td>740205b0c280e5d3998a1b1adcfef795c6c44711</td>\n",
       "      <td></td>\n",
       "      <td>None</td>\n",
       "      <td>None</td>\n",
       "      <td>None</td>\n",
       "      <td>None</td>\n",
       "      <td>None</td>\n",
       "      <td>None</td>\n",
       "      <td>None</td>\n",
       "      <td>None</td>\n",
       "      <td>None</td>\n",
       "      <td>None</td>\n",
       "      <td>None</td>\n",
       "      <td>None</td>\n",
       "      <td>{\".ipynb_checkpoints\": {\"Thar Dust Charge Corr...</td>\n",
       "      <td>740205b0c280e5d3998a1b1adcfef795c6c44711</td>\n",
       "    </tr>\n",
       "    <tr>\n",
       "      <th>166076</th>\n",
       "      <td>1</td>\n",
       "      <td>mdpiper/notebooks</td>\n",
       "      <td>master</td>\n",
       "      <td></td>\n",
       "      <td>None</td>\n",
       "      <td>None</td>\n",
       "      <td>None</td>\n",
       "      <td>None</td>\n",
       "      <td>None</td>\n",
       "      <td>None</td>\n",
       "      <td>None</td>\n",
       "      <td>None</td>\n",
       "      <td>None</td>\n",
       "      <td>None</td>\n",
       "      <td>None</td>\n",
       "      <td>None</td>\n",
       "      <td>{\".gitignore\": 1203, \"LICENSE\": 1067, \"README....</td>\n",
       "      <td>5f88f0d6e37eab7125cfded784fe64a07a2cfe73</td>\n",
       "    </tr>\n",
       "    <tr>\n",
       "      <th>166077</th>\n",
       "      <td>1</td>\n",
       "      <td>mdreck/mdreck.github.io</td>\n",
       "      <td>master</td>\n",
       "      <td>222338c70f1e76802bf36769bf3f95bd6940e07a</td>\n",
       "      <td>None</td>\n",
       "      <td>None</td>\n",
       "      <td>None</td>\n",
       "      <td>None</td>\n",
       "      <td>None</td>\n",
       "      <td>None</td>\n",
       "      <td>None</td>\n",
       "      <td>None</td>\n",
       "      <td>None</td>\n",
       "      <td>None</td>\n",
       "      <td>None</td>\n",
       "      <td>None</td>\n",
       "      <td>{\"CHANGELOG.md\": 55635, \"Gemfile\": 37, \"LICENS...</td>\n",
       "      <td>222338c70f1e76802bf36769bf3f95bd6940e07a</td>\n",
       "    </tr>\n",
       "    <tr>\n",
       "      <th>166078</th>\n",
       "      <td>1</td>\n",
       "      <td>mdsmith44/Army_ORSA_Python_Data_Analysis_Tutorial</td>\n",
       "      <td>master</td>\n",
       "      <td>729d216ddfce5e20901b127e357c8f9b51185965</td>\n",
       "      <td>None</td>\n",
       "      <td>None</td>\n",
       "      <td>numpy==1.18.5\\npandas==1.0.5\\nfuzzywuzzy==0.18...</td>\n",
       "      <td>None</td>\n",
       "      <td>None</td>\n",
       "      <td>None</td>\n",
       "      <td>None</td>\n",
       "      <td>None</td>\n",
       "      <td>None</td>\n",
       "      <td>None</td>\n",
       "      <td>None</td>\n",
       "      <td>None</td>\n",
       "      <td>{\".ipynb_checkpoints\": {\"I. Python and Jupyter...</td>\n",
       "      <td>729d216ddfce5e20901b127e357c8f9b51185965</td>\n",
       "    </tr>\n",
       "  </tbody>\n",
       "</table>\n",
       "<p>166079 rows × 18 columns</p>\n",
       "</div>"
      ],
      "text/plain": [
       "        ok                                             remote  \\\n",
       "0        0                                00Kai0/jupyter-book   \n",
       "1        0                               00quanta/practicalAI   \n",
       "2        0                              00quanta/requirements   \n",
       "3        0                               04x/instagramCracker   \n",
       "4        0                               1-Nameless-1/Lign167   \n",
       "...     ..                                                ...   \n",
       "166074   1                        mdpetters/MEA-412-Notebooks   \n",
       "166075   1                      mdpetters/mdpetters.github.io   \n",
       "166076   1                                  mdpiper/notebooks   \n",
       "166077   1                            mdreck/mdreck.github.io   \n",
       "166078   1  mdsmith44/Army_ORSA_Python_Data_Analysis_Tutorial   \n",
       "\n",
       "                                         git_ref  \\\n",
       "0                                         master   \n",
       "1                                         master   \n",
       "2                                         master   \n",
       "3                                         master   \n",
       "4       59804a761525c729b6b7965e0526f4b4b25d5ddd   \n",
       "...                                          ...   \n",
       "166074                                    master   \n",
       "166075  740205b0c280e5d3998a1b1adcfef795c6c44711   \n",
       "166076                                    master   \n",
       "166077                                    master   \n",
       "166078                                    master   \n",
       "\n",
       "                                      git_commit   apt conda  \\\n",
       "0                                                 None  None   \n",
       "1                                                 None  None   \n",
       "2                                                 None  None   \n",
       "3                                                 None  None   \n",
       "4                                                 None  None   \n",
       "...                                          ...   ...   ...   \n",
       "166074                                            None  None   \n",
       "166075                                            None  None   \n",
       "166076                                            None  None   \n",
       "166077  222338c70f1e76802bf36769bf3f95bd6940e07a  None  None   \n",
       "166078  729d216ddfce5e20901b127e357c8f9b51185965  None  None   \n",
       "\n",
       "                                                      pip pipfile  \\\n",
       "0                                                    None    None   \n",
       "1                                                    None    None   \n",
       "2                                                    None    None   \n",
       "3                                                    None    None   \n",
       "4                                                    None    None   \n",
       "...                                                   ...     ...   \n",
       "166074                                               None    None   \n",
       "166075                                               None    None   \n",
       "166076                                               None    None   \n",
       "166077                                               None    None   \n",
       "166078  numpy==1.18.5\\npandas==1.0.5\\nfuzzywuzzy==0.18...    None   \n",
       "\n",
       "                                                   docker setup  \\\n",
       "0                                                    None  None   \n",
       "1                                                    None  None   \n",
       "2                                                    None  None   \n",
       "3                                                    None  None   \n",
       "4                                                    None  None   \n",
       "...                                                   ...   ...   \n",
       "166074  # Dockerfile for building Atmospheric-Physics-...  None   \n",
       "166075                                               None  None   \n",
       "166076                                               None  None   \n",
       "166077                                               None  None   \n",
       "166078                                               None  None   \n",
       "\n",
       "                                                    julia     r   nix  \\\n",
       "0                                                    None  None  None   \n",
       "1                                                    None  None  None   \n",
       "2                                                    None  None  None   \n",
       "3                                                    None  None  None   \n",
       "4                                                    None  None  None   \n",
       "...                                                   ...   ...   ...   \n",
       "166074  name = \"Atmospheric Physics\"\\nuuid = \"13a5dcd1...  None  None   \n",
       "166075                                               None  None  None   \n",
       "166076                                               None  None  None   \n",
       "166077                                               None  None  None   \n",
       "166078                                               None  None  None   \n",
       "\n",
       "       postbuild start runtime  \\\n",
       "0           None  None    None   \n",
       "1           None  None    None   \n",
       "2           None  None    None   \n",
       "3           None  None    None   \n",
       "4           None  None    None   \n",
       "...          ...   ...     ...   \n",
       "166074      None  None    None   \n",
       "166075      None  None    None   \n",
       "166076      None  None    None   \n",
       "166077      None  None    None   \n",
       "166078      None  None    None   \n",
       "\n",
       "                                                       ls  \\\n",
       "0                                                    None   \n",
       "1                                                    None   \n",
       "2                                                    None   \n",
       "3                                                    None   \n",
       "4                                                    None   \n",
       "...                                                   ...   \n",
       "166074  {\".gitignore\": 12, \".travis.yml\": 822, \"Docker...   \n",
       "166075  {\".ipynb_checkpoints\": {\"Thar Dust Charge Corr...   \n",
       "166076  {\".gitignore\": 1203, \"LICENSE\": 1067, \"README....   \n",
       "166077  {\"CHANGELOG.md\": 55635, \"Gemfile\": 37, \"LICENS...   \n",
       "166078  {\".ipynb_checkpoints\": {\"I. Python and Jupyter...   \n",
       "\n",
       "                                 resolved_commit  \n",
       "0                                           None  \n",
       "1                                           None  \n",
       "2                                           None  \n",
       "3                                           None  \n",
       "4                                           None  \n",
       "...                                          ...  \n",
       "166074  e0ff4987ab44c3574b78a5022d244e659cab64ba  \n",
       "166075  740205b0c280e5d3998a1b1adcfef795c6c44711  \n",
       "166076  5f88f0d6e37eab7125cfded784fe64a07a2cfe73  \n",
       "166077  222338c70f1e76802bf36769bf3f95bd6940e07a  \n",
       "166078  729d216ddfce5e20901b127e357c8f9b51185965  \n",
       "\n",
       "[166079 rows x 18 columns]"
      ]
     },
     "execution_count": 21,
     "metadata": {},
     "output_type": "execute_result"
    }
   ],
   "source": [
    "temdf"
   ]
  },
  {
   "cell_type": "markdown",
   "metadata": {},
   "source": [
    "<a name='ra'></a>\n",
    "## 6. Repo Analysis\n",
    "\n",
    "<br>"
   ]
  },
  {
   "cell_type": "code",
   "execution_count": null,
   "metadata": {},
   "outputs": [],
   "source": []
  }
 ],
 "metadata": {
  "kernelspec": {
   "display_name": "Python 3",
   "language": "python",
   "name": "python3"
  },
  "language_info": {
   "codemirror_mode": {
    "name": "ipython",
    "version": 3
   },
   "file_extension": ".py",
   "mimetype": "text/x-python",
   "name": "python",
   "nbconvert_exporter": "python",
   "pygments_lexer": "ipython3",
   "version": "3.7.3"
  }
 },
 "nbformat": 4,
 "nbformat_minor": 2
}
