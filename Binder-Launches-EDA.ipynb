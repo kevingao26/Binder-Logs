{
 "cells": [
  {
   "cell_type": "code",
   "execution_count": 2,
   "metadata": {},
   "outputs": [
    {
     "name": "stdout",
     "output_type": "stream",
     "text": [
      "Requirement already satisfied: pyyaml in c:\\users\\kevin\\anaconda3\\lib\\site-packages (5.3.1)\n",
      "Requirement already satisfied: matplotlib-venn in c:\\users\\kevin\\anaconda3\\lib\\site-packages (0.11.6)\n",
      "Requirement already satisfied: numpy in c:\\users\\kevin\\anaconda3\\lib\\site-packages (from matplotlib-venn) (1.19.2)\n",
      "Requirement already satisfied: matplotlib in c:\\users\\kevin\\anaconda3\\lib\\site-packages (from matplotlib-venn) (3.3.2)\n",
      "Requirement already satisfied: scipy in c:\\users\\kevin\\anaconda3\\lib\\site-packages (from matplotlib-venn) (1.5.2)\n",
      "Requirement already satisfied: pillow>=6.2.0 in c:\\users\\kevin\\anaconda3\\lib\\site-packages (from matplotlib->matplotlib-venn) (8.0.1)\n",
      "Requirement already satisfied: python-dateutil>=2.1 in c:\\users\\kevin\\anaconda3\\lib\\site-packages (from matplotlib->matplotlib-venn) (2.8.1)\n",
      "Requirement already satisfied: cycler>=0.10 in c:\\users\\kevin\\anaconda3\\lib\\site-packages (from matplotlib->matplotlib-venn) (0.10.0)\n",
      "Requirement already satisfied: kiwisolver>=1.0.1 in c:\\users\\kevin\\anaconda3\\lib\\site-packages (from matplotlib->matplotlib-venn) (1.3.0)\n",
      "Requirement already satisfied: pyparsing!=2.0.4,!=2.1.2,!=2.1.6,>=2.0.3 in c:\\users\\kevin\\anaconda3\\lib\\site-packages (from matplotlib->matplotlib-venn) (2.4.7)\n",
      "Requirement already satisfied: certifi>=2020.06.20 in c:\\users\\kevin\\anaconda3\\lib\\site-packages (from matplotlib->matplotlib-venn) (2020.6.20)\n",
      "Requirement already satisfied: six>=1.5 in c:\\users\\kevin\\anaconda3\\lib\\site-packages (from python-dateutil>=2.1->matplotlib->matplotlib-venn) (1.15.0)\n"
     ]
    }
   ],
   "source": [
    "!pip install pyyaml\n",
    "!pip install matplotlib-venn"
   ]
  },
  {
   "cell_type": "code",
   "execution_count": 1,
   "metadata": {},
   "outputs": [],
   "source": [
    "import numpy as np\n",
    "import pandas as pd\n",
    "import dask.dataframe as dd\n",
    "import matplotlib.pyplot as plt\n",
    "import pickle\n",
    "import seaborn as sns\n",
    "sns.set_style(\"whitegrid\")\n",
    "from pprint import pprint\n",
    "import sqlite3\n",
    "import yaml\n",
    "import re\n",
    "import datetime\n",
    "\n",
    "try: # for pip >= 10\n",
    "    from pip._internal.req import parse_requirements\n",
    "except ImportError: # for pip <= 9.0.3\n",
    "    from pip.req import parse_requirements\n",
    "\n",
    "from matplotlib_venn import venn2, venn2_circles, venn2_unweighted\n",
    "from matplotlib_venn import venn3, venn3_circles\n",
    "from matplotlib import pyplot as plt\n",
    "%matplotlib inline\n",
    "\n",
    "# Code for hiding seaborn warnings\n",
    "import warnings\n",
    "warnings.filterwarnings(\"ignore\")"
   ]
  },
  {
   "cell_type": "markdown",
   "metadata": {},
   "source": [
    "## Easier navigation:\n",
    "\n",
    "------------------------------------\n",
    "\n",
    "### 1. <a href='#setup'>Setup</a>\n",
    "------------------------------------\n",
    "### 2. <a href='#cdist'>Column distributions</a>\n",
    "### 3. <a href='#ok'>`column`: ok</a>\n",
    "### 4. <a href='#seda'>Spec EDA</a>\n",
    "### 5. <a href='#sinp'>Sample Inputs for each column</a>\n",
    "------------------------------------\n",
    "### 6. <a href='#conda'>`column`: conda - parse</a>\n",
    "### 7. <a href='#pip'>`column`: pip - parse</a>\n",
    "### 8. <a href='#dpdf'>Building a dependency df on conda/pip</a>\n",
    "------------------------------------"
   ]
  },
  {
   "cell_type": "markdown",
   "metadata": {},
   "source": [
    "<a name='setup'></a>\n",
    "## 1. Setup\n",
    "\n",
    "<br>"
   ]
  },
  {
   "cell_type": "code",
   "execution_count": 2,
   "metadata": {},
   "outputs": [],
   "source": [
    "con = sqlite3.connect('binder-launches.db')\n",
    "df = pd.read_sql('SELECT * FROM binder', con)"
   ]
  },
  {
   "cell_type": "code",
   "execution_count": 3,
   "metadata": {},
   "outputs": [
    {
     "data": {
      "text/plain": [
       "Index(['timestamp', 'version', 'provider', 'spec', 'ref', 'origin', 'repo',\n",
       "       'resolved_ref', 'org'],\n",
       "      dtype='object')"
      ]
     },
     "execution_count": 3,
     "metadata": {},
     "output_type": "execute_result"
    }
   ],
   "source": [
    "df.columns"
   ]
  },
  {
   "cell_type": "code",
   "execution_count": 4,
   "metadata": {},
   "outputs": [
    {
     "data": {
      "text/html": [
       "<div>\n",
       "<style scoped>\n",
       "    .dataframe tbody tr th:only-of-type {\n",
       "        vertical-align: middle;\n",
       "    }\n",
       "\n",
       "    .dataframe tbody tr th {\n",
       "        vertical-align: top;\n",
       "    }\n",
       "\n",
       "    .dataframe thead th {\n",
       "        text-align: right;\n",
       "    }\n",
       "</style>\n",
       "<table border=\"1\" class=\"dataframe\">\n",
       "  <thead>\n",
       "    <tr style=\"text-align: right;\">\n",
       "      <th></th>\n",
       "      <th>timestamp</th>\n",
       "      <th>version</th>\n",
       "      <th>provider</th>\n",
       "      <th>spec</th>\n",
       "      <th>ref</th>\n",
       "      <th>origin</th>\n",
       "      <th>repo</th>\n",
       "      <th>resolved_ref</th>\n",
       "      <th>org</th>\n",
       "    </tr>\n",
       "  </thead>\n",
       "  <tbody>\n",
       "    <tr>\n",
       "      <th>0</th>\n",
       "      <td>2021-01-21T00:00:00+00:00</td>\n",
       "      <td>4</td>\n",
       "      <td>GitHub</td>\n",
       "      <td>ipython/ipython-in-depth/master</td>\n",
       "      <td>master</td>\n",
       "      <td>turing.mybinder.org</td>\n",
       "      <td>ipython/ipython-in-depth</td>\n",
       "      <td>7e5ce96cc9251083979efdfc393425f1229a4a68</td>\n",
       "      <td>ipython</td>\n",
       "    </tr>\n",
       "    <tr>\n",
       "      <th>1</th>\n",
       "      <td>2021-01-21T00:00:00+00:00</td>\n",
       "      <td>4</td>\n",
       "      <td>GitHub</td>\n",
       "      <td>ipython/ipython-in-depth/master</td>\n",
       "      <td>master</td>\n",
       "      <td>turing.mybinder.org</td>\n",
       "      <td>ipython/ipython-in-depth</td>\n",
       "      <td>7e5ce96cc9251083979efdfc393425f1229a4a68</td>\n",
       "      <td>ipython</td>\n",
       "    </tr>\n",
       "    <tr>\n",
       "      <th>2</th>\n",
       "      <td>2021-01-21T00:00:00+00:00</td>\n",
       "      <td>4</td>\n",
       "      <td>GitHub</td>\n",
       "      <td>jupyterlab/jupyterlab-demo/master</td>\n",
       "      <td>master</td>\n",
       "      <td>turing.mybinder.org</td>\n",
       "      <td>jupyterlab/jupyterlab-demo</td>\n",
       "      <td>79184a07d47cf03787b39cfc345da98794d76554</td>\n",
       "      <td>jupyterlab</td>\n",
       "    </tr>\n",
       "    <tr>\n",
       "      <th>3</th>\n",
       "      <td>2021-01-21T00:00:00+00:00</td>\n",
       "      <td>4</td>\n",
       "      <td>GitHub</td>\n",
       "      <td>qiskit-community/qiskit-textbook/thebe-stable</td>\n",
       "      <td>thebe-stable</td>\n",
       "      <td>turing.mybinder.org</td>\n",
       "      <td>qiskit-community/qiskit-textbook</td>\n",
       "      <td>5427cf2721cc352a522832a67845d6b59e04666b</td>\n",
       "      <td>qiskit-community</td>\n",
       "    </tr>\n",
       "    <tr>\n",
       "      <th>4</th>\n",
       "      <td>2021-01-21T00:00:00+00:00</td>\n",
       "      <td>4</td>\n",
       "      <td>GitHub</td>\n",
       "      <td>furnstahl/5300-notebooks/master</td>\n",
       "      <td>master</td>\n",
       "      <td>gke.mybinder.org</td>\n",
       "      <td>furnstahl/5300-notebooks</td>\n",
       "      <td>aa03b995e36957a72fee85be8d2a52aea451422a</td>\n",
       "      <td>furnstahl</td>\n",
       "    </tr>\n",
       "    <tr>\n",
       "      <th>...</th>\n",
       "      <td>...</td>\n",
       "      <td>...</td>\n",
       "      <td>...</td>\n",
       "      <td>...</td>\n",
       "      <td>...</td>\n",
       "      <td>...</td>\n",
       "      <td>...</td>\n",
       "      <td>...</td>\n",
       "      <td>...</td>\n",
       "    </tr>\n",
       "    <tr>\n",
       "      <th>13946913</th>\n",
       "      <td>2018-11-03T23:58:00+00:00</td>\n",
       "      <td>1</td>\n",
       "      <td>GitHub</td>\n",
       "      <td>ipython/ipython-in-depth/master</td>\n",
       "      <td>master</td>\n",
       "      <td>None</td>\n",
       "      <td>ipython/ipython-in-depth</td>\n",
       "      <td></td>\n",
       "      <td>ipython</td>\n",
       "    </tr>\n",
       "    <tr>\n",
       "      <th>13946914</th>\n",
       "      <td>2018-11-03T23:58:00+00:00</td>\n",
       "      <td>1</td>\n",
       "      <td>GitHub</td>\n",
       "      <td>ipython/ipython-in-depth/master</td>\n",
       "      <td>master</td>\n",
       "      <td>None</td>\n",
       "      <td>ipython/ipython-in-depth</td>\n",
       "      <td></td>\n",
       "      <td>ipython</td>\n",
       "    </tr>\n",
       "    <tr>\n",
       "      <th>13946915</th>\n",
       "      <td>2018-11-03T23:58:00+00:00</td>\n",
       "      <td>1</td>\n",
       "      <td>GitHub</td>\n",
       "      <td>ines/spacy-io-binder/live</td>\n",
       "      <td>live</td>\n",
       "      <td>None</td>\n",
       "      <td>ines/spacy-io-binder</td>\n",
       "      <td></td>\n",
       "      <td>ines</td>\n",
       "    </tr>\n",
       "    <tr>\n",
       "      <th>13946916</th>\n",
       "      <td>2018-11-03T23:58:00+00:00</td>\n",
       "      <td>1</td>\n",
       "      <td>GitHub</td>\n",
       "      <td>ipython/ipython-in-depth/master</td>\n",
       "      <td>master</td>\n",
       "      <td>None</td>\n",
       "      <td>ipython/ipython-in-depth</td>\n",
       "      <td></td>\n",
       "      <td>ipython</td>\n",
       "    </tr>\n",
       "    <tr>\n",
       "      <th>13946917</th>\n",
       "      <td>2018-11-03T23:59:00+00:00</td>\n",
       "      <td>1</td>\n",
       "      <td>GitHub</td>\n",
       "      <td>ipython/ipython-in-depth/master</td>\n",
       "      <td>master</td>\n",
       "      <td>None</td>\n",
       "      <td>ipython/ipython-in-depth</td>\n",
       "      <td></td>\n",
       "      <td>ipython</td>\n",
       "    </tr>\n",
       "  </tbody>\n",
       "</table>\n",
       "<p>13946918 rows × 9 columns</p>\n",
       "</div>"
      ],
      "text/plain": [
       "                          timestamp  version provider  \\\n",
       "0         2021-01-21T00:00:00+00:00        4   GitHub   \n",
       "1         2021-01-21T00:00:00+00:00        4   GitHub   \n",
       "2         2021-01-21T00:00:00+00:00        4   GitHub   \n",
       "3         2021-01-21T00:00:00+00:00        4   GitHub   \n",
       "4         2021-01-21T00:00:00+00:00        4   GitHub   \n",
       "...                             ...      ...      ...   \n",
       "13946913  2018-11-03T23:58:00+00:00        1   GitHub   \n",
       "13946914  2018-11-03T23:58:00+00:00        1   GitHub   \n",
       "13946915  2018-11-03T23:58:00+00:00        1   GitHub   \n",
       "13946916  2018-11-03T23:58:00+00:00        1   GitHub   \n",
       "13946917  2018-11-03T23:59:00+00:00        1   GitHub   \n",
       "\n",
       "                                                   spec           ref  \\\n",
       "0                       ipython/ipython-in-depth/master        master   \n",
       "1                       ipython/ipython-in-depth/master        master   \n",
       "2                     jupyterlab/jupyterlab-demo/master        master   \n",
       "3         qiskit-community/qiskit-textbook/thebe-stable  thebe-stable   \n",
       "4                       furnstahl/5300-notebooks/master        master   \n",
       "...                                                 ...           ...   \n",
       "13946913                ipython/ipython-in-depth/master        master   \n",
       "13946914                ipython/ipython-in-depth/master        master   \n",
       "13946915                      ines/spacy-io-binder/live          live   \n",
       "13946916                ipython/ipython-in-depth/master        master   \n",
       "13946917                ipython/ipython-in-depth/master        master   \n",
       "\n",
       "                       origin                              repo  \\\n",
       "0         turing.mybinder.org          ipython/ipython-in-depth   \n",
       "1         turing.mybinder.org          ipython/ipython-in-depth   \n",
       "2         turing.mybinder.org        jupyterlab/jupyterlab-demo   \n",
       "3         turing.mybinder.org  qiskit-community/qiskit-textbook   \n",
       "4            gke.mybinder.org          furnstahl/5300-notebooks   \n",
       "...                       ...                               ...   \n",
       "13946913                 None          ipython/ipython-in-depth   \n",
       "13946914                 None          ipython/ipython-in-depth   \n",
       "13946915                 None              ines/spacy-io-binder   \n",
       "13946916                 None          ipython/ipython-in-depth   \n",
       "13946917                 None          ipython/ipython-in-depth   \n",
       "\n",
       "                                      resolved_ref               org  \n",
       "0         7e5ce96cc9251083979efdfc393425f1229a4a68           ipython  \n",
       "1         7e5ce96cc9251083979efdfc393425f1229a4a68           ipython  \n",
       "2         79184a07d47cf03787b39cfc345da98794d76554        jupyterlab  \n",
       "3         5427cf2721cc352a522832a67845d6b59e04666b  qiskit-community  \n",
       "4         aa03b995e36957a72fee85be8d2a52aea451422a         furnstahl  \n",
       "...                                            ...               ...  \n",
       "13946913                                                     ipython  \n",
       "13946914                                                     ipython  \n",
       "13946915                                                        ines  \n",
       "13946916                                                     ipython  \n",
       "13946917                                                     ipython  \n",
       "\n",
       "[13946918 rows x 9 columns]"
      ]
     },
     "execution_count": 4,
     "metadata": {},
     "output_type": "execute_result"
    }
   ],
   "source": [
    "df"
   ]
  },
  {
   "cell_type": "code",
   "execution_count": 5,
   "metadata": {},
   "outputs": [],
   "source": [
    "dash = '-' * 60"
   ]
  },
  {
   "cell_type": "markdown",
   "metadata": {},
   "source": [
    "<a name='cdist'></a>\n",
    "## 2. Column distributions\n",
    "\n",
    "<br>"
   ]
  },
  {
   "cell_type": "code",
   "execution_count": 6,
   "metadata": {},
   "outputs": [
    {
     "data": {
      "text/plain": [
       "<AxesSubplot:xlabel='version', ylabel='count'>"
      ]
     },
     "execution_count": 6,
     "metadata": {},
     "output_type": "execute_result"
    },
    {
     "data": {
      "image/png": "[encoded data removed]",
      "text/plain": [
       "<Figure size 432x288 with 1 Axes>"
      ]
     },
     "metadata": {
      "needs_background": "light"
     },
     "output_type": "display_data"
    }
   ],
   "source": [
    "sns.countplot(x=\"version\", data=df)"
   ]
  },
  {
   "cell_type": "code",
   "execution_count": 7,
   "metadata": {},
   "outputs": [
    {
     "data": {
      "text/plain": [
       "<AxesSubplot:xlabel='provider', ylabel='count'>"
      ]
     },
     "execution_count": 7,
     "metadata": {},
     "output_type": "execute_result"
    },
    {
     "data": {
      "image/png": "[encoded data removed]",
      "text/plain": [
       "<Figure size 432x288 with 1 Axes>"
      ]
     },
     "metadata": {
      "needs_background": "light"
     },
     "output_type": "display_data"
    }
   ],
   "source": [
    "sns.countplot(x=\"provider\", data=df)"
   ]
  },
  {
   "cell_type": "code",
   "execution_count": 8,
   "metadata": {},
   "outputs": [
    {
     "data": {
      "text/plain": [
       "112753"
      ]
     },
     "execution_count": 8,
     "metadata": {},
     "output_type": "execute_result"
    }
   ],
   "source": [
    "len(df[\"repo\"].unique())"
   ]
  },
  {
   "cell_type": "markdown",
   "metadata": {},
   "source": [
    "Since the \"repo\" and \"ref\" columns are the ones to merge with the specs dataset, it would be useful to see how many unique branches there are."
   ]
  },
  {
   "cell_type": "code",
   "execution_count": 9,
   "metadata": {},
   "outputs": [
    {
     "data": {
      "text/plain": [
       "171770"
      ]
     },
     "execution_count": 9,
     "metadata": {},
     "output_type": "execute_result"
    }
   ],
   "source": [
    "unique_b = len(pd.unique(df[['repo', 'ref']].values.ravel('K')))\n",
    "unique_b"
   ]
  },
  {
   "cell_type": "markdown",
   "metadata": {},
   "source": [
    "This means that on average, each branch has about ~ entries:"
   ]
  },
  {
   "cell_type": "code",
   "execution_count": 10,
   "metadata": {},
   "outputs": [
    {
     "data": {
      "text/plain": [
       "81.19530767887291"
      ]
     },
     "execution_count": 10,
     "metadata": {},
     "output_type": "execute_result"
    }
   ],
   "source": [
    "len(df) / unique_b"
   ]
  },
  {
   "cell_type": "markdown",
   "metadata": {},
   "source": []
  },
  {
   "cell_type": "code",
   "execution_count": 11,
   "metadata": {},
   "outputs": [],
   "source": [
    "con = sqlite3.connect('binder-specs.sqlite')\n",
    "temdf = pd.read_sql('SELECT * FROM specs', con)"
   ]
  },
  {
   "cell_type": "code",
   "execution_count": 12,
   "metadata": {},
   "outputs": [],
   "source": [
    "merged_df = pd.merge(df, temdf,  how='left', left_on=['repo','ref'], right_on = ['remote','git_ref'])"
   ]
  },
  {
   "cell_type": "code",
   "execution_count": 14,
   "metadata": {},
   "outputs": [
    {
     "data": {
      "text/plain": [
       "0             ipython/ipython-in-depth\n",
       "1             ipython/ipython-in-depth\n",
       "2             ipython/ipython-in-depth\n",
       "3             ipython/ipython-in-depth\n",
       "4           jupyterlab/jupyterlab-demo\n",
       "                       ...            \n",
       "62466012          ines/spacy-io-binder\n",
       "62466013      ipython/ipython-in-depth\n",
       "62466014      ipython/ipython-in-depth\n",
       "62466015      ipython/ipython-in-depth\n",
       "62466016      ipython/ipython-in-depth\n",
       "Name: repo, Length: 62466017, dtype: object"
      ]
     },
     "execution_count": 14,
     "metadata": {},
     "output_type": "execute_result"
    }
   ],
   "source": [
    "merged_df[\"repo\"]"
   ]
  },
  {
   "cell_type": "code",
   "execution_count": null,
   "metadata": {},
   "outputs": [],
   "source": []
  }
 ],
 "metadata": {
  "kernelspec": {
   "display_name": "Python 3",
   "language": "python",
   "name": "python3"
  },
  "language_info": {
   "codemirror_mode": {
    "name": "ipython",
    "version": 3
   },
   "file_extension": ".py",
   "mimetype": "text/x-python",
   "name": "python",
   "nbconvert_exporter": "python",
   "pygments_lexer": "ipython3",
   "version": "3.8.5"
  }
 },
 "nbformat": 4,
 "nbformat_minor": 4
}
