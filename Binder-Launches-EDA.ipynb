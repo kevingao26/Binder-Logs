{
 "cells": [
  {
   "cell_type": "code",
   "execution_count": 43,
   "metadata": {},
   "outputs": [
    {
     "name": "stdout",
     "output_type": "stream",
     "text": [
      "Collecting maya\n",
      "  Downloading https://files.pythonhosted.org/packages/1d/56/789ebf410acc1491bf4078ef57a7a277b42c0b18f43e17007bfb6c1caaf3/maya-0.6.1-py2.py3-none-any.whl\n",
      "Collecting snaptime (from maya)\n",
      "  Downloading https://files.pythonhosted.org/packages/f3/f4/cb818c9bfdac4605f13296f7fcfe068aee7d1c3aa89f8cc22a064c1fab20/snaptime-0.2.4.tar.gz\n",
      "Collecting pendulum>=2.0.2 (from maya)\n",
      "\u001b[?25l  Downloading https://files.pythonhosted.org/packages/3e/40/bcf73cf69ffc4d68b80b68b5ce4e5f9d8185170e9fac65a73e247e948ff3/pendulum-2.1.2-cp37-cp37m-manylinux1_x86_64.whl (155kB)\n",
      "\u001b[K     |████████████████████████████████| 163kB 11.1MB/s eta 0:00:01\n",
      "\u001b[?25hCollecting humanize (from maya)\n",
      "\u001b[?25l  Downloading https://files.pythonhosted.org/packages/39/b4/7818fb74862be6b5489fad4d7aae34e094834474e0cf99d7c69fa0fa4405/humanize-3.7.1-py3-none-any.whl (80kB)\n",
      "\u001b[K     |████████████████████████████████| 81kB 18.7MB/s eta 0:00:01\n",
      "\u001b[?25hRequirement already satisfied: pytz in /home/ubuntu/snap/jupyter/common/lib/python3.7/site-packages (from maya) (2021.1)\n",
      "Collecting tzlocal (from maya)\n",
      "  Downloading https://files.pythonhosted.org/packages/5d/94/d47b0fd5988e6b7059de05720a646a2930920fff247a826f61674d436ba4/tzlocal-2.1-py2.py3-none-any.whl\n",
      "Collecting dateparser>=0.7.0 (from maya)\n",
      "\u001b[?25l  Downloading https://files.pythonhosted.org/packages/78/c4/b5ddc3eeac974d85055d88c1e6b62cc492fc1a93dbe3b66a45a756a7b807/dateparser-1.0.0-py2.py3-none-any.whl (279kB)\n",
      "\u001b[K     |████████████████████████████████| 286kB 34.7MB/s eta 0:00:01\n",
      "\u001b[?25hRequirement already satisfied: python-dateutil in /snap/jupyter/6/lib/python3.7/site-packages (from snaptime->maya) (2.8.0)\n",
      "Collecting pytzdata>=2020.1 (from pendulum>=2.0.2->maya)\n",
      "\u001b[?25l  Downloading https://files.pythonhosted.org/packages/e0/4f/4474bda990ee740a020cbc3eb271925ef7daa7c8444240d34ff62c8442a3/pytzdata-2020.1-py2.py3-none-any.whl (489kB)\n",
      "\u001b[K     |████████████████████████████████| 491kB 38.7MB/s eta 0:00:01\n",
      "\u001b[?25hRequirement already satisfied: setuptools in /snap/jupyter/6/lib/python3.7/site-packages (from humanize->maya) (41.0.1)\n",
      "Collecting regex!=2019.02.19 (from dateparser>=0.7.0->maya)\n",
      "\u001b[?25l  Downloading https://files.pythonhosted.org/packages/b5/75/fdbf7f0156d8d6181e316cd7d2da7bdeebd66858cc6663c751c41dd99d64/regex-2021.4.4-cp37-cp37m-manylinux2010_x86_64.whl (665kB)\n",
      "\u001b[K     |████████████████████████████████| 665kB 33.6MB/s eta 0:00:01\n",
      "\u001b[?25hRequirement already satisfied: six>=1.5 in /snap/jupyter/6/lib/python3.7/site-packages (from python-dateutil->snaptime->maya) (1.12.0)\n",
      "Building wheels for collected packages: snaptime\n",
      "  Building wheel for snaptime (setup.py) ... \u001b[?25ldone\n",
      "\u001b[?25h  Stored in directory: /home/ubuntu/snap/jupyter/6/.cache/pip/wheels/59/e3/55/b528efc85cc6a85b6ac7b7d7af10e82b09d1299c49aeddeaf3\n",
      "Successfully built snaptime\n",
      "Installing collected packages: snaptime, pytzdata, pendulum, humanize, tzlocal, regex, dateparser, maya\n",
      "Successfully installed dateparser-1.0.0 humanize-3.7.1 maya-0.6.1 pendulum-2.1.2 pytzdata-2020.1 regex-2021.4.4 snaptime-0.2.4 tzlocal-2.1\n"
     ]
    }
   ],
   "source": [
    "'''\n",
    "!pip install pyyaml\n",
    "!pip install matplotlib-venn\n",
    "!pip install numpy\n",
    "!pip install maya\n",
    "'''"
   ]
  },
  {
   "cell_type": "code",
   "execution_count": 44,
   "metadata": {},
   "outputs": [],
   "source": [
    "import numpy as np\n",
    "import pandas as pd\n",
    "import dask.dataframe as dd\n",
    "import matplotlib.pyplot as plt\n",
    "import pickle\n",
    "import seaborn as sns\n",
    "sns.set_style(\"whitegrid\")\n",
    "from pprint import pprint\n",
    "import sqlite3\n",
    "import yaml\n",
    "import re\n",
    "from datetime import datetime\n",
    "import maya\n",
    "\n",
    "try: # for pip >= 10\n",
    "    from pip._internal.req import parse_requirements\n",
    "except ImportError: # for pip <= 9.0.3\n",
    "    from pip.req import parse_requirements\n",
    "\n",
    "from matplotlib_venn import venn2, venn2_circles, venn2_unweighted\n",
    "from matplotlib_venn import venn3, venn3_circles\n",
    "from matplotlib import pyplot as plt\n",
    "%matplotlib inline\n",
    "\n",
    "# Code for hiding seaborn warnings\n",
    "import warnings\n",
    "warnings.filterwarnings(\"ignore\")"
   ]
  },
  {
   "cell_type": "markdown",
   "metadata": {},
   "source": [
    "## Easier navigation:\n",
    "\n",
    "------------------------------------\n",
    "\n",
    "### 1. <a href='#setup'>Setup</a>\n",
    "------------------------------------\n",
    "### 2. <a href='#cdist'>Column distributions</a>\n",
    "### 3. <a href='#merge'>Merge launches+sqlite</a>\n",
    "------------------------------------\n",
    "### 4. <a href='#repo'>`column`: repo</a>\n",
    "### 5. <a href='#repo'>Launches - repo analysis</a>\n",
    "### 6. <a href='#ti'>Timestamp Init & Difference</a>\n",
    "### 7. <a href='#ni'>Next interval</a>\n",
    "### 8. <a href='#tieda'>Timestamp Weekday EDA</a>\n",
    "### 9. <a href='#btd'>Batched S4-8</a>\n",
    "------------------------------------"
   ]
  },
  {
   "cell_type": "markdown",
   "metadata": {},
   "source": [
    "<a name='setup'></a>\n",
    "## 1. Setup\n",
    "\n",
    "<br>"
   ]
  },
  {
   "cell_type": "code",
   "execution_count": 4,
   "metadata": {},
   "outputs": [],
   "source": [
    "con = sqlite3.connect('binder-launches.db')\n",
    "df = pd.read_sql('SELECT * FROM binder', con)"
   ]
  },
  {
   "cell_type": "code",
   "execution_count": 5,
   "metadata": {},
   "outputs": [
    {
     "data": {
      "text/plain": [
       "Index(['timestamp', 'version', 'provider', 'spec', 'ref', 'origin', 'repo',\n",
       "       'resolved_ref', 'org'],\n",
       "      dtype='object')"
      ]
     },
     "execution_count": 5,
     "metadata": {},
     "output_type": "execute_result"
    }
   ],
   "source": [
    "df.columns"
   ]
  },
  {
   "cell_type": "code",
   "execution_count": 6,
   "metadata": {},
   "outputs": [
    {
     "data": {
      "text/html": [
       "<div>\n",
       "<style scoped>\n",
       "    .dataframe tbody tr th:only-of-type {\n",
       "        vertical-align: middle;\n",
       "    }\n",
       "\n",
       "    .dataframe tbody tr th {\n",
       "        vertical-align: top;\n",
       "    }\n",
       "\n",
       "    .dataframe thead th {\n",
       "        text-align: right;\n",
       "    }\n",
       "</style>\n",
       "<table border=\"1\" class=\"dataframe\">\n",
       "  <thead>\n",
       "    <tr style=\"text-align: right;\">\n",
       "      <th></th>\n",
       "      <th>timestamp</th>\n",
       "      <th>version</th>\n",
       "      <th>provider</th>\n",
       "      <th>spec</th>\n",
       "      <th>ref</th>\n",
       "      <th>origin</th>\n",
       "      <th>repo</th>\n",
       "      <th>resolved_ref</th>\n",
       "      <th>org</th>\n",
       "    </tr>\n",
       "  </thead>\n",
       "  <tbody>\n",
       "    <tr>\n",
       "      <th>0</th>\n",
       "      <td>2021-01-21T00:00:00+00:00</td>\n",
       "      <td>4</td>\n",
       "      <td>GitHub</td>\n",
       "      <td>ipython/ipython-in-depth/master</td>\n",
       "      <td>master</td>\n",
       "      <td>turing.mybinder.org</td>\n",
       "      <td>ipython/ipython-in-depth</td>\n",
       "      <td>7e5ce96cc9251083979efdfc393425f1229a4a68</td>\n",
       "      <td>ipython</td>\n",
       "    </tr>\n",
       "    <tr>\n",
       "      <th>1</th>\n",
       "      <td>2021-01-21T00:00:00+00:00</td>\n",
       "      <td>4</td>\n",
       "      <td>GitHub</td>\n",
       "      <td>ipython/ipython-in-depth/master</td>\n",
       "      <td>master</td>\n",
       "      <td>turing.mybinder.org</td>\n",
       "      <td>ipython/ipython-in-depth</td>\n",
       "      <td>7e5ce96cc9251083979efdfc393425f1229a4a68</td>\n",
       "      <td>ipython</td>\n",
       "    </tr>\n",
       "    <tr>\n",
       "      <th>2</th>\n",
       "      <td>2021-01-21T00:00:00+00:00</td>\n",
       "      <td>4</td>\n",
       "      <td>GitHub</td>\n",
       "      <td>jupyterlab/jupyterlab-demo/master</td>\n",
       "      <td>master</td>\n",
       "      <td>turing.mybinder.org</td>\n",
       "      <td>jupyterlab/jupyterlab-demo</td>\n",
       "      <td>79184a07d47cf03787b39cfc345da98794d76554</td>\n",
       "      <td>jupyterlab</td>\n",
       "    </tr>\n",
       "    <tr>\n",
       "      <th>3</th>\n",
       "      <td>2021-01-21T00:00:00+00:00</td>\n",
       "      <td>4</td>\n",
       "      <td>GitHub</td>\n",
       "      <td>qiskit-community/qiskit-textbook/thebe-stable</td>\n",
       "      <td>thebe-stable</td>\n",
       "      <td>turing.mybinder.org</td>\n",
       "      <td>qiskit-community/qiskit-textbook</td>\n",
       "      <td>5427cf2721cc352a522832a67845d6b59e04666b</td>\n",
       "      <td>qiskit-community</td>\n",
       "    </tr>\n",
       "    <tr>\n",
       "      <th>4</th>\n",
       "      <td>2021-01-21T00:00:00+00:00</td>\n",
       "      <td>4</td>\n",
       "      <td>GitHub</td>\n",
       "      <td>furnstahl/5300-notebooks/master</td>\n",
       "      <td>master</td>\n",
       "      <td>gke.mybinder.org</td>\n",
       "      <td>furnstahl/5300-notebooks</td>\n",
       "      <td>aa03b995e36957a72fee85be8d2a52aea451422a</td>\n",
       "      <td>furnstahl</td>\n",
       "    </tr>\n",
       "    <tr>\n",
       "      <th>...</th>\n",
       "      <td>...</td>\n",
       "      <td>...</td>\n",
       "      <td>...</td>\n",
       "      <td>...</td>\n",
       "      <td>...</td>\n",
       "      <td>...</td>\n",
       "      <td>...</td>\n",
       "      <td>...</td>\n",
       "      <td>...</td>\n",
       "    </tr>\n",
       "    <tr>\n",
       "      <th>13946913</th>\n",
       "      <td>2018-11-03T23:58:00+00:00</td>\n",
       "      <td>1</td>\n",
       "      <td>GitHub</td>\n",
       "      <td>ipython/ipython-in-depth/master</td>\n",
       "      <td>master</td>\n",
       "      <td>None</td>\n",
       "      <td>ipython/ipython-in-depth</td>\n",
       "      <td></td>\n",
       "      <td>ipython</td>\n",
       "    </tr>\n",
       "    <tr>\n",
       "      <th>13946914</th>\n",
       "      <td>2018-11-03T23:58:00+00:00</td>\n",
       "      <td>1</td>\n",
       "      <td>GitHub</td>\n",
       "      <td>ipython/ipython-in-depth/master</td>\n",
       "      <td>master</td>\n",
       "      <td>None</td>\n",
       "      <td>ipython/ipython-in-depth</td>\n",
       "      <td></td>\n",
       "      <td>ipython</td>\n",
       "    </tr>\n",
       "    <tr>\n",
       "      <th>13946915</th>\n",
       "      <td>2018-11-03T23:58:00+00:00</td>\n",
       "      <td>1</td>\n",
       "      <td>GitHub</td>\n",
       "      <td>ines/spacy-io-binder/live</td>\n",
       "      <td>live</td>\n",
       "      <td>None</td>\n",
       "      <td>ines/spacy-io-binder</td>\n",
       "      <td></td>\n",
       "      <td>ines</td>\n",
       "    </tr>\n",
       "    <tr>\n",
       "      <th>13946916</th>\n",
       "      <td>2018-11-03T23:58:00+00:00</td>\n",
       "      <td>1</td>\n",
       "      <td>GitHub</td>\n",
       "      <td>ipython/ipython-in-depth/master</td>\n",
       "      <td>master</td>\n",
       "      <td>None</td>\n",
       "      <td>ipython/ipython-in-depth</td>\n",
       "      <td></td>\n",
       "      <td>ipython</td>\n",
       "    </tr>\n",
       "    <tr>\n",
       "      <th>13946917</th>\n",
       "      <td>2018-11-03T23:59:00+00:00</td>\n",
       "      <td>1</td>\n",
       "      <td>GitHub</td>\n",
       "      <td>ipython/ipython-in-depth/master</td>\n",
       "      <td>master</td>\n",
       "      <td>None</td>\n",
       "      <td>ipython/ipython-in-depth</td>\n",
       "      <td></td>\n",
       "      <td>ipython</td>\n",
       "    </tr>\n",
       "  </tbody>\n",
       "</table>\n",
       "<p>13946918 rows × 9 columns</p>\n",
       "</div>"
      ],
      "text/plain": [
       "                          timestamp  version provider  \\\n",
       "0         2021-01-21T00:00:00+00:00        4   GitHub   \n",
       "1         2021-01-21T00:00:00+00:00        4   GitHub   \n",
       "2         2021-01-21T00:00:00+00:00        4   GitHub   \n",
       "3         2021-01-21T00:00:00+00:00        4   GitHub   \n",
       "4         2021-01-21T00:00:00+00:00        4   GitHub   \n",
       "...                             ...      ...      ...   \n",
       "13946913  2018-11-03T23:58:00+00:00        1   GitHub   \n",
       "13946914  2018-11-03T23:58:00+00:00        1   GitHub   \n",
       "13946915  2018-11-03T23:58:00+00:00        1   GitHub   \n",
       "13946916  2018-11-03T23:58:00+00:00        1   GitHub   \n",
       "13946917  2018-11-03T23:59:00+00:00        1   GitHub   \n",
       "\n",
       "                                                   spec           ref  \\\n",
       "0                       ipython/ipython-in-depth/master        master   \n",
       "1                       ipython/ipython-in-depth/master        master   \n",
       "2                     jupyterlab/jupyterlab-demo/master        master   \n",
       "3         qiskit-community/qiskit-textbook/thebe-stable  thebe-stable   \n",
       "4                       furnstahl/5300-notebooks/master        master   \n",
       "...                                                 ...           ...   \n",
       "13946913                ipython/ipython-in-depth/master        master   \n",
       "13946914                ipython/ipython-in-depth/master        master   \n",
       "13946915                      ines/spacy-io-binder/live          live   \n",
       "13946916                ipython/ipython-in-depth/master        master   \n",
       "13946917                ipython/ipython-in-depth/master        master   \n",
       "\n",
       "                       origin                              repo  \\\n",
       "0         turing.mybinder.org          ipython/ipython-in-depth   \n",
       "1         turing.mybinder.org          ipython/ipython-in-depth   \n",
       "2         turing.mybinder.org        jupyterlab/jupyterlab-demo   \n",
       "3         turing.mybinder.org  qiskit-community/qiskit-textbook   \n",
       "4            gke.mybinder.org          furnstahl/5300-notebooks   \n",
       "...                       ...                               ...   \n",
       "13946913                 None          ipython/ipython-in-depth   \n",
       "13946914                 None          ipython/ipython-in-depth   \n",
       "13946915                 None              ines/spacy-io-binder   \n",
       "13946916                 None          ipython/ipython-in-depth   \n",
       "13946917                 None          ipython/ipython-in-depth   \n",
       "\n",
       "                                      resolved_ref               org  \n",
       "0         7e5ce96cc9251083979efdfc393425f1229a4a68           ipython  \n",
       "1         7e5ce96cc9251083979efdfc393425f1229a4a68           ipython  \n",
       "2         79184a07d47cf03787b39cfc345da98794d76554        jupyterlab  \n",
       "3         5427cf2721cc352a522832a67845d6b59e04666b  qiskit-community  \n",
       "4         aa03b995e36957a72fee85be8d2a52aea451422a         furnstahl  \n",
       "...                                            ...               ...  \n",
       "13946913                                                     ipython  \n",
       "13946914                                                     ipython  \n",
       "13946915                                                        ines  \n",
       "13946916                                                     ipython  \n",
       "13946917                                                     ipython  \n",
       "\n",
       "[13946918 rows x 9 columns]"
      ]
     },
     "execution_count": 6,
     "metadata": {},
     "output_type": "execute_result"
    }
   ],
   "source": [
    "df"
   ]
  },
  {
   "cell_type": "code",
   "execution_count": 7,
   "metadata": {},
   "outputs": [],
   "source": [
    "dash = '-' * 60"
   ]
  },
  {
   "cell_type": "markdown",
   "metadata": {},
   "source": [
    "<a name='cdist'></a>\n",
    "## 2. Column distributions\n",
    "\n",
    "<br>"
   ]
  },
  {
   "cell_type": "code",
   "execution_count": 8,
   "metadata": {},
   "outputs": [
    {
     "data": {
      "text/plain": [
       "<AxesSubplot:xlabel='version', ylabel='count'>"
      ]
     },
     "execution_count": 8,
     "metadata": {},
     "output_type": "execute_result"
    },
    {
     "data": {
      "image/png": "[encoded data removed]",
      "text/plain": [
       "<Figure size 432x288 with 1 Axes>"
      ]
     },
     "metadata": {
      "needs_background": "light"
     },
     "output_type": "display_data"
    }
   ],
   "source": [
    "sns.countplot(x=\"version\", data=df)"
   ]
  },
  {
   "cell_type": "code",
   "execution_count": 9,
   "metadata": {},
   "outputs": [
    {
     "data": {
      "text/plain": [
       "[Text(0, 0, 'GitHub'),\n",
       " Text(1, 0, 'Git'),\n",
       " Text(2, 0, 'Gist'),\n",
       " Text(3, 0, 'GitLab'),\n",
       " Text(4, 0, 'Zenodo'),\n",
       " Text(5, 0, 'Dataverse'),\n",
       " Text(6, 0, 'Hydroshare'),\n",
       " Text(7, 0, 'Figshare')]"
      ]
     },
     "execution_count": 9,
     "metadata": {},
     "output_type": "execute_result"
    },
    {
     "data": {
      "image/png": "[encoded data removed]",
      "text/plain": [
       "<Figure size 432x288 with 1 Axes>"
      ]
     },
     "metadata": {
      "needs_background": "light"
     },
     "output_type": "display_data"
    }
   ],
   "source": [
    "chart = sns.countplot(x=\"provider\", data=df)\n",
    "chart.set_xticklabels(chart.get_xticklabels(), rotation=45, horizontalalignment='right')"
   ]
  },
  {
   "cell_type": "code",
   "execution_count": 10,
   "metadata": {},
   "outputs": [
    {
     "data": {
      "image/png": "[encoded data removed]",
      "text/plain": [
       "<Figure size 432x288 with 1 Axes>"
      ]
     },
     "metadata": {
      "needs_background": "light"
     },
     "output_type": "display_data"
    }
   ],
   "source": [
    "chart = sns.countplot(x=\"origin\", data=df)\n",
    "_ = chart.set_xticklabels(chart.get_xticklabels(), rotation=45, horizontalalignment='right')"
   ]
  },
  {
   "cell_type": "code",
   "execution_count": 11,
   "metadata": {},
   "outputs": [
    {
     "data": {
      "text/plain": [
       "137685"
      ]
     },
     "execution_count": 11,
     "metadata": {},
     "output_type": "execute_result"
    }
   ],
   "source": [
    "len(df[\"spec\"].unique())"
   ]
  },
  {
   "cell_type": "code",
   "execution_count": 12,
   "metadata": {},
   "outputs": [
    {
     "data": {
      "text/plain": [
       "112753"
      ]
     },
     "execution_count": 12,
     "metadata": {},
     "output_type": "execute_result"
    }
   ],
   "source": [
    "len(df[\"repo\"].unique())"
   ]
  },
  {
   "cell_type": "markdown",
   "metadata": {},
   "source": [
    "Since the \"repo\" and \"ref\" columns are the ones to merge with the specs dataset, it would be useful to see how many unique branches there are."
   ]
  },
  {
   "cell_type": "code",
   "execution_count": 13,
   "metadata": {},
   "outputs": [
    {
     "data": {
      "text/plain": [
       "171770"
      ]
     },
     "execution_count": 13,
     "metadata": {},
     "output_type": "execute_result"
    }
   ],
   "source": [
    "unique_b = len(pd.unique(df[['repo', 'ref']].values.ravel('K')))\n",
    "unique_b"
   ]
  },
  {
   "cell_type": "markdown",
   "metadata": {},
   "source": [
    "This means that on average, each branch has about **81** entries:"
   ]
  },
  {
   "cell_type": "code",
   "execution_count": 14,
   "metadata": {},
   "outputs": [
    {
     "data": {
      "text/plain": [
       "81.19530767887291"
      ]
     },
     "execution_count": 14,
     "metadata": {},
     "output_type": "execute_result"
    }
   ],
   "source": [
    "len(df) / unique_b"
   ]
  },
  {
   "cell_type": "markdown",
   "metadata": {},
   "source": [
    "<a name='merge'></a>\n",
    "## 3. Merge launches+sqlite\n",
    "\n",
    "<br>"
   ]
  },
  {
   "cell_type": "code",
   "execution_count": 58,
   "metadata": {},
   "outputs": [
    {
     "data": {
      "text/plain": [
       "'\\ncon = sqlite3.connect(\\'binder-specs.sqlite\\')\\ntemdf = pd.read_sql(\\'SELECT * FROM specs\\', con)\\nmerged_df = pd.merge(df, temdf,  how=\\'inner\\', left_on=[\\'repo\\',\\'ref\\', \"resolved_ref\"], right_on = [\\'remote\\',\\'git_ref\\', \"resolved_commit\"])\\nmerged_df[\"repo\"]\\n'"
      ]
     },
     "execution_count": 58,
     "metadata": {},
     "output_type": "execute_result"
    }
   ],
   "source": [
    "'''\n",
    "con = sqlite3.connect('binder-specs.sqlite')\n",
    "temdf = pd.read_sql('SELECT * FROM specs', con)\n",
    "merged_df = pd.merge(df, temdf,  how='inner', left_on=['repo','ref', \"resolved_ref\"], right_on = ['remote','git_ref', \"resolved_commit\"])\n",
    "merged_df[\"repo\"]\n",
    "'''"
   ]
  },
  {
   "cell_type": "markdown",
   "metadata": {},
   "source": [
    "<a name='repo'></a>\n",
    "## 4. `column`: repo\n",
    "\n",
    "<br>"
   ]
  },
  {
   "cell_type": "code",
   "execution_count": 15,
   "metadata": {},
   "outputs": [
    {
     "data": {
      "text/html": [
       "<div>\n",
       "<style scoped>\n",
       "    .dataframe tbody tr th:only-of-type {\n",
       "        vertical-align: middle;\n",
       "    }\n",
       "\n",
       "    .dataframe tbody tr th {\n",
       "        vertical-align: top;\n",
       "    }\n",
       "\n",
       "    .dataframe thead th {\n",
       "        text-align: right;\n",
       "    }\n",
       "</style>\n",
       "<table border=\"1\" class=\"dataframe\">\n",
       "  <thead>\n",
       "    <tr style=\"text-align: right;\">\n",
       "      <th></th>\n",
       "      <th>index</th>\n",
       "      <th>repo</th>\n",
       "    </tr>\n",
       "  </thead>\n",
       "  <tbody>\n",
       "    <tr>\n",
       "      <th>0</th>\n",
       "      <td>ipython/ipython-in-depth</td>\n",
       "      <td>4972671</td>\n",
       "    </tr>\n",
       "    <tr>\n",
       "      <th>1</th>\n",
       "      <td>jupyterlab/jupyterlab-demo</td>\n",
       "      <td>2573722</td>\n",
       "    </tr>\n",
       "    <tr>\n",
       "      <th>2</th>\n",
       "      <td>binder-examples/requirements</td>\n",
       "      <td>433068</td>\n",
       "    </tr>\n",
       "    <tr>\n",
       "      <th>3</th>\n",
       "      <td>ines/spacy-io-binder</td>\n",
       "      <td>335425</td>\n",
       "    </tr>\n",
       "    <tr>\n",
       "      <th>4</th>\n",
       "      <td>DS-100/textbook</td>\n",
       "      <td>221404</td>\n",
       "    </tr>\n",
       "    <tr>\n",
       "      <th>...</th>\n",
       "      <td>...</td>\n",
       "      <td>...</td>\n",
       "    </tr>\n",
       "    <tr>\n",
       "      <th>112747</th>\n",
       "      <td>https://jovian.ml/api/git/8cc8d3c89f654b248fa0...</td>\n",
       "      <td>1</td>\n",
       "    </tr>\n",
       "    <tr>\n",
       "      <th>112748</th>\n",
       "      <td>https://jovian.ml/api/git/f550eff31a884273a732...</td>\n",
       "      <td>1</td>\n",
       "    </tr>\n",
       "    <tr>\n",
       "      <th>112749</th>\n",
       "      <td>shwetanshu07/Machine-Learning-SP</td>\n",
       "      <td>1</td>\n",
       "    </tr>\n",
       "    <tr>\n",
       "      <th>112750</th>\n",
       "      <td>https://jovian.ml/api/git/5cff127e4daf44a5b37c...</td>\n",
       "      <td>1</td>\n",
       "    </tr>\n",
       "    <tr>\n",
       "      <th>112751</th>\n",
       "      <td>https://jovian.ml/api/git/9517f83e9b194a25b65a...</td>\n",
       "      <td>1</td>\n",
       "    </tr>\n",
       "  </tbody>\n",
       "</table>\n",
       "<p>112752 rows × 2 columns</p>\n",
       "</div>"
      ],
      "text/plain": [
       "                                                    index     repo\n",
       "0                                ipython/ipython-in-depth  4972671\n",
       "1                              jupyterlab/jupyterlab-demo  2573722\n",
       "2                            binder-examples/requirements   433068\n",
       "3                                    ines/spacy-io-binder   335425\n",
       "4                                         DS-100/textbook   221404\n",
       "...                                                   ...      ...\n",
       "112747  https://jovian.ml/api/git/8cc8d3c89f654b248fa0...        1\n",
       "112748  https://jovian.ml/api/git/f550eff31a884273a732...        1\n",
       "112749                   shwetanshu07/Machine-Learning-SP        1\n",
       "112750  https://jovian.ml/api/git/5cff127e4daf44a5b37c...        1\n",
       "112751  https://jovian.ml/api/git/9517f83e9b194a25b65a...        1\n",
       "\n",
       "[112752 rows x 2 columns]"
      ]
     },
     "execution_count": 15,
     "metadata": {},
     "output_type": "execute_result"
    }
   ],
   "source": [
    "rp_df = df[\"repo\"].value_counts().to_frame().reset_index()\n",
    "rp_df"
   ]
  },
  {
   "cell_type": "markdown",
   "metadata": {},
   "source": [
    "x axis from 0 to 1000, log style"
   ]
  },
  {
   "cell_type": "code",
   "execution_count": 16,
   "metadata": {},
   "outputs": [
    {
     "data": {
      "image/png": "[encoded data removed]",
      "text/plain": [
       "<Figure size 432x288 with 1 Axes>"
      ]
     },
     "metadata": {
      "needs_background": "light"
     },
     "output_type": "display_data"
    }
   ],
   "source": [
    "_ = plt.hist(rp_df[\"repo\"], bins=(10**(np.arange(0,4))))"
   ]
  },
  {
   "cell_type": "markdown",
   "metadata": {},
   "source": [
    "Same look for any set, like 100 to 10^6."
   ]
  },
  {
   "cell_type": "code",
   "execution_count": 17,
   "metadata": {},
   "outputs": [
    {
     "data": {
      "image/png": "[encoded data removed]",
      "text/plain": [
       "<Figure size 432x288 with 1 Axes>"
      ]
     },
     "metadata": {
      "needs_background": "light"
     },
     "output_type": "display_data"
    }
   ],
   "source": [
    "_ = plt.hist(rp_df[\"repo\"], bins=(10**(np.arange(3,7))))"
   ]
  },
  {
   "cell_type": "markdown",
   "metadata": {},
   "source": [
    "Frequency in each 10^x range."
   ]
  },
  {
   "cell_type": "code",
   "execution_count": 18,
   "metadata": {},
   "outputs": [
    {
     "name": "stdout",
     "output_type": "stream",
     "text": [
      "1-10: 89810\n",
      "10-100: 18374\n",
      "100-1000: 3979\n",
      "1000-10000: 534\n",
      "10000-100000: 44\n",
      "100000-1000000: 9\n",
      "1000000-10000000: 2\n"
     ]
    }
   ],
   "source": [
    "for i in np.arange(7):\n",
    "    amt = len(rp_df[(rp_df[\"repo\"] >= (10**i))][(rp_df[\"repo\"] < (10**(i + 1)))])\n",
    "    print(str(10**i) + \"-\" + str(10**(i + 1)) + \": \" + str(amt))\n",
    "    "
   ]
  },
  {
   "cell_type": "markdown",
   "metadata": {},
   "source": [
    "<a name='lra'></a>\n",
    "## 5. Launches - repo analysis\n",
    "\n",
    "<br>"
   ]
  },
  {
   "cell_type": "markdown",
   "metadata": {},
   "source": [
    "A 1000+ commit repo might be interesting to look at."
   ]
  },
  {
   "cell_type": "code",
   "execution_count": 19,
   "metadata": {},
   "outputs": [
    {
     "data": {
      "text/plain": [
       "'EstephaniaCalvo/Guia_de_Implementacion_de_Algoritmos_de_Ing_Industrial'"
      ]
     },
     "execution_count": 19,
     "metadata": {},
     "output_type": "execute_result"
    }
   ],
   "source": [
    "tail_repo = rp_df[rp_df[\"repo\"] >= 1000].iloc[-1][\"index\"]\n",
    "tail_repo"
   ]
  },
  {
   "cell_type": "code",
   "execution_count": 20,
   "metadata": {},
   "outputs": [
    {
     "data": {
      "text/html": [
       "<div>\n",
       "<style scoped>\n",
       "    .dataframe tbody tr th:only-of-type {\n",
       "        vertical-align: middle;\n",
       "    }\n",
       "\n",
       "    .dataframe tbody tr th {\n",
       "        vertical-align: top;\n",
       "    }\n",
       "\n",
       "    .dataframe thead th {\n",
       "        text-align: right;\n",
       "    }\n",
       "</style>\n",
       "<table border=\"1\" class=\"dataframe\">\n",
       "  <thead>\n",
       "    <tr style=\"text-align: right;\">\n",
       "      <th></th>\n",
       "      <th>timestamp</th>\n",
       "      <th>version</th>\n",
       "      <th>provider</th>\n",
       "      <th>spec</th>\n",
       "      <th>ref</th>\n",
       "      <th>origin</th>\n",
       "      <th>repo</th>\n",
       "      <th>resolved_ref</th>\n",
       "      <th>org</th>\n",
       "    </tr>\n",
       "  </thead>\n",
       "  <tbody>\n",
       "    <tr>\n",
       "      <th>367701</th>\n",
       "      <td>2021-01-03T02:54:00+00:00</td>\n",
       "      <td>4</td>\n",
       "      <td>GitHub</td>\n",
       "      <td>EstephaniaCalvo/Guia_de_Implementacion_de_Algo...</td>\n",
       "      <td>master</td>\n",
       "      <td>gesis.mybinder.org</td>\n",
       "      <td>EstephaniaCalvo/Guia_de_Implementacion_de_Algo...</td>\n",
       "      <td>3eefd0f98657f02ef85184d3bd9b0308a0681027</td>\n",
       "      <td>EstephaniaCalvo</td>\n",
       "    </tr>\n",
       "    <tr>\n",
       "      <th>496747</th>\n",
       "      <td>2020-12-26T23:24:00+00:00</td>\n",
       "      <td>4</td>\n",
       "      <td>GitHub</td>\n",
       "      <td>EstephaniaCalvo/Guia_de_Implementacion_de_Algo...</td>\n",
       "      <td>master</td>\n",
       "      <td>gke.mybinder.org</td>\n",
       "      <td>EstephaniaCalvo/Guia_de_Implementacion_de_Algo...</td>\n",
       "      <td>3eefd0f98657f02ef85184d3bd9b0308a0681027</td>\n",
       "      <td>EstephaniaCalvo</td>\n",
       "    </tr>\n",
       "    <tr>\n",
       "      <th>496915</th>\n",
       "      <td>2020-12-26T23:54:00+00:00</td>\n",
       "      <td>4</td>\n",
       "      <td>GitHub</td>\n",
       "      <td>EstephaniaCalvo/Guia_de_Implementacion_de_Algo...</td>\n",
       "      <td>master</td>\n",
       "      <td>gesis.mybinder.org</td>\n",
       "      <td>EstephaniaCalvo/Guia_de_Implementacion_de_Algo...</td>\n",
       "      <td>3eefd0f98657f02ef85184d3bd9b0308a0681027</td>\n",
       "      <td>EstephaniaCalvo</td>\n",
       "    </tr>\n",
       "    <tr>\n",
       "      <th>496941</th>\n",
       "      <td>2020-12-26T23:59:00+00:00</td>\n",
       "      <td>4</td>\n",
       "      <td>GitHub</td>\n",
       "      <td>EstephaniaCalvo/Guia_de_Implementacion_de_Algo...</td>\n",
       "      <td>master</td>\n",
       "      <td>turing.mybinder.org</td>\n",
       "      <td>EstephaniaCalvo/Guia_de_Implementacion_de_Algo...</td>\n",
       "      <td>3eefd0f98657f02ef85184d3bd9b0308a0681027</td>\n",
       "      <td>EstephaniaCalvo</td>\n",
       "    </tr>\n",
       "    <tr>\n",
       "      <th>509564</th>\n",
       "      <td>2020-12-24T02:57:00+00:00</td>\n",
       "      <td>4</td>\n",
       "      <td>GitHub</td>\n",
       "      <td>EstephaniaCalvo/Guia_de_Implementacion_de_Algo...</td>\n",
       "      <td>master</td>\n",
       "      <td>gesis.mybinder.org</td>\n",
       "      <td>EstephaniaCalvo/Guia_de_Implementacion_de_Algo...</td>\n",
       "      <td>3eefd0f98657f02ef85184d3bd9b0308a0681027</td>\n",
       "      <td>EstephaniaCalvo</td>\n",
       "    </tr>\n",
       "    <tr>\n",
       "      <th>...</th>\n",
       "      <td>...</td>\n",
       "      <td>...</td>\n",
       "      <td>...</td>\n",
       "      <td>...</td>\n",
       "      <td>...</td>\n",
       "      <td>...</td>\n",
       "      <td>...</td>\n",
       "      <td>...</td>\n",
       "      <td>...</td>\n",
       "    </tr>\n",
       "    <tr>\n",
       "      <th>5447444</th>\n",
       "      <td>2020-05-09T17:24:00+00:00</td>\n",
       "      <td>3</td>\n",
       "      <td>GitHub</td>\n",
       "      <td>EstephaniaCalvo/Guia_de_Implementacion_de_Algo...</td>\n",
       "      <td>master</td>\n",
       "      <td>gesis.mybinder.org</td>\n",
       "      <td>EstephaniaCalvo/Guia_de_Implementacion_de_Algo...</td>\n",
       "      <td></td>\n",
       "      <td>EstephaniaCalvo</td>\n",
       "    </tr>\n",
       "    <tr>\n",
       "      <th>5449171</th>\n",
       "      <td>2020-05-09T19:19:00+00:00</td>\n",
       "      <td>3</td>\n",
       "      <td>GitHub</td>\n",
       "      <td>EstephaniaCalvo/Guia_de_Implementacion_de_Algo...</td>\n",
       "      <td>master</td>\n",
       "      <td>gke.mybinder.org</td>\n",
       "      <td>EstephaniaCalvo/Guia_de_Implementacion_de_Algo...</td>\n",
       "      <td></td>\n",
       "      <td>EstephaniaCalvo</td>\n",
       "    </tr>\n",
       "    <tr>\n",
       "      <th>5450561</th>\n",
       "      <td>2020-05-09T21:06:00+00:00</td>\n",
       "      <td>3</td>\n",
       "      <td>GitHub</td>\n",
       "      <td>EstephaniaCalvo/Guia_de_Implementacion_de_Algo...</td>\n",
       "      <td>master</td>\n",
       "      <td>gesis.mybinder.org</td>\n",
       "      <td>EstephaniaCalvo/Guia_de_Implementacion_de_Algo...</td>\n",
       "      <td></td>\n",
       "      <td>EstephaniaCalvo</td>\n",
       "    </tr>\n",
       "    <tr>\n",
       "      <th>5450593</th>\n",
       "      <td>2020-05-09T21:09:00+00:00</td>\n",
       "      <td>3</td>\n",
       "      <td>GitHub</td>\n",
       "      <td>EstephaniaCalvo/Guia_de_Implementacion_de_Algo...</td>\n",
       "      <td>master</td>\n",
       "      <td>gesis.mybinder.org</td>\n",
       "      <td>EstephaniaCalvo/Guia_de_Implementacion_de_Algo...</td>\n",
       "      <td></td>\n",
       "      <td>EstephaniaCalvo</td>\n",
       "    </tr>\n",
       "    <tr>\n",
       "      <th>5450610</th>\n",
       "      <td>2020-05-09T21:10:00+00:00</td>\n",
       "      <td>3</td>\n",
       "      <td>GitHub</td>\n",
       "      <td>EstephaniaCalvo/Guia_de_Implementacion_de_Algo...</td>\n",
       "      <td>master</td>\n",
       "      <td>gesis.mybinder.org</td>\n",
       "      <td>EstephaniaCalvo/Guia_de_Implementacion_de_Algo...</td>\n",
       "      <td></td>\n",
       "      <td>EstephaniaCalvo</td>\n",
       "    </tr>\n",
       "  </tbody>\n",
       "</table>\n",
       "<p>1000 rows × 9 columns</p>\n",
       "</div>"
      ],
      "text/plain": [
       "                         timestamp  version provider  \\\n",
       "367701   2021-01-03T02:54:00+00:00        4   GitHub   \n",
       "496747   2020-12-26T23:24:00+00:00        4   GitHub   \n",
       "496915   2020-12-26T23:54:00+00:00        4   GitHub   \n",
       "496941   2020-12-26T23:59:00+00:00        4   GitHub   \n",
       "509564   2020-12-24T02:57:00+00:00        4   GitHub   \n",
       "...                            ...      ...      ...   \n",
       "5447444  2020-05-09T17:24:00+00:00        3   GitHub   \n",
       "5449171  2020-05-09T19:19:00+00:00        3   GitHub   \n",
       "5450561  2020-05-09T21:06:00+00:00        3   GitHub   \n",
       "5450593  2020-05-09T21:09:00+00:00        3   GitHub   \n",
       "5450610  2020-05-09T21:10:00+00:00        3   GitHub   \n",
       "\n",
       "                                                      spec     ref  \\\n",
       "367701   EstephaniaCalvo/Guia_de_Implementacion_de_Algo...  master   \n",
       "496747   EstephaniaCalvo/Guia_de_Implementacion_de_Algo...  master   \n",
       "496915   EstephaniaCalvo/Guia_de_Implementacion_de_Algo...  master   \n",
       "496941   EstephaniaCalvo/Guia_de_Implementacion_de_Algo...  master   \n",
       "509564   EstephaniaCalvo/Guia_de_Implementacion_de_Algo...  master   \n",
       "...                                                    ...     ...   \n",
       "5447444  EstephaniaCalvo/Guia_de_Implementacion_de_Algo...  master   \n",
       "5449171  EstephaniaCalvo/Guia_de_Implementacion_de_Algo...  master   \n",
       "5450561  EstephaniaCalvo/Guia_de_Implementacion_de_Algo...  master   \n",
       "5450593  EstephaniaCalvo/Guia_de_Implementacion_de_Algo...  master   \n",
       "5450610  EstephaniaCalvo/Guia_de_Implementacion_de_Algo...  master   \n",
       "\n",
       "                      origin  \\\n",
       "367701    gesis.mybinder.org   \n",
       "496747      gke.mybinder.org   \n",
       "496915    gesis.mybinder.org   \n",
       "496941   turing.mybinder.org   \n",
       "509564    gesis.mybinder.org   \n",
       "...                      ...   \n",
       "5447444   gesis.mybinder.org   \n",
       "5449171     gke.mybinder.org   \n",
       "5450561   gesis.mybinder.org   \n",
       "5450593   gesis.mybinder.org   \n",
       "5450610   gesis.mybinder.org   \n",
       "\n",
       "                                                      repo  \\\n",
       "367701   EstephaniaCalvo/Guia_de_Implementacion_de_Algo...   \n",
       "496747   EstephaniaCalvo/Guia_de_Implementacion_de_Algo...   \n",
       "496915   EstephaniaCalvo/Guia_de_Implementacion_de_Algo...   \n",
       "496941   EstephaniaCalvo/Guia_de_Implementacion_de_Algo...   \n",
       "509564   EstephaniaCalvo/Guia_de_Implementacion_de_Algo...   \n",
       "...                                                    ...   \n",
       "5447444  EstephaniaCalvo/Guia_de_Implementacion_de_Algo...   \n",
       "5449171  EstephaniaCalvo/Guia_de_Implementacion_de_Algo...   \n",
       "5450561  EstephaniaCalvo/Guia_de_Implementacion_de_Algo...   \n",
       "5450593  EstephaniaCalvo/Guia_de_Implementacion_de_Algo...   \n",
       "5450610  EstephaniaCalvo/Guia_de_Implementacion_de_Algo...   \n",
       "\n",
       "                                     resolved_ref              org  \n",
       "367701   3eefd0f98657f02ef85184d3bd9b0308a0681027  EstephaniaCalvo  \n",
       "496747   3eefd0f98657f02ef85184d3bd9b0308a0681027  EstephaniaCalvo  \n",
       "496915   3eefd0f98657f02ef85184d3bd9b0308a0681027  EstephaniaCalvo  \n",
       "496941   3eefd0f98657f02ef85184d3bd9b0308a0681027  EstephaniaCalvo  \n",
       "509564   3eefd0f98657f02ef85184d3bd9b0308a0681027  EstephaniaCalvo  \n",
       "...                                           ...              ...  \n",
       "5447444                                            EstephaniaCalvo  \n",
       "5449171                                            EstephaniaCalvo  \n",
       "5450561                                            EstephaniaCalvo  \n",
       "5450593                                            EstephaniaCalvo  \n",
       "5450610                                            EstephaniaCalvo  \n",
       "\n",
       "[1000 rows x 9 columns]"
      ]
     },
     "execution_count": 20,
     "metadata": {},
     "output_type": "execute_result"
    }
   ],
   "source": [
    "ra_df = df[df[\"repo\"] == tail_repo]\n",
    "ra_df"
   ]
  },
  {
   "cell_type": "code",
   "execution_count": 21,
   "metadata": {},
   "outputs": [],
   "source": [
    "ra_df.to_pickle(\"./1000repo_launches.pkl\")"
   ]
  },
  {
   "cell_type": "code",
   "execution_count": 57,
   "metadata": {},
   "outputs": [],
   "source": [
    "ra_df = pd.read_pickle(\"./1000repo_launches.pkl\")"
   ]
  },
  {
   "cell_type": "markdown",
   "metadata": {},
   "source": [
    "<a name='ti'></a>\n",
    "## 6. Timestamp init & difference\n",
    "\n",
    "<br>"
   ]
  },
  {
   "cell_type": "code",
   "execution_count": 59,
   "metadata": {},
   "outputs": [
    {
     "data": {
      "text/plain": [
       "'2021-01-03T02:54:00+00:00'"
      ]
     },
     "execution_count": 59,
     "metadata": {},
     "output_type": "execute_result"
    }
   ],
   "source": [
    "date_str = ra_df[\"timestamp\"].iloc[0]\n",
    "date_str"
   ]
  },
  {
   "cell_type": "code",
   "execution_count": 60,
   "metadata": {},
   "outputs": [],
   "source": [
    "def str2date(s):\n",
    "    return maya.parse(s).datetime()"
   ]
  },
  {
   "cell_type": "code",
   "execution_count": 109,
   "metadata": {},
   "outputs": [
    {
     "name": "stdout",
     "output_type": "stream",
     "text": [
      "10^4: 0\n",
      "10^5: 6\n",
      "10^6: 61\n"
     ]
    }
   ],
   "source": [
    "for i in np.arange(4, 7):\n",
    "    a = datetime.now()\n",
    "    cut_df = df[:10**i]\n",
    "    cut_df[\"timestamp\"].apply(lambda x: str2date(x))\n",
    "    b = datetime.now()\n",
    "    print(\"10^\" + str(i) + \": \" + str((b-a).seconds))"
   ]
  },
  {
   "cell_type": "code",
   "execution_count": 61,
   "metadata": {},
   "outputs": [
    {
     "name": "stdout",
     "output_type": "stream",
     "text": [
      "2021-01-03 02:54:00+00:00\n",
      "2021-01-03\n",
      "02:54:00\n",
      "UTC\n"
     ]
    }
   ],
   "source": [
    "dt = str2date(date_str)\n",
    "print(dt)\n",
    "print(dt.date())\n",
    "print(dt.time())\n",
    "print(dt.tzinfo)"
   ]
  },
  {
   "cell_type": "markdown",
   "metadata": {},
   "source": [
    "Subtracting two dates"
   ]
  },
  {
   "cell_type": "code",
   "execution_count": 62,
   "metadata": {},
   "outputs": [
    {
     "data": {
      "text/plain": [
       "617400.0"
      ]
     },
     "execution_count": 62,
     "metadata": {},
     "output_type": "execute_result"
    }
   ],
   "source": [
    "(str2date(ra_df[\"timestamp\"].iloc[0]) - str2date(ra_df[\"timestamp\"].iloc[1])).total_seconds()"
   ]
  },
  {
   "cell_type": "markdown",
   "metadata": {},
   "source": [
    "All differences in one user"
   ]
  },
  {
   "cell_type": "code",
   "execution_count": 69,
   "metadata": {},
   "outputs": [
    {
     "data": {
      "text/plain": [
       "367701    2021-01-03 02:54:00+00:00\n",
       "496941    2020-12-26 23:59:00+00:00\n",
       "496915    2020-12-26 23:54:00+00:00\n",
       "496747    2020-12-26 23:24:00+00:00\n",
       "509627    2020-12-24 03:05:00+00:00\n",
       "                     ...           \n",
       "5445757   2020-05-09 15:36:00+00:00\n",
       "5445740   2020-05-09 15:35:00+00:00\n",
       "5445222   2020-05-09 15:05:00+00:00\n",
       "5445162   2020-05-09 15:02:00+00:00\n",
       "5445114   2020-05-09 15:00:00+00:00\n",
       "Name: timestamp, Length: 1000, dtype: datetime64[ns, UTC]"
      ]
     },
     "execution_count": 69,
     "metadata": {},
     "output_type": "execute_result"
    }
   ],
   "source": [
    "times = ra_df[\"timestamp\"].apply(lambda x: str2date(x)).sort_values(ascending=False)\n",
    "times"
   ]
  },
  {
   "cell_type": "code",
   "execution_count": 76,
   "metadata": {
    "scrolled": true
   },
   "outputs": [
    {
     "data": {
      "text/plain": [
       "[75900, 86100, 84600, 13260, 86280, 86040, 2520, 86220, 86280, 86220]"
      ]
     },
     "execution_count": 76,
     "metadata": {},
     "output_type": "execute_result"
    }
   ],
   "source": [
    "time_diff = []\n",
    "prev = 0\n",
    "for i in times:\n",
    "    if prev != 0:\n",
    "        if (i - prev).seconds != 0:\n",
    "            time_diff.append((i - prev).seconds)\n",
    "    prev = i\n",
    "time_diff[0:10]"
   ]
  },
  {
   "cell_type": "code",
   "execution_count": 78,
   "metadata": {},
   "outputs": [
    {
     "data": {
      "image/png": "[encoded data removed]",
      "text/plain": [
       "<Figure size 432x288 with 1 Axes>"
      ]
     },
     "metadata": {
      "needs_background": "light"
     },
     "output_type": "display_data"
    }
   ],
   "source": [
    "_ = plt.hist(time_diff, density=True, bins=30)"
   ]
  },
  {
   "cell_type": "code",
   "execution_count": 82,
   "metadata": {},
   "outputs": [],
   "source": [
    "xax = np.arange(0, len(time_diff)).tolist()"
   ]
  },
  {
   "cell_type": "code",
   "execution_count": 83,
   "metadata": {},
   "outputs": [
    {
     "data": {
      "text/plain": [
       "[<matplotlib.lines.Line2D at 0x7f6bc26fc7b8>]"
      ]
     },
     "execution_count": 83,
     "metadata": {},
     "output_type": "execute_result"
    },
    {
     "data": {
      "image/png": "[encoded data removed]",
      "text/plain": [
       "<Figure size 432x288 with 1 Axes>"
      ]
     },
     "metadata": {
      "needs_background": "light"
     },
     "output_type": "display_data"
    }
   ],
   "source": [
    "plt.plot(xax, time_diff)"
   ]
  },
  {
   "cell_type": "code",
   "execution_count": 86,
   "metadata": {},
   "outputs": [
    {
     "data": {
      "text/plain": [
       "<AxesSubplot:>"
      ]
     },
     "execution_count": 86,
     "metadata": {},
     "output_type": "execute_result"
    },
    {
     "data": {
      "image/png": "[encoded data removed]",
      "text/plain": [
       "<Figure size 432x288 with 1 Axes>"
      ]
     },
     "metadata": {
      "needs_background": "light"
     },
     "output_type": "display_data"
    }
   ],
   "source": [
    "sns.boxplot(time_diff)"
   ]
  },
  {
   "cell_type": "markdown",
   "metadata": {},
   "source": [
    "<a name='ni'></a>\n",
    "## 7. Next interval\n",
    "\n",
    "<br>"
   ]
  },
  {
   "cell_type": "code",
   "execution_count": 91,
   "metadata": {},
   "outputs": [
    {
     "name": "stdout",
     "output_type": "stream",
     "text": [
      "0-20000: 23\n",
      "20000-40000: 29\n",
      "40000-60000: 26\n",
      "60000-80000: 101\n"
     ]
    }
   ],
   "source": [
    "for i in np.arange(4):\n",
    "    amt = len(list(filter(lambda x: x > 20000 * i and x < 20000 * (i+1), time_diff)))\n",
    "    print(str(20000 * i) + \"-\" + str(20000 * (i+1)) + \": \" + str(amt))"
   ]
  },
  {
   "cell_type": "code",
   "execution_count": 98,
   "metadata": {},
   "outputs": [
    {
     "data": {
      "text/plain": [
       "<AxesSubplot:>"
      ]
     },
     "execution_count": 98,
     "metadata": {},
     "output_type": "execute_result"
    },
    {
     "data": {
      "image/png": "[encoded data removed]",
      "text/plain": [
       "<Figure size 432x288 with 1 Axes>"
      ]
     },
     "metadata": {
      "needs_background": "light"
     },
     "output_type": "display_data"
    }
   ],
   "source": [
    "before_t = time_diff[:-1]\n",
    "after_t = time_diff[1:]\n",
    "sns.scatterplot(before_t, after_t)"
   ]
  },
  {
   "cell_type": "markdown",
   "metadata": {},
   "source": [
    "<a name='tieda'></a>\n",
    "## 8. Timestamp Weekday/Day/Month EDA\n",
    "\n",
    "<br>"
   ]
  },
  {
   "cell_type": "markdown",
   "metadata": {},
   "source": [
    "0 is for Monday and 6 is for Sunday."
   ]
  },
  {
   "cell_type": "code",
   "execution_count": 158,
   "metadata": {},
   "outputs": [
    {
     "data": {
      "text/plain": [
       "6"
      ]
     },
     "execution_count": 158,
     "metadata": {},
     "output_type": "execute_result"
    }
   ],
   "source": [
    "(str2date(ra_df[\"timestamp\"].iloc[0])).weekday()"
   ]
  },
  {
   "cell_type": "code",
   "execution_count": 161,
   "metadata": {},
   "outputs": [
    {
     "data": {
      "text/plain": [
       "6"
      ]
     },
     "execution_count": 161,
     "metadata": {},
     "output_type": "execute_result"
    }
   ],
   "source": [
    "times.iloc[0].weekday()"
   ]
  },
  {
   "cell_type": "code",
   "execution_count": 189,
   "metadata": {},
   "outputs": [],
   "source": [
    "weekday = times.apply(lambda x: x.weekday()).tolist()"
   ]
  },
  {
   "cell_type": "code",
   "execution_count": 190,
   "metadata": {},
   "outputs": [
    {
     "data": {
      "text/plain": [
       "<AxesSubplot:ylabel='count'>"
      ]
     },
     "execution_count": 190,
     "metadata": {},
     "output_type": "execute_result"
    },
    {
     "data": {
      "image/png": "[encoded data removed]",
      "text/plain": [
       "<Figure size 432x288 with 1 Axes>"
      ]
     },
     "metadata": {
      "needs_background": "light"
     },
     "output_type": "display_data"
    }
   ],
   "source": [
    "sns.countplot(weekday)"
   ]
  },
  {
   "cell_type": "code",
   "execution_count": 175,
   "metadata": {},
   "outputs": [],
   "source": [
    "month = times.apply(lambda x: x.month).tolist()"
   ]
  },
  {
   "cell_type": "code",
   "execution_count": 176,
   "metadata": {},
   "outputs": [
    {
     "data": {
      "text/plain": [
       "<AxesSubplot:ylabel='count'>"
      ]
     },
     "execution_count": 176,
     "metadata": {},
     "output_type": "execute_result"
    },
    {
     "data": {
      "image/png": "[encoded data removed]",
      "text/plain": [
       "<Figure size 432x288 with 1 Axes>"
      ]
     },
     "metadata": {
      "needs_background": "light"
     },
     "output_type": "display_data"
    }
   ],
   "source": [
    "sns.countplot(month)"
   ]
  },
  {
   "cell_type": "code",
   "execution_count": 179,
   "metadata": {},
   "outputs": [],
   "source": [
    "days = times.apply(lambda x: x.day).tolist()"
   ]
  },
  {
   "cell_type": "code",
   "execution_count": 181,
   "metadata": {},
   "outputs": [
    {
     "data": {
      "text/plain": [
       "<AxesSubplot:ylabel='count'>"
      ]
     },
     "execution_count": 181,
     "metadata": {},
     "output_type": "execute_result"
    },
    {
     "data": {
      "image/png": "[encoded data removed]",
      "text/plain": [
       "<Figure size 432x288 with 1 Axes>"
      ]
     },
     "metadata": {
      "needs_background": "light"
     },
     "output_type": "display_data"
    }
   ],
   "source": [
    "sns.countplot(days)"
   ]
  },
  {
   "cell_type": "markdown",
   "metadata": {},
   "source": [
    "<a name='btd'></a>\n",
    "## 9. Batched S5-8\n",
    "\n",
    "<br>"
   ]
  },
  {
   "cell_type": "code",
   "execution_count": 221,
   "metadata": {},
   "outputs": [
    {
     "name": "stdout",
     "output_type": "stream",
     "text": [
      "EstephaniaCalvo/Guia_de_Implementacion_de_Algoritmos_de_Ing_Industrial\n",
      "0-20000: 23\n",
      "20000-40000: 29\n",
      "40000-60000: 26\n",
      "60000-80000: 101\n",
      "80000-100000: 765\n"
     ]
    },
    {
     "data": {
      "image/png": "[encoded data removed]",
      "text/plain": [
       "<Figure size 1080x1800 with 6 Axes>"
      ]
     },
     "metadata": {
      "needs_background": "light"
     },
     "output_type": "display_data"
    }
   ],
   "source": [
    "def str2date(s):\n",
    "    return maya.parse(s).datetime()\n",
    "\n",
    "def batch(min_count, max_count, index):\n",
    "    \n",
    "    fig, axs = plt.subplots(6, 1, figsize=(15,25))\n",
    "    plt.subplots_adjust(hspace=0.6)\n",
    "    \n",
    "    #5\n",
    "    tail_repo = rp_df[rp_df[\"repo\"] >= min_count][rp_df[\"repo\"] <= max_count].iloc[index][\"index\"]\n",
    "    print(tail_repo)\n",
    "    ra_df = df[df[\"repo\"] == tail_repo]\n",
    "    \n",
    "    times = ra_df[\"timestamp\"].apply(lambda x: str2date(x)).sort_values(ascending=False)\n",
    "    time_diff = []\n",
    "    prev = 0\n",
    "    for i in times:\n",
    "        if prev != 0:\n",
    "            if (i - prev).seconds != 0:\n",
    "                time_diff.append((i - prev).seconds)\n",
    "        prev = i\n",
    "    time_diff[0:10]\n",
    "    sns.histplot(time_diff, ax=axs[0]).set_title(\"Time Difference\", fontdict= { 'fontsize': 16, 'fontweight':'bold'})\n",
    "    \n",
    "    xax = np.arange(0, len(time_diff)).tolist()\n",
    "    sns.boxplot(time_diff, ax=axs[1])\n",
    "    \n",
    "    max_amt = max(time_diff) // 20000\n",
    "    for i in np.arange(max_amt + 1):\n",
    "        amt = len(list(filter(lambda x: x > 20000 * i and x < 20000 * (i+1), time_diff)))\n",
    "        print(str(20000 * i) + \"-\" + str(20000 * (i+1)) + \": \" + str(amt))\n",
    "        \n",
    "    before_t = time_diff[:-1]\n",
    "    after_t = time_diff[1:]\n",
    "    sns.scatterplot(before_t, after_t, ax=axs[2]).set_title(\"Time between commits\", fontdict= { 'fontsize': 16, 'fontweight':'bold'})\n",
    "    \n",
    "    #8\n",
    "    weekday = times.apply(lambda x: x.weekday()).tolist()\n",
    "    sns.countplot(weekday, ax=axs[3]).set_title(\"Weekday\", fontdict= { 'fontsize': 16, 'fontweight':'bold'})\n",
    "    \n",
    "    month = times.apply(lambda x: x.month).tolist()\n",
    "    sns.countplot(month, ax=axs[4]).set_title(\"Month\", fontdict= { 'fontsize': 16, 'fontweight':'bold'})\n",
    "    \n",
    "    days = times.apply(lambda x: x.day).tolist()\n",
    "    sns.countplot(days, ax=axs[5]).set_title(\"Day\", fontdict= { 'fontsize': 16, 'fontweight':'bold'})\n",
    "    \n",
    "batch(1000, 1001, 2)"
   ]
  },
  {
   "cell_type": "code",
   "execution_count": null,
   "metadata": {},
   "outputs": [],
   "source": []
  }
 ],
 "metadata": {
  "kernelspec": {
   "display_name": "Python 3",
   "language": "python",
   "name": "python3"
  },
  "language_info": {
   "codemirror_mode": {
    "name": "ipython",
    "version": 3
   },
   "file_extension": ".py",
   "mimetype": "text/x-python",
   "name": "python",
   "nbconvert_exporter": "python",
   "pygments_lexer": "ipython3",
   "version": "3.7.3"
  }
 },
 "nbformat": 4,
 "nbformat_minor": 2
}
