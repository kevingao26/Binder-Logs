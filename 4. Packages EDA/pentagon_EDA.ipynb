{
 "cells": [
  {
   "cell_type": "code",
   "execution_count": 2,
   "id": "84982dde",
   "metadata": {},
   "outputs": [],
   "source": [
    "import numpy as np\n",
    "import pandas as pd\n",
    "import dask.dataframe as dd\n",
    "import matplotlib.pyplot as plt\n",
    "import pickle\n",
    "import seaborn as sns\n",
    "sns.set_style(\"whitegrid\")\n",
    "from pprint import pprint\n",
    "import sqlite3\n",
    "import yaml\n",
    "import re\n",
    "from datetime import datetime\n",
    "import maya\n",
    "from collections import Counter\n",
    "from glob import glob\n",
    "import ast\n",
    "import json\n",
    "from sklearn.preprocessing import StandardScaler\n",
    "\n",
    "try: # for pip >= 10\n",
    "    from pip._internal.req import parse_requirements\n",
    "except ImportError: # for pip <= 9.0.3\n",
    "    from pip.req import parse_requirements\n",
    "\n",
    "from matplotlib_venn import venn2, venn2_circles, venn2_unweighted\n",
    "from matplotlib_venn import venn3, venn3_circles\n",
    "from matplotlib import pyplot as plt\n",
    "from sklearn.decomposition import PCA\n",
    "\n",
    "import networkx as nx\n",
    "import networkx.algorithms.community as nxcom\n",
    "\n",
    "import bokeh.io\n",
    "from bokeh.io import output_file, show\n",
    "from bokeh.resources import INLINE\n",
    "from bokeh.models import (BoxSelectTool, Circle, EdgesAndLinkedNodes, HoverTool,\n",
    "                          MultiLine, NodesAndLinkedEdges, Plot, Range1d, TapTool,\n",
    "                         BoxZoomTool, ResetTool, OpenURL, CustomJS, Column, SaveTool)\n",
    "from bokeh.palettes import Spectral4\n",
    "from bokeh.plotting import figure, output_notebook\n",
    "from bokeh.models.graphs import from_networkx\n",
    "from bokeh.models import TextInput, Button\n",
    "\n",
    "%matplotlib inline\n",
    "\n",
    "# Code for hiding seaborn warnings\n",
    "import warnings\n",
    "warnings.filterwarnings(\"ignore\")"
   ]
  },
  {
   "cell_type": "markdown",
   "id": "d7da08b6",
   "metadata": {},
   "source": [
    "## Easier navigation:\n",
    "\n",
    "------------------------------------\n",
    "\n",
    "### 1. <a href='#setup1'>Setup timing csv</a>\n",
    "### 2. <a href='#setup2'>Setup dependency/size csv</a>\n",
    "### 3. <a href='#setup3'>Setup scrape csv</a>\n",
    "------------------------------------\n",
    "### 4. <a href='#e1'>Timing csv EDA</a>\n",
    "### 5. <a href='#e2'>Dependency/size csv EDA</a>\n",
    "### 6. <a href='#e3'>Scrape csv EDA</a>\n",
    "------------------------------------\n",
    "### 7. <a href='#merge'>Merge CSVs</a>\n",
    "------------------------------------\n",
    "### 8. <a href='#c1'>Correlational plots for time vs size</a>"
   ]
  },
  {
   "cell_type": "markdown",
   "id": "69ceb225",
   "metadata": {},
   "source": []
  },
  {
   "cell_type": "code",
   "execution_count": 3,
   "id": "987a6d0f",
   "metadata": {},
   "outputs": [],
   "source": [
    "with open('q_df.txt') as f:\n",
    "    reloaded_example = json.load(f)"
   ]
  },
  {
   "cell_type": "code",
   "execution_count": 4,
   "id": "64c11193",
   "metadata": {},
   "outputs": [
    {
     "data": {
      "text/html": [
       "<div>\n",
       "<style scoped>\n",
       "    .dataframe tbody tr th:only-of-type {\n",
       "        vertical-align: middle;\n",
       "    }\n",
       "\n",
       "    .dataframe tbody tr th {\n",
       "        vertical-align: top;\n",
       "    }\n",
       "\n",
       "    .dataframe thead th {\n",
       "        text-align: right;\n",
       "    }\n",
       "</style>\n",
       "<table border=\"1\" class=\"dataframe\">\n",
       "  <thead>\n",
       "    <tr style=\"text-align: right;\">\n",
       "      <th></th>\n",
       "      <th>index</th>\n",
       "      <th>library</th>\n",
       "      <th>dependencies</th>\n",
       "      <th>total size</th>\n",
       "      <th>size_full</th>\n",
       "      <th>Contributors</th>\n",
       "      <th>Dependencies</th>\n",
       "      <th>Dependent packages</th>\n",
       "      <th>Dependent repositories</th>\n",
       "      <th>First release</th>\n",
       "      <th>...</th>\n",
       "      <th>Incoming Dep</th>\n",
       "      <th>Outgoing Dep</th>\n",
       "      <th>Degree</th>\n",
       "      <th>Closeness</th>\n",
       "      <th>Katz</th>\n",
       "      <th>Hub</th>\n",
       "      <th>Authority</th>\n",
       "      <th>dependencies_temp</th>\n",
       "      <th>size</th>\n",
       "      <th>timetaken</th>\n",
       "    </tr>\n",
       "  </thead>\n",
       "  <tbody>\n",
       "    <tr>\n",
       "      <th>0</th>\n",
       "      <td>0</td>\n",
       "      <td>matplotlib</td>\n",
       "      <td>[cycler, kiwisolver]</td>\n",
       "      <td>60.000</td>\n",
       "      <td>35M /home/ubuntu/ve/randomenv/lib/python3.6/si...</td>\n",
       "      <td>763.0</td>\n",
       "      <td>0.0</td>\n",
       "      <td>10100.0</td>\n",
       "      <td>39600.0</td>\n",
       "      <td>Jan 9, 2006</td>\n",
       "      <td>...</td>\n",
       "      <td>75</td>\n",
       "      <td>7</td>\n",
       "      <td>0.073345</td>\n",
       "      <td>0.067084</td>\n",
       "      <td>0.048731</td>\n",
       "      <td>0.000709</td>\n",
       "      <td>0.003557</td>\n",
       "      <td>[cycler, kiwisolver]</td>\n",
       "      <td>19.496</td>\n",
       "      <td>-0.31275</td>\n",
       "    </tr>\n",
       "    <tr>\n",
       "      <th>1</th>\n",
       "      <td>1</td>\n",
       "      <td>numpy</td>\n",
       "      <td>[]</td>\n",
       "      <td>25.000</td>\n",
       "      <td>25M /home/ubuntu/ve/randomenv/lib/python3.6/si...</td>\n",
       "      <td>736.0</td>\n",
       "      <td>0.0</td>\n",
       "      <td>25500.0</td>\n",
       "      <td>84900.0</td>\n",
       "      <td>Dec 2, 2006</td>\n",
       "      <td>...</td>\n",
       "      <td>271</td>\n",
       "      <td>0</td>\n",
       "      <td>0.242397</td>\n",
       "      <td>0.242397</td>\n",
       "      <td>0.193062</td>\n",
       "      <td>0.000000</td>\n",
       "      <td>0.009493</td>\n",
       "      <td>[]</td>\n",
       "      <td>25.000</td>\n",
       "      <td>0.31375</td>\n",
       "    </tr>\n",
       "    <tr>\n",
       "      <th>2</th>\n",
       "      <td>2</td>\n",
       "      <td>pandas</td>\n",
       "      <td>[]</td>\n",
       "      <td>74.800</td>\n",
       "      <td>47M /home/ubuntu/ve/randomenv/lib/python3.6/si...</td>\n",
       "      <td>970.0</td>\n",
       "      <td>0.0</td>\n",
       "      <td>14500.0</td>\n",
       "      <td>38400.0</td>\n",
       "      <td>Dec 25, 2009</td>\n",
       "      <td>...</td>\n",
       "      <td>105</td>\n",
       "      <td>4</td>\n",
       "      <td>0.097496</td>\n",
       "      <td>0.093918</td>\n",
       "      <td>0.067608</td>\n",
       "      <td>0.000519</td>\n",
       "      <td>0.005825</td>\n",
       "      <td>[]</td>\n",
       "      <td>31.776</td>\n",
       "      <td>-0.12125</td>\n",
       "    </tr>\n",
       "    <tr>\n",
       "      <th>3</th>\n",
       "      <td>3</td>\n",
       "      <td>scipy</td>\n",
       "      <td>[]</td>\n",
       "      <td>87.000</td>\n",
       "      <td>62M /home/ubuntu/ve/randomenv/lib/python3.6/si...</td>\n",
       "      <td>680.0</td>\n",
       "      <td>1.0</td>\n",
       "      <td>10400.0</td>\n",
       "      <td>43400.0</td>\n",
       "      <td>Jul 27, 2010</td>\n",
       "      <td>...</td>\n",
       "      <td>114</td>\n",
       "      <td>1</td>\n",
       "      <td>0.102862</td>\n",
       "      <td>0.101968</td>\n",
       "      <td>0.074220</td>\n",
       "      <td>0.000089</td>\n",
       "      <td>0.003385</td>\n",
       "      <td>[]</td>\n",
       "      <td>61.876</td>\n",
       "      <td>0.24475</td>\n",
       "    </tr>\n",
       "    <tr>\n",
       "      <th>4</th>\n",
       "      <td>4</td>\n",
       "      <td>ipywidgets</td>\n",
       "      <td>[nbclient, terminado, testpath, jedi, argon2-c...</td>\n",
       "      <td>78.292</td>\n",
       "      <td>39M /home/ubuntu/ve/randomenv/lib/python3.6/si...</td>\n",
       "      <td>NaN</td>\n",
       "      <td>8.0</td>\n",
       "      <td>734.0</td>\n",
       "      <td>7470.0</td>\n",
       "      <td>Aug 3, 2015</td>\n",
       "      <td>...</td>\n",
       "      <td>44</td>\n",
       "      <td>53</td>\n",
       "      <td>0.086762</td>\n",
       "      <td>0.039356</td>\n",
       "      <td>0.031343</td>\n",
       "      <td>0.006734</td>\n",
       "      <td>0.006981</td>\n",
       "      <td>[nbclient, terminado, testpath, jedi, argon2-c...</td>\n",
       "      <td>-17.704</td>\n",
       "      <td>-0.38325</td>\n",
       "    </tr>\n",
       "    <tr>\n",
       "      <th>...</th>\n",
       "      <td>...</td>\n",
       "      <td>...</td>\n",
       "      <td>...</td>\n",
       "      <td>...</td>\n",
       "      <td>...</td>\n",
       "      <td>...</td>\n",
       "      <td>...</td>\n",
       "      <td>...</td>\n",
       "      <td>...</td>\n",
       "      <td>...</td>\n",
       "      <td>...</td>\n",
       "      <td>...</td>\n",
       "      <td>...</td>\n",
       "      <td>...</td>\n",
       "      <td>...</td>\n",
       "      <td>...</td>\n",
       "      <td>...</td>\n",
       "      <td>...</td>\n",
       "      <td>...</td>\n",
       "      <td>...</td>\n",
       "      <td>...</td>\n",
       "    </tr>\n",
       "    <tr>\n",
       "      <th>944</th>\n",
       "      <td>944</td>\n",
       "      <td>imgkit</td>\n",
       "      <td>[]</td>\n",
       "      <td>0.060</td>\n",
       "      <td>11M /home/ubuntu/ve/randomenv/lib/python3.6/si...</td>\n",
       "      <td>7.0</td>\n",
       "      <td>1.0</td>\n",
       "      <td>11.0</td>\n",
       "      <td>31.0</td>\n",
       "      <td>Jan 30, 2017</td>\n",
       "      <td>...</td>\n",
       "      <td>0</td>\n",
       "      <td>1</td>\n",
       "      <td>0.000894</td>\n",
       "      <td>0.000000</td>\n",
       "      <td>0.005575</td>\n",
       "      <td>0.000187</td>\n",
       "      <td>0.000000</td>\n",
       "      <td>[]</td>\n",
       "      <td>0.000</td>\n",
       "      <td>0.00000</td>\n",
       "    </tr>\n",
       "    <tr>\n",
       "      <th>945</th>\n",
       "      <td>945</td>\n",
       "      <td>sphinx_tabs</td>\n",
       "      <td>[sphinx, sphinxcontrib-qthelp, imagesize, sphi...</td>\n",
       "      <td>65.700</td>\n",
       "      <td>30M /home/ubuntu/ve/randomenv/lib/python3.6/si...</td>\n",
       "      <td>14.0</td>\n",
       "      <td>11.0</td>\n",
       "      <td>41.0</td>\n",
       "      <td>178.0</td>\n",
       "      <td>Jan 22, 2017</td>\n",
       "      <td>...</td>\n",
       "      <td>0</td>\n",
       "      <td>24</td>\n",
       "      <td>0.021467</td>\n",
       "      <td>0.000000</td>\n",
       "      <td>0.005575</td>\n",
       "      <td>0.001573</td>\n",
       "      <td>0.000000</td>\n",
       "      <td>[sphinx, sphinxcontrib-qthelp, imagesize, sphi...</td>\n",
       "      <td>-23.712</td>\n",
       "      <td>-0.76850</td>\n",
       "    </tr>\n",
       "    <tr>\n",
       "      <th>946</th>\n",
       "      <td>946</td>\n",
       "      <td>lea</td>\n",
       "      <td>[]</td>\n",
       "      <td>0.716</td>\n",
       "      <td>11M /home/ubuntu/ve/randomenv/lib/python3.6/si...</td>\n",
       "      <td>0.0</td>\n",
       "      <td>0.0</td>\n",
       "      <td>0.0</td>\n",
       "      <td>21.0</td>\n",
       "      <td>Jul 27, 2013</td>\n",
       "      <td>...</td>\n",
       "      <td>0</td>\n",
       "      <td>0</td>\n",
       "      <td>0.000000</td>\n",
       "      <td>0.000000</td>\n",
       "      <td>0.000000</td>\n",
       "      <td>0.000000</td>\n",
       "      <td>0.000000</td>\n",
       "      <td>[]</td>\n",
       "      <td>0.716</td>\n",
       "      <td>0.18450</td>\n",
       "    </tr>\n",
       "    <tr>\n",
       "      <th>947</th>\n",
       "      <td>947</td>\n",
       "      <td>requests-html</td>\n",
       "      <td>[pyppeteer, fake-useragent, pyquery, parse, bs...</td>\n",
       "      <td>22.080</td>\n",
       "      <td>15M /home/ubuntu/ve/randomenv/lib/python3.6/si...</td>\n",
       "      <td>41.0</td>\n",
       "      <td>7.0</td>\n",
       "      <td>135.0</td>\n",
       "      <td>182.0</td>\n",
       "      <td>Feb 24, 2018</td>\n",
       "      <td>...</td>\n",
       "      <td>0</td>\n",
       "      <td>13</td>\n",
       "      <td>0.011628</td>\n",
       "      <td>0.000000</td>\n",
       "      <td>0.005575</td>\n",
       "      <td>0.000395</td>\n",
       "      <td>0.000000</td>\n",
       "      <td>[pyppeteer, fake-useragent, pyquery, parse, bs...</td>\n",
       "      <td>17.980</td>\n",
       "      <td>0.25475</td>\n",
       "    </tr>\n",
       "    <tr>\n",
       "      <th>948</th>\n",
       "      <td>948</td>\n",
       "      <td>flatbuffers</td>\n",
       "      <td>[]</td>\n",
       "      <td>0.228</td>\n",
       "      <td>11M /home/ubuntu/ve/randomenv/lib/python3.6/si...</td>\n",
       "      <td>385.0</td>\n",
       "      <td>0.0</td>\n",
       "      <td>77.0</td>\n",
       "      <td>86.0</td>\n",
       "      <td>May 14, 2015</td>\n",
       "      <td>...</td>\n",
       "      <td>9</td>\n",
       "      <td>0</td>\n",
       "      <td>0.008050</td>\n",
       "      <td>0.008050</td>\n",
       "      <td>0.011172</td>\n",
       "      <td>0.000000</td>\n",
       "      <td>0.000578</td>\n",
       "      <td>[]</td>\n",
       "      <td>0.228</td>\n",
       "      <td>0.09000</td>\n",
       "    </tr>\n",
       "  </tbody>\n",
       "</table>\n",
       "<p>949 rows × 41 columns</p>\n",
       "</div>"
      ],
      "text/plain": [
       "     index        library                                       dependencies  \\\n",
       "0        0     matplotlib                               [cycler, kiwisolver]   \n",
       "1        1          numpy                                                 []   \n",
       "2        2         pandas                                                 []   \n",
       "3        3          scipy                                                 []   \n",
       "4        4     ipywidgets  [nbclient, terminado, testpath, jedi, argon2-c...   \n",
       "..     ...            ...                                                ...   \n",
       "944    944         imgkit                                                 []   \n",
       "945    945    sphinx_tabs  [sphinx, sphinxcontrib-qthelp, imagesize, sphi...   \n",
       "946    946            lea                                                 []   \n",
       "947    947  requests-html  [pyppeteer, fake-useragent, pyquery, parse, bs...   \n",
       "948    948    flatbuffers                                                 []   \n",
       "\n",
       "     total size                                          size_full  \\\n",
       "0        60.000  35M /home/ubuntu/ve/randomenv/lib/python3.6/si...   \n",
       "1        25.000  25M /home/ubuntu/ve/randomenv/lib/python3.6/si...   \n",
       "2        74.800  47M /home/ubuntu/ve/randomenv/lib/python3.6/si...   \n",
       "3        87.000  62M /home/ubuntu/ve/randomenv/lib/python3.6/si...   \n",
       "4        78.292  39M /home/ubuntu/ve/randomenv/lib/python3.6/si...   \n",
       "..          ...                                                ...   \n",
       "944       0.060  11M /home/ubuntu/ve/randomenv/lib/python3.6/si...   \n",
       "945      65.700  30M /home/ubuntu/ve/randomenv/lib/python3.6/si...   \n",
       "946       0.716  11M /home/ubuntu/ve/randomenv/lib/python3.6/si...   \n",
       "947      22.080  15M /home/ubuntu/ve/randomenv/lib/python3.6/si...   \n",
       "948       0.228  11M /home/ubuntu/ve/randomenv/lib/python3.6/si...   \n",
       "\n",
       "     Contributors  Dependencies  Dependent packages  Dependent repositories  \\\n",
       "0           763.0           0.0             10100.0                 39600.0   \n",
       "1           736.0           0.0             25500.0                 84900.0   \n",
       "2           970.0           0.0             14500.0                 38400.0   \n",
       "3           680.0           1.0             10400.0                 43400.0   \n",
       "4             NaN           8.0               734.0                  7470.0   \n",
       "..            ...           ...                 ...                     ...   \n",
       "944           7.0           1.0                11.0                    31.0   \n",
       "945          14.0          11.0                41.0                   178.0   \n",
       "946           0.0           0.0                 0.0                    21.0   \n",
       "947          41.0           7.0               135.0                   182.0   \n",
       "948         385.0           0.0                77.0                    86.0   \n",
       "\n",
       "    First release  ...  Incoming Dep Outgoing Dep    Degree  Closeness  \\\n",
       "0     Jan 9, 2006  ...            75            7  0.073345   0.067084   \n",
       "1     Dec 2, 2006  ...           271            0  0.242397   0.242397   \n",
       "2    Dec 25, 2009  ...           105            4  0.097496   0.093918   \n",
       "3    Jul 27, 2010  ...           114            1  0.102862   0.101968   \n",
       "4     Aug 3, 2015  ...            44           53  0.086762   0.039356   \n",
       "..            ...  ...           ...          ...       ...        ...   \n",
       "944  Jan 30, 2017  ...             0            1  0.000894   0.000000   \n",
       "945  Jan 22, 2017  ...             0           24  0.021467   0.000000   \n",
       "946  Jul 27, 2013  ...             0            0  0.000000   0.000000   \n",
       "947  Feb 24, 2018  ...             0           13  0.011628   0.000000   \n",
       "948  May 14, 2015  ...             9            0  0.008050   0.008050   \n",
       "\n",
       "         Katz       Hub  Authority  \\\n",
       "0    0.048731  0.000709   0.003557   \n",
       "1    0.193062  0.000000   0.009493   \n",
       "2    0.067608  0.000519   0.005825   \n",
       "3    0.074220  0.000089   0.003385   \n",
       "4    0.031343  0.006734   0.006981   \n",
       "..        ...       ...        ...   \n",
       "944  0.005575  0.000187   0.000000   \n",
       "945  0.005575  0.001573   0.000000   \n",
       "946  0.000000  0.000000   0.000000   \n",
       "947  0.005575  0.000395   0.000000   \n",
       "948  0.011172  0.000000   0.000578   \n",
       "\n",
       "                                     dependencies_temp    size  timetaken  \n",
       "0                                 [cycler, kiwisolver]  19.496   -0.31275  \n",
       "1                                                   []  25.000    0.31375  \n",
       "2                                                   []  31.776   -0.12125  \n",
       "3                                                   []  61.876    0.24475  \n",
       "4    [nbclient, terminado, testpath, jedi, argon2-c... -17.704   -0.38325  \n",
       "..                                                 ...     ...        ...  \n",
       "944                                                 []   0.000    0.00000  \n",
       "945  [sphinx, sphinxcontrib-qthelp, imagesize, sphi... -23.712   -0.76850  \n",
       "946                                                 []   0.716    0.18450  \n",
       "947  [pyppeteer, fake-useragent, pyquery, parse, bs...  17.980    0.25475  \n",
       "948                                                 []   0.228    0.09000  \n",
       "\n",
       "[949 rows x 41 columns]"
      ]
     },
     "execution_count": 4,
     "metadata": {},
     "output_type": "execute_result"
    }
   ],
   "source": [
    "df = pd.read_json(reloaded_example)\n",
    "df"
   ]
  },
  {
   "cell_type": "code",
   "execution_count": null,
   "id": "50f7304a",
   "metadata": {},
   "outputs": [],
   "source": []
  },
  {
   "cell_type": "code",
   "execution_count": null,
   "id": "20a75798",
   "metadata": {},
   "outputs": [],
   "source": []
  },
  {
   "cell_type": "markdown",
   "id": "8664ef77",
   "metadata": {},
   "source": [
    "<a name='e1'></a>\n",
    "## 5. Timing csv EDA\n",
    "\n",
    "\n",
    "<br>"
   ]
  },
  {
   "cell_type": "markdown",
   "id": "8522f2bf",
   "metadata": {},
   "source": [
    "Let's say for now, we take the real time."
   ]
  },
  {
   "cell_type": "code",
   "execution_count": 450,
   "id": "c1e46297",
   "metadata": {},
   "outputs": [
    {
     "data": {
      "text/plain": [
       "<AxesSubplot:xlabel='real avg', ylabel='Density'>"
      ]
     },
     "execution_count": 450,
     "metadata": {},
     "output_type": "execute_result"
    },
    {
     "data": {
      "image/png": "[encoded data removed]",
      "text/plain": [
       "<Figure size 432x288 with 1 Axes>"
      ]
     },
     "metadata": {
      "needs_background": "light"
     },
     "output_type": "display_data"
    }
   ],
   "source": [
    "sns.distplot(df[\"real avg\"])"
   ]
  },
  {
   "cell_type": "markdown",
   "id": "1a54ed65",
   "metadata": {},
   "source": [
    "Difference between max and avg for count > 1"
   ]
  },
  {
   "cell_type": "code",
   "execution_count": 451,
   "id": "b59473a1",
   "metadata": {},
   "outputs": [],
   "source": [
    "bigcount = df[df[\"count\"].apply(lambda x: float(x)) > 1]"
   ]
  },
  {
   "cell_type": "code",
   "execution_count": 452,
   "id": "50aeaa06",
   "metadata": {},
   "outputs": [
    {
     "data": {
      "text/plain": [
       "<AxesSubplot:>"
      ]
     },
     "execution_count": 452,
     "metadata": {},
     "output_type": "execute_result"
    },
    {
     "data": {
      "image/png": "[encoded data removed]",
      "text/plain": [
       "<Figure size 432x288 with 1 Axes>"
      ]
     },
     "metadata": {
      "needs_background": "light"
     },
     "output_type": "display_data"
    }
   ],
   "source": [
    "sns.boxplot(bigcount[\"real max\"].astype(float) - bigcount[\"real avg\"].astype(float))"
   ]
  },
  {
   "cell_type": "markdown",
   "id": "2ebaf1be",
   "metadata": {},
   "source": [
    "<a name='e2'></a>\n",
    "## 6. Dependency/size csv EDA\n",
    "\n",
    " - Package size\n",
    " - Package dependencies\n",
    " \n",
    " Columns: ['library', 'dependencies', 'size', 'size_full']\n",
    "<br>"
   ]
  },
  {
   "cell_type": "markdown",
   "id": "cbdebe95",
   "metadata": {},
   "source": [
    "Why is package name not in install?"
   ]
  },
  {
   "cell_type": "code",
   "execution_count": 453,
   "id": "fc64f737",
   "metadata": {},
   "outputs": [
    {
     "data": {
      "text/plain": [
       "0      35M /home/ubuntu/ve/randomenv/lib/python3.6/si...\n",
       "1      25M /home/ubuntu/ve/randomenv/lib/python3.6/si...\n",
       "2      47M /home/ubuntu/ve/randomenv/lib/python3.6/si...\n",
       "3      62M /home/ubuntu/ve/randomenv/lib/python3.6/si...\n",
       "4      39M /home/ubuntu/ve/randomenv/lib/python3.6/si...\n",
       "                             ...                        \n",
       "995    11M /home/ubuntu/ve/randomenv/lib/python3.6/si...\n",
       "996    30M /home/ubuntu/ve/randomenv/lib/python3.6/si...\n",
       "997    11M /home/ubuntu/ve/randomenv/lib/python3.6/si...\n",
       "998    15M /home/ubuntu/ve/randomenv/lib/python3.6/si...\n",
       "999    11M /home/ubuntu/ve/randomenv/lib/python3.6/si...\n",
       "Name: size_full, Length: 949, dtype: object"
      ]
     },
     "execution_count": 453,
     "metadata": {},
     "output_type": "execute_result"
    }
   ],
   "source": [
    "df[\"size_full\"]"
   ]
  },
  {
   "cell_type": "code",
   "execution_count": 454,
   "id": "879cf329",
   "metadata": {},
   "outputs": [
    {
     "data": {
      "text/plain": [
       "0.6080084299262382"
      ]
     },
     "execution_count": 454,
     "metadata": {},
     "output_type": "execute_result"
    }
   ],
   "source": [
    "counter = 0\n",
    "for index, row in df.iterrows():\n",
    "    counter += row[\"library\"] in (row[\"size_full\"]) \n",
    "counter / len(df)"
   ]
  },
  {
   "cell_type": "markdown",
   "id": "03b16570",
   "metadata": {},
   "source": [
    "Standard stuff:"
   ]
  },
  {
   "cell_type": "code",
   "execution_count": 462,
   "id": "47610346",
   "metadata": {},
   "outputs": [
    {
     "data": {
      "text/plain": [
       "<AxesSubplot:xlabel='size', ylabel='Count'>"
      ]
     },
     "execution_count": 462,
     "metadata": {},
     "output_type": "execute_result"
    },
    {
     "data": {
      "image/png": "[encoded data removed]",
      "text/plain": [
       "<Figure size 432x288 with 1 Axes>"
      ]
     },
     "metadata": {
      "needs_background": "light"
     },
     "output_type": "display_data"
    }
   ],
   "source": [
    "sns.histplot(df[\"size\"])"
   ]
  },
  {
   "cell_type": "code",
   "execution_count": 472,
   "id": "ae7ebd5f",
   "metadata": {},
   "outputs": [
    {
     "data": {
      "text/plain": [
       "(0.0, 200.0)"
      ]
     },
     "execution_count": 472,
     "metadata": {},
     "output_type": "execute_result"
    },
    {
     "data": {
      "image/png": "[encoded data removed]",
      "text/plain": [
       "<Figure size 432x288 with 1 Axes>"
      ]
     },
     "metadata": {
      "needs_background": "light"
     },
     "output_type": "display_data"
    }
   ],
   "source": [
    "fig, ax = plt.subplots()\n",
    "sns.histplot(df[\"size\"], ax=ax)\n",
    "ax.set_xlim(0,200)"
   ]
  },
  {
   "cell_type": "markdown",
   "id": "20ed466a",
   "metadata": {},
   "source": [
    "dep_len"
   ]
  },
  {
   "cell_type": "code",
   "execution_count": 573,
   "id": "366e92a5",
   "metadata": {},
   "outputs": [
    {
     "data": {
      "text/plain": [
       "<AxesSubplot:xlabel='dep_len', ylabel='Count'>"
      ]
     },
     "execution_count": 573,
     "metadata": {},
     "output_type": "execute_result"
    },
    {
     "data": {
      "image/png": "[encoded data removed]",
      "text/plain": [
       "<Figure size 432x288 with 1 Axes>"
      ]
     },
     "metadata": {
      "needs_background": "light"
     },
     "output_type": "display_data"
    }
   ],
   "source": [
    "sns.histplot(df[\"dep_len\"])"
   ]
  },
  {
   "cell_type": "code",
   "execution_count": 583,
   "id": "fa0c2dae",
   "metadata": {},
   "outputs": [
    {
     "data": {
      "text/html": [
       "<div>\n",
       "<style scoped>\n",
       "    .dataframe tbody tr th:only-of-type {\n",
       "        vertical-align: middle;\n",
       "    }\n",
       "\n",
       "    .dataframe tbody tr th {\n",
       "        vertical-align: top;\n",
       "    }\n",
       "\n",
       "    .dataframe thead th {\n",
       "        text-align: right;\n",
       "    }\n",
       "</style>\n",
       "<table border=\"1\" class=\"dataframe\">\n",
       "  <thead>\n",
       "    <tr style=\"text-align: right;\">\n",
       "      <th></th>\n",
       "      <th>library</th>\n",
       "      <th>dependencies</th>\n",
       "      <th>size</th>\n",
       "      <th>size_full</th>\n",
       "      <th>Contributors</th>\n",
       "      <th>Dependencies</th>\n",
       "      <th>Dependent packages</th>\n",
       "      <th>Dependent repositories</th>\n",
       "      <th>First release</th>\n",
       "      <th>Forks</th>\n",
       "      <th>...</th>\n",
       "      <th>real std</th>\n",
       "      <th>real max</th>\n",
       "      <th>count</th>\n",
       "      <th>sys avg</th>\n",
       "      <th>sys std</th>\n",
       "      <th>sys max</th>\n",
       "      <th>user avg</th>\n",
       "      <th>user std</th>\n",
       "      <th>user max</th>\n",
       "      <th>dep_len</th>\n",
       "    </tr>\n",
       "  </thead>\n",
       "  <tbody>\n",
       "    <tr>\n",
       "      <th>769</th>\n",
       "      <td>spyder</td>\n",
       "      <td>[qtawesome, keyring, rtree, pygments, numpydoc...</td>\n",
       "      <td>173.480</td>\n",
       "      <td>45M /home/ubuntu/ve/randomenv/lib/python3.6/si...</td>\n",
       "      <td>156.0</td>\n",
       "      <td>56.0</td>\n",
       "      <td>29.0</td>\n",
       "      <td>898.0</td>\n",
       "      <td>Sep 18, 2014</td>\n",
       "      <td>1270.0</td>\n",
       "      <td>...</td>\n",
       "      <td>NaN</td>\n",
       "      <td>32.246</td>\n",
       "      <td>1.0</td>\n",
       "      <td>2.555</td>\n",
       "      <td>NaN</td>\n",
       "      <td>2.555</td>\n",
       "      <td>27.615</td>\n",
       "      <td>NaN</td>\n",
       "      <td>27.615</td>\n",
       "      <td>37</td>\n",
       "    </tr>\n",
       "    <tr>\n",
       "      <th>564</th>\n",
       "      <td>datapane</td>\n",
       "      <td>[nbconvert, requests-toolbelt, packaging, json...</td>\n",
       "      <td>421.956</td>\n",
       "      <td>128M /home/ubuntu/ve/randomenv/lib/python3.6/s...</td>\n",
       "      <td>NaN</td>\n",
       "      <td>33.0</td>\n",
       "      <td>0.0</td>\n",
       "      <td>0.0</td>\n",
       "      <td>Nov 12, 2019</td>\n",
       "      <td>NaN</td>\n",
       "      <td>...</td>\n",
       "      <td>NaN</td>\n",
       "      <td>36.001</td>\n",
       "      <td>1.0</td>\n",
       "      <td>3.263</td>\n",
       "      <td>NaN</td>\n",
       "      <td>3.263</td>\n",
       "      <td>30.019</td>\n",
       "      <td>NaN</td>\n",
       "      <td>30.019</td>\n",
       "      <td>34</td>\n",
       "    </tr>\n",
       "    <tr>\n",
       "      <th>595</th>\n",
       "      <td>msticpy</td>\n",
       "      <td>[pandas, KqlmagicCustom, networkx, azure-mgmt-...</td>\n",
       "      <td>307.520</td>\n",
       "      <td>59M /home/ubuntu/ve/randomenv/lib/python3.6/si...</td>\n",
       "      <td>12.0</td>\n",
       "      <td>80.0</td>\n",
       "      <td>1.0</td>\n",
       "      <td>2.0</td>\n",
       "      <td>Mar 7, 2019</td>\n",
       "      <td>97.0</td>\n",
       "      <td>...</td>\n",
       "      <td>NaN</td>\n",
       "      <td>36.822</td>\n",
       "      <td>1.0</td>\n",
       "      <td>2.954</td>\n",
       "      <td>NaN</td>\n",
       "      <td>2.954</td>\n",
       "      <td>32.184</td>\n",
       "      <td>NaN</td>\n",
       "      <td>32.184</td>\n",
       "      <td>31</td>\n",
       "    </tr>\n",
       "    <tr>\n",
       "      <th>507</th>\n",
       "      <td>tfx</td>\n",
       "      <td>[apache-beam, attrs, packaging, pyyaml, tensor...</td>\n",
       "      <td>1295.408</td>\n",
       "      <td>927M /home/ubuntu/ve/randomenv/lib/python3.6/s...</td>\n",
       "      <td>NaN</td>\n",
       "      <td>48.0</td>\n",
       "      <td>1.0</td>\n",
       "      <td>2.0</td>\n",
       "      <td>Mar 2, 2019</td>\n",
       "      <td>459.0</td>\n",
       "      <td>...</td>\n",
       "      <td>NaN</td>\n",
       "      <td>103.522</td>\n",
       "      <td>1.0</td>\n",
       "      <td>6.967</td>\n",
       "      <td>NaN</td>\n",
       "      <td>6.967</td>\n",
       "      <td>67.545</td>\n",
       "      <td>NaN</td>\n",
       "      <td>67.545</td>\n",
       "      <td>28</td>\n",
       "    </tr>\n",
       "    <tr>\n",
       "      <th>737</th>\n",
       "      <td>geemap</td>\n",
       "      <td>[sankee, geocoder, pandas, ipynb-py-convert, i...</td>\n",
       "      <td>353.540</td>\n",
       "      <td>133M /home/ubuntu/ve/randomenv/lib/python3.6/s...</td>\n",
       "      <td>1.0</td>\n",
       "      <td>25.0</td>\n",
       "      <td>2.0</td>\n",
       "      <td>0.0</td>\n",
       "      <td>Mar 8, 2020</td>\n",
       "      <td>522.0</td>\n",
       "      <td>...</td>\n",
       "      <td>NaN</td>\n",
       "      <td>41.144</td>\n",
       "      <td>1.0</td>\n",
       "      <td>3.607</td>\n",
       "      <td>NaN</td>\n",
       "      <td>3.607</td>\n",
       "      <td>35.108</td>\n",
       "      <td>NaN</td>\n",
       "      <td>35.108</td>\n",
       "      <td>25</td>\n",
       "    </tr>\n",
       "    <tr>\n",
       "      <th>...</th>\n",
       "      <td>...</td>\n",
       "      <td>...</td>\n",
       "      <td>...</td>\n",
       "      <td>...</td>\n",
       "      <td>...</td>\n",
       "      <td>...</td>\n",
       "      <td>...</td>\n",
       "      <td>...</td>\n",
       "      <td>...</td>\n",
       "      <td>...</td>\n",
       "      <td>...</td>\n",
       "      <td>...</td>\n",
       "      <td>...</td>\n",
       "      <td>...</td>\n",
       "      <td>...</td>\n",
       "      <td>...</td>\n",
       "      <td>...</td>\n",
       "      <td>...</td>\n",
       "      <td>...</td>\n",
       "      <td>...</td>\n",
       "      <td>...</td>\n",
       "    </tr>\n",
       "    <tr>\n",
       "      <th>463</th>\n",
       "      <td>pamela</td>\n",
       "      <td>[]</td>\n",
       "      <td>0.000</td>\n",
       "      <td>11M /home/ubuntu/ve/randomenv/lib/python3.6/si...</td>\n",
       "      <td>6.0</td>\n",
       "      <td>0.0</td>\n",
       "      <td>6.0</td>\n",
       "      <td>117.0</td>\n",
       "      <td>Sep 8, 2015</td>\n",
       "      <td>9.0</td>\n",
       "      <td>...</td>\n",
       "      <td>NaN</td>\n",
       "      <td>0.939</td>\n",
       "      <td>1.0</td>\n",
       "      <td>0.082</td>\n",
       "      <td>NaN</td>\n",
       "      <td>0.082</td>\n",
       "      <td>0.760</td>\n",
       "      <td>NaN</td>\n",
       "      <td>0.760</td>\n",
       "      <td>0</td>\n",
       "    </tr>\n",
       "    <tr>\n",
       "      <th>459</th>\n",
       "      <td>coverage</td>\n",
       "      <td>[]</td>\n",
       "      <td>1.300</td>\n",
       "      <td>11M /home/ubuntu/ve/randomenv/lib/python3.6/si...</td>\n",
       "      <td>105.0</td>\n",
       "      <td>1.0</td>\n",
       "      <td>3790.0</td>\n",
       "      <td>50200.0</td>\n",
       "      <td>May 16, 2009</td>\n",
       "      <td>219.0</td>\n",
       "      <td>...</td>\n",
       "      <td>NaN</td>\n",
       "      <td>1.480</td>\n",
       "      <td>1.0</td>\n",
       "      <td>0.111</td>\n",
       "      <td>NaN</td>\n",
       "      <td>0.111</td>\n",
       "      <td>1.329</td>\n",
       "      <td>NaN</td>\n",
       "      <td>1.329</td>\n",
       "      <td>0</td>\n",
       "    </tr>\n",
       "    <tr>\n",
       "      <th>457</th>\n",
       "      <td>ipython_genutils</td>\n",
       "      <td>[]</td>\n",
       "      <td>0.000</td>\n",
       "      <td>11M /home/ubuntu/ve/randomenv/lib/python3.6/si...</td>\n",
       "      <td>NaN</td>\n",
       "      <td>0.0</td>\n",
       "      <td>117.0</td>\n",
       "      <td>3280.0</td>\n",
       "      <td>Apr 9, 2015</td>\n",
       "      <td>NaN</td>\n",
       "      <td>...</td>\n",
       "      <td>NaN</td>\n",
       "      <td>0.888</td>\n",
       "      <td>1.0</td>\n",
       "      <td>0.088</td>\n",
       "      <td>NaN</td>\n",
       "      <td>0.088</td>\n",
       "      <td>0.772</td>\n",
       "      <td>NaN</td>\n",
       "      <td>0.772</td>\n",
       "      <td>0</td>\n",
       "    </tr>\n",
       "    <tr>\n",
       "      <th>452</th>\n",
       "      <td>unidecode</td>\n",
       "      <td>[]</td>\n",
       "      <td>2.100</td>\n",
       "      <td>11M /home/ubuntu/ve/randomenv/lib/python3.6/si...</td>\n",
       "      <td>NaN</td>\n",
       "      <td>0.0</td>\n",
       "      <td>545.0</td>\n",
       "      <td>7350.0</td>\n",
       "      <td>Jun 17, 2009</td>\n",
       "      <td>NaN</td>\n",
       "      <td>...</td>\n",
       "      <td>NaN</td>\n",
       "      <td>1.132</td>\n",
       "      <td>1.0</td>\n",
       "      <td>0.117</td>\n",
       "      <td>NaN</td>\n",
       "      <td>0.117</td>\n",
       "      <td>0.981</td>\n",
       "      <td>NaN</td>\n",
       "      <td>0.981</td>\n",
       "      <td>0</td>\n",
       "    </tr>\n",
       "    <tr>\n",
       "      <th>999</th>\n",
       "      <td>flatbuffers</td>\n",
       "      <td>[]</td>\n",
       "      <td>0.228</td>\n",
       "      <td>11M /home/ubuntu/ve/randomenv/lib/python3.6/si...</td>\n",
       "      <td>385.0</td>\n",
       "      <td>0.0</td>\n",
       "      <td>77.0</td>\n",
       "      <td>86.0</td>\n",
       "      <td>May 14, 2015</td>\n",
       "      <td>2540.0</td>\n",
       "      <td>...</td>\n",
       "      <td>NaN</td>\n",
       "      <td>0.897</td>\n",
       "      <td>1.0</td>\n",
       "      <td>0.087</td>\n",
       "      <td>NaN</td>\n",
       "      <td>0.087</td>\n",
       "      <td>0.775</td>\n",
       "      <td>NaN</td>\n",
       "      <td>0.775</td>\n",
       "      <td>0</td>\n",
       "    </tr>\n",
       "  </tbody>\n",
       "</table>\n",
       "<p>949 rows × 30 columns</p>\n",
       "</div>"
      ],
      "text/plain": [
       "              library                                       dependencies  \\\n",
       "769            spyder  [qtawesome, keyring, rtree, pygments, numpydoc...   \n",
       "564          datapane  [nbconvert, requests-toolbelt, packaging, json...   \n",
       "595           msticpy  [pandas, KqlmagicCustom, networkx, azure-mgmt-...   \n",
       "507               tfx  [apache-beam, attrs, packaging, pyyaml, tensor...   \n",
       "737            geemap  [sankee, geocoder, pandas, ipynb-py-convert, i...   \n",
       "..                ...                                                ...   \n",
       "463            pamela                                                 []   \n",
       "459          coverage                                                 []   \n",
       "457  ipython_genutils                                                 []   \n",
       "452         unidecode                                                 []   \n",
       "999       flatbuffers                                                 []   \n",
       "\n",
       "         size                                          size_full  \\\n",
       "769   173.480  45M /home/ubuntu/ve/randomenv/lib/python3.6/si...   \n",
       "564   421.956  128M /home/ubuntu/ve/randomenv/lib/python3.6/s...   \n",
       "595   307.520  59M /home/ubuntu/ve/randomenv/lib/python3.6/si...   \n",
       "507  1295.408  927M /home/ubuntu/ve/randomenv/lib/python3.6/s...   \n",
       "737   353.540  133M /home/ubuntu/ve/randomenv/lib/python3.6/s...   \n",
       "..        ...                                                ...   \n",
       "463     0.000  11M /home/ubuntu/ve/randomenv/lib/python3.6/si...   \n",
       "459     1.300  11M /home/ubuntu/ve/randomenv/lib/python3.6/si...   \n",
       "457     0.000  11M /home/ubuntu/ve/randomenv/lib/python3.6/si...   \n",
       "452     2.100  11M /home/ubuntu/ve/randomenv/lib/python3.6/si...   \n",
       "999     0.228  11M /home/ubuntu/ve/randomenv/lib/python3.6/si...   \n",
       "\n",
       "     Contributors  Dependencies  Dependent packages  Dependent repositories  \\\n",
       "769         156.0          56.0                29.0                   898.0   \n",
       "564           NaN          33.0                 0.0                     0.0   \n",
       "595          12.0          80.0                 1.0                     2.0   \n",
       "507           NaN          48.0                 1.0                     2.0   \n",
       "737           1.0          25.0                 2.0                     0.0   \n",
       "..            ...           ...                 ...                     ...   \n",
       "463           6.0           0.0                 6.0                   117.0   \n",
       "459         105.0           1.0              3790.0                 50200.0   \n",
       "457           NaN           0.0               117.0                  3280.0   \n",
       "452           NaN           0.0               545.0                  7350.0   \n",
       "999         385.0           0.0                77.0                    86.0   \n",
       "\n",
       "    First release   Forks  ... real std  real max  count  sys avg  sys std  \\\n",
       "769  Sep 18, 2014  1270.0  ...      NaN    32.246    1.0    2.555      NaN   \n",
       "564  Nov 12, 2019     NaN  ...      NaN    36.001    1.0    3.263      NaN   \n",
       "595   Mar 7, 2019    97.0  ...      NaN    36.822    1.0    2.954      NaN   \n",
       "507   Mar 2, 2019   459.0  ...      NaN   103.522    1.0    6.967      NaN   \n",
       "737   Mar 8, 2020   522.0  ...      NaN    41.144    1.0    3.607      NaN   \n",
       "..            ...     ...  ...      ...       ...    ...      ...      ...   \n",
       "463   Sep 8, 2015     9.0  ...      NaN     0.939    1.0    0.082      NaN   \n",
       "459  May 16, 2009   219.0  ...      NaN     1.480    1.0    0.111      NaN   \n",
       "457   Apr 9, 2015     NaN  ...      NaN     0.888    1.0    0.088      NaN   \n",
       "452  Jun 17, 2009     NaN  ...      NaN     1.132    1.0    0.117      NaN   \n",
       "999  May 14, 2015  2540.0  ...      NaN     0.897    1.0    0.087      NaN   \n",
       "\n",
       "     sys max user avg user std  user max  dep_len  \n",
       "769    2.555   27.615      NaN    27.615       37  \n",
       "564    3.263   30.019      NaN    30.019       34  \n",
       "595    2.954   32.184      NaN    32.184       31  \n",
       "507    6.967   67.545      NaN    67.545       28  \n",
       "737    3.607   35.108      NaN    35.108       25  \n",
       "..       ...      ...      ...       ...      ...  \n",
       "463    0.082    0.760      NaN     0.760        0  \n",
       "459    0.111    1.329      NaN     1.329        0  \n",
       "457    0.088    0.772      NaN     0.772        0  \n",
       "452    0.117    0.981      NaN     0.981        0  \n",
       "999    0.087    0.775      NaN     0.775        0  \n",
       "\n",
       "[949 rows x 30 columns]"
      ]
     },
     "execution_count": 583,
     "metadata": {},
     "output_type": "execute_result"
    }
   ],
   "source": [
    "df.sort_values('dep_len', ascending=False)"
   ]
  },
  {
   "cell_type": "markdown",
   "id": "42cc50e8",
   "metadata": {},
   "source": [
    "<a name='e3'></a>\n",
    "## 7. Scrape csv EDA\n",
    "\n",
    " - Package stats\n",
    " - Package versions\n",
    " \n",
    " Columns: ['library', 'Contributors', 'Dependencies', 'Dependent packages', 'Dependent repositories', 'First release', 'Forks', 'Latest release', 'Open Issues/PRs', 'Repository size', 'SourceRank', 'Stars', 'Total releases', 'Version Number', 'Version Time', 'Watchers']\n",
    "<br>"
   ]
  },
  {
   "cell_type": "markdown",
   "id": "045f48b7",
   "metadata": {},
   "source": [
    "Version related stuff:"
   ]
  },
  {
   "cell_type": "markdown",
   "id": "c10b1290",
   "metadata": {},
   "source": [
    "<a name='c1'></a>\n",
    "## 8. Scatterplots\n",
    "\n",
    "<br>"
   ]
  },
  {
   "cell_type": "code",
   "execution_count": 495,
   "id": "08e02f1d",
   "metadata": {},
   "outputs": [
    {
     "data": {
      "text/plain": [
       "<AxesSubplot:xlabel='size', ylabel='real avg'>"
      ]
     },
     "execution_count": 495,
     "metadata": {},
     "output_type": "execute_result"
    },
    {
     "data": {
      "image/png": "[encoded data removed]",
      "text/plain": [
       "<Figure size 432x288 with 1 Axes>"
      ]
     },
     "metadata": {
      "needs_background": "light"
     },
     "output_type": "display_data"
    }
   ],
   "source": [
    "sns.scatterplot(x=\"size\", y=\"real avg\", data=df)"
   ]
  },
  {
   "cell_type": "code",
   "execution_count": 493,
   "id": "43dcc9d9",
   "metadata": {},
   "outputs": [
    {
     "data": {
      "text/plain": [
       "<AxesSubplot:xlabel='dep_len', ylabel='real avg'>"
      ]
     },
     "execution_count": 493,
     "metadata": {},
     "output_type": "execute_result"
    },
    {
     "data": {
      "image/png": "[encoded data removed]",
      "text/plain": [
       "<Figure size 432x288 with 1 Axes>"
      ]
     },
     "metadata": {
      "needs_background": "light"
     },
     "output_type": "display_data"
    }
   ],
   "source": [
    "sns.scatterplot(x=\"dep_len\", y=\"real avg\", data=df)"
   ]
  },
  {
   "cell_type": "code",
   "execution_count": 494,
   "id": "0b77c388",
   "metadata": {},
   "outputs": [
    {
     "data": {
      "text/plain": [
       "<AxesSubplot:xlabel='size', ylabel='Repository size'>"
      ]
     },
     "execution_count": 494,
     "metadata": {},
     "output_type": "execute_result"
    },
    {
     "data": {
      "image/png": "[encoded data removed]",
      "text/plain": [
       "<Figure size 432x288 with 1 Axes>"
      ]
     },
     "metadata": {
      "needs_background": "light"
     },
     "output_type": "display_data"
    }
   ],
   "source": [
    "sns.scatterplot(x=\"size\", y=\"Repository size\", data=df)"
   ]
  },
  {
   "cell_type": "code",
   "execution_count": 527,
   "id": "e7f9d4ab",
   "metadata": {
    "scrolled": true
   },
   "outputs": [
    {
     "data": {
      "text/plain": [
       "<AxesSubplot:xlabel='Stars', ylabel='Forks'>"
      ]
     },
     "execution_count": 527,
     "metadata": {},
     "output_type": "execute_result"
    },
    {
     "data": {
      "image/png": "[encoded data removed]",
      "text/plain": [
       "<Figure size 432x288 with 1 Axes>"
      ]
     },
     "metadata": {
      "needs_background": "light"
     },
     "output_type": "display_data"
    }
   ],
   "source": [
    "sns.scatterplot(x=\"Stars\", y=\"Forks\", data=df)"
   ]
  }
 ],
 "metadata": {
  "kernelspec": {
   "display_name": "Python 3",
   "language": "python",
   "name": "python3"
  },
  "language_info": {
   "codemirror_mode": {
    "name": "ipython",
    "version": 3
   },
   "file_extension": ".py",
   "mimetype": "text/x-python",
   "name": "python",
   "nbconvert_exporter": "python",
   "pygments_lexer": "ipython3",
   "version": "3.8.8"
  }
 },
 "nbformat": 4,
 "nbformat_minor": 5
}
