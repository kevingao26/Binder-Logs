{
 "cells": [
  {
   "cell_type": "code",
   "execution_count": 3,
   "metadata": {},
   "outputs": [],
   "source": [
    "import timeit\n",
    "import time"
   ]
  },
  {
   "cell_type": "code",
   "execution_count": 23,
   "metadata": {},
   "outputs": [
    {
     "name": "stdout",
     "output_type": "stream",
     "text": [
      "\u001b[33mWARNING: Skipping parsl as it is not installed.\u001b[0m\r\n"
     ]
    }
   ],
   "source": [
    "!pip uninstall parsl --yes"
   ]
  },
  {
   "cell_type": "code",
   "execution_count": 24,
   "metadata": {},
   "outputs": [
    {
     "name": "stdout",
     "output_type": "stream",
     "text": [
      "Collecting parsl\n",
      "\u001b[?25l  Downloading https://files.pythonhosted.org/packages/f8/17/833fc2b3f1044cf2e0e4efbba59d281e1651bd9414d22dfcf6e3e99747d2/parsl-1.1.0-py3-none-any.whl (449kB)\n",
      "\u001b[K     |████████████████████████████████| 450kB 16.4MB/s eta 0:00:01\n",
      "\u001b[?25hRequirement already satisfied: typing-extensions in /home/ubuntu/snap/jupyter/common/lib/python3.7/site-packages (from parsl) (3.10.0.0)\n",
      "Collecting typeguard>=2.10 (from parsl)\n",
      "  Downloading https://files.pythonhosted.org/packages/a0/88/2a1613174e7d05540358b2f19881f369bfe6ba737f0a673177e69eb623df/typeguard-2.12.1-py3-none-any.whl\n",
      "Collecting dill (from parsl)\n",
      "\u001b[?25l  Downloading https://files.pythonhosted.org/packages/52/d6/79f40d230895fa1ce3b6af0d22e0ac79c65175dc069c194b79cc8e05a033/dill-0.3.3-py2.py3-none-any.whl (81kB)\n",
      "\u001b[K     |████████████████████████████████| 81kB 12.9MB/s eta 0:00:01\n",
      "\u001b[?25hCollecting psutil>=5.5.1 (from parsl)\n",
      "  Using cached https://files.pythonhosted.org/packages/84/da/f7efdcf012b51506938553dbe302aecc22f3f43abd5cffa8320e8e0588d5/psutil-5.8.0-cp37-cp37m-manylinux2010_x86_64.whl\n",
      "Collecting paramiko (from parsl)\n",
      "\u001b[?25l  Downloading https://files.pythonhosted.org/packages/95/19/124e9287b43e6ff3ebb9cdea3e5e8e88475a873c05ccdf8b7e20d2c4201e/paramiko-2.7.2-py2.py3-none-any.whl (206kB)\n",
      "\u001b[K     |████████████████████████████████| 215kB 22.5MB/s eta 0:00:01\n",
      "\u001b[?25hRequirement already satisfied: requests in /home/ubuntu/snap/jupyter/common/lib/python3.7/site-packages (from parsl) (2.25.1)\n",
      "Collecting tblib (from parsl)\n",
      "  Using cached https://files.pythonhosted.org/packages/f8/cd/2fad4add11c8837e72f50a30e2bda30e67a10d70462f826b291443a55c7d/tblib-1.7.0-py2.py3-none-any.whl\n",
      "Collecting globus-sdk (from parsl)\n",
      "\u001b[?25l  Downloading https://files.pythonhosted.org/packages/92/a4/57b628cc5509eeb8361eb87506a3aea2078ca9c4e4ffaebc88280cdf7f40/globus_sdk-2.0.1-py2.py3-none-any.whl (85kB)\n",
      "\u001b[K     |████████████████████████████████| 92kB 15.9MB/s eta 0:00:01\n",
      "\u001b[?25hRequirement already satisfied: pyzmq>=17.1.2 in /snap/jupyter/6/lib/python3.7/site-packages (from parsl) (18.0.1)\n",
      "Collecting cryptography>=2.5 (from paramiko->parsl)\n",
      "\u001b[?25l  Downloading https://files.pythonhosted.org/packages/16/9d/aa507ddc5dc630b499d4905000b17448a969f0cdcdb9bbc2fe5e369a5fad/cryptography-3.4.7-cp36-abi3-manylinux2010_x86_64.whl (3.1MB)\n",
      "\u001b[K     |████████████████████████████████| 3.1MB 15.2MB/s eta 0:00:01\n",
      "\u001b[?25hCollecting bcrypt>=3.1.3 (from paramiko->parsl)\n",
      "\u001b[?25l  Downloading https://files.pythonhosted.org/packages/26/70/6d218afbe4c73538053c1016dd631e8f25fffc10cd01f5c272d7acf3c03d/bcrypt-3.2.0-cp36-abi3-manylinux2010_x86_64.whl (63kB)\n",
      "\u001b[K     |████████████████████████████████| 71kB 12.6MB/s eta 0:00:01\n",
      "\u001b[?25hCollecting pynacl>=1.0.1 (from paramiko->parsl)\n",
      "\u001b[?25l  Downloading https://files.pythonhosted.org/packages/9d/57/2f5e6226a674b2bcb6db531e8b383079b678df5b10cdaa610d6cf20d77ba/PyNaCl-1.4.0-cp35-abi3-manylinux1_x86_64.whl (961kB)\n",
      "\u001b[K     |████████████████████████████████| 962kB 21.0MB/s eta 0:00:01\n",
      "\u001b[?25hRequirement already satisfied: certifi>=2017.4.17 in /snap/jupyter/6/lib/python3.7/site-packages (from requests->parsl) (2019.3.9)\n",
      "Requirement already satisfied: urllib3<1.27,>=1.21.1 in /home/ubuntu/snap/jupyter/common/lib/python3.7/site-packages (from requests->parsl) (1.26.5)\n",
      "Requirement already satisfied: idna<3,>=2.5 in /home/ubuntu/snap/jupyter/common/lib/python3.7/site-packages (from requests->parsl) (2.10)\n",
      "Requirement already satisfied: chardet<5,>=3.0.2 in /home/ubuntu/snap/jupyter/common/lib/python3.7/site-packages (from requests->parsl) (4.0.0)\n",
      "Collecting pyjwt[crypto]<2.0.0,>=1.5.3 (from globus-sdk->parsl)\n",
      "  Downloading https://files.pythonhosted.org/packages/87/8b/6a9f14b5f781697e51259d81657e6048fd31a113229cf346880bb7545565/PyJWT-1.7.1-py2.py3-none-any.whl\n",
      "Collecting cffi>=1.12 (from cryptography>=2.5->paramiko->parsl)\n",
      "\u001b[?25l  Downloading https://files.pythonhosted.org/packages/97/2d/cd29c79f2eb1384577d0662f23c89d29621152f14bef8c6b25747785744b/cffi-1.14.5-cp37-cp37m-manylinux1_x86_64.whl (402kB)\n",
      "\u001b[K     |████████████████████████████████| 409kB 23.4MB/s eta 0:00:01\n",
      "\u001b[?25hRequirement already satisfied: six>=1.4.1 in /snap/jupyter/6/lib/python3.7/site-packages (from bcrypt>=3.1.3->paramiko->parsl) (1.12.0)\n",
      "Collecting pycparser (from cffi>=1.12->cryptography>=2.5->paramiko->parsl)\n",
      "\u001b[?25l  Downloading https://files.pythonhosted.org/packages/ae/e7/d9c3a176ca4b02024debf82342dab36efadfc5776f9c8db077e8f6e71821/pycparser-2.20-py2.py3-none-any.whl (112kB)\n",
      "\u001b[K     |████████████████████████████████| 112kB 25.0MB/s eta 0:00:01\n",
      "\u001b[?25hInstalling collected packages: typeguard, dill, psutil, pycparser, cffi, cryptography, bcrypt, pynacl, paramiko, tblib, pyjwt, globus-sdk, parsl\n",
      "Successfully installed bcrypt-3.2.0 cffi-1.14.5 cryptography-3.4.7 dill-0.3.3 globus-sdk-2.0.1 paramiko-2.7.2 parsl-1.1.0 psutil-5.8.0 pycparser-2.20 pyjwt-1.7.1 pynacl-1.4.0 tblib-1.7.0 typeguard-2.12.1\n",
      "7.100049094995484\n"
     ]
    }
   ],
   "source": [
    "start_time = timeit.default_timer()\n",
    "!pip install parsl\n",
    "print(timeit.default_timer() - start_time)"
   ]
  },
  {
   "cell_type": "code",
   "execution_count": 25,
   "metadata": {},
   "outputs": [
    {
     "name": "stdout",
     "output_type": "stream",
     "text": [
      "2.5987395590054803\n"
     ]
    }
   ],
   "source": [
    "start_time = timeit.default_timer()\n",
    "_=!pip install parsl\n",
    "print(timeit.default_timer() - start_time)"
   ]
  },
  {
   "cell_type": "code",
   "execution_count": 26,
   "metadata": {},
   "outputs": [
    {
     "name": "stdout",
     "output_type": "stream",
     "text": [
      "2.8432857719890308\n"
     ]
    }
   ],
   "source": [
    "start_time = timeit.default_timer()\n",
    "_=!pip install parsl --no-cache-dir\n",
    "print(timeit.default_timer() - start_time)"
   ]
  },
  {
   "cell_type": "code",
   "execution_count": 27,
   "metadata": {},
   "outputs": [
    {
     "name": "stdout",
     "output_type": "stream",
     "text": [
      "Uninstalling parsl-1.1.0:\r\n",
      "  Successfully uninstalled parsl-1.1.0\r\n"
     ]
    }
   ],
   "source": [
    "!pip uninstall parsl --yes"
   ]
  },
  {
   "cell_type": "code",
   "execution_count": 28,
   "metadata": {},
   "outputs": [
    {
     "name": "stdout",
     "output_type": "stream",
     "text": [
      "3.3775185749982484\n"
     ]
    }
   ],
   "source": [
    "start_time = timeit.default_timer()\n",
    "_=!pip install parsl\n",
    "print(timeit.default_timer() - start_time)"
   ]
  },
  {
   "cell_type": "code",
   "execution_count": 29,
   "metadata": {},
   "outputs": [
    {
     "name": "stdout",
     "output_type": "stream",
     "text": [
      "Uninstalling parsl-1.1.0:\n",
      "  Successfully uninstalled parsl-1.1.0\n"
     ]
    }
   ],
   "source": [
    "!pip uninstall parsl --yes"
   ]
  },
  {
   "cell_type": "code",
   "execution_count": 30,
   "metadata": {},
   "outputs": [
    {
     "name": "stdout",
     "output_type": "stream",
     "text": [
      "3.608878280996578\n"
     ]
    }
   ],
   "source": [
    "start_time = timeit.default_timer()\n",
    "_=!pip install parsl --no-cache-dir\n",
    "print(timeit.default_timer() - start_time)"
   ]
  },
  {
   "cell_type": "code",
   "execution_count": null,
   "metadata": {},
   "outputs": [],
   "source": []
  }
 ],
 "metadata": {
  "kernelspec": {
   "display_name": "Python 3",
   "language": "python",
   "name": "python3"
  },
  "language_info": {
   "codemirror_mode": {
    "name": "ipython",
    "version": 3
   },
   "file_extension": ".py",
   "mimetype": "text/x-python",
   "name": "python",
   "nbconvert_exporter": "python",
   "pygments_lexer": "ipython3",
   "version": "3.7.3"
  }
 },
 "nbformat": 4,
 "nbformat_minor": 2
}
