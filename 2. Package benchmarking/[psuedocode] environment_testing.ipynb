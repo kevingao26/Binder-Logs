{
 "cells": [
  {
   "cell_type": "code",
   "execution_count": 122,
   "metadata": {},
   "outputs": [
    {
     "name": "stdout",
     "output_type": "stream",
     "text": [
      "Requirement already satisfied: virtualenv in /home/ubuntu/snap/jupyter/common/lib/python3.7/site-packages (20.4.7)\n",
      "Requirement already satisfied: appdirs<2,>=1.4.3 in /home/ubuntu/snap/jupyter/common/lib/python3.7/site-packages (from virtualenv) (1.4.4)\n",
      "Requirement already satisfied: importlib-metadata>=0.12; python_version < \"3.8\" in /home/ubuntu/snap/jupyter/common/lib/python3.7/site-packages (from virtualenv) (4.5.0)\n",
      "Requirement already satisfied: distlib<1,>=0.3.1 in /home/ubuntu/snap/jupyter/common/lib/python3.7/site-packages (from virtualenv) (0.3.2)\n",
      "Requirement already satisfied: filelock<4,>=3.0.0 in /home/ubuntu/snap/jupyter/common/lib/python3.7/site-packages (from virtualenv) (3.0.12)\n",
      "Requirement already satisfied: six<2,>=1.9.0 in /home/ubuntu/snap/jupyter/common/lib/python3.7/site-packages (from virtualenv) (1.16.0)\n",
      "Requirement already satisfied: typing-extensions>=3.6.4; python_version < \"3.8\" in /home/ubuntu/snap/jupyter/common/lib/python3.7/site-packages (from importlib-metadata>=0.12; python_version < \"3.8\"->virtualenv) (3.10.0.0)\n",
      "Requirement already satisfied: zipp>=0.5 in /home/ubuntu/snap/jupyter/common/lib/python3.7/site-packages (from importlib-metadata>=0.12; python_version < \"3.8\"->virtualenv) (3.4.1)\n"
     ]
    }
   ],
   "source": [
    "!pip install virtualenv"
   ]
  },
  {
   "cell_type": "markdown",
   "metadata": {},
   "source": [
    "Start a cycle here."
   ]
  },
  {
   "cell_type": "code",
   "execution_count": 18,
   "metadata": {},
   "outputs": [],
   "source": [
    "mkdir ve    #random-virtual-environments"
   ]
  },
  {
   "cell_type": "code",
   "execution_count": 20,
   "metadata": {},
   "outputs": [
    {
     "name": "stdout",
     "output_type": "stream",
     "text": [
      "/home/ubuntu/snap/jupyter/6/random-virtual-environments\n"
     ]
    }
   ],
   "source": [
    "cd ve      #random-virtual-environments"
   ]
  },
  {
   "cell_type": "code",
   "execution_count": 21,
   "metadata": {},
   "outputs": [],
   "source": [
    "ls"
   ]
  },
  {
   "cell_type": "markdown",
   "metadata": {},
   "source": [
    "*Use this instead: `virtualenv randomenv`*"
   ]
  },
  {
   "cell_type": "code",
   "execution_count": 99,
   "metadata": {},
   "outputs": [],
   "source": [
    "    !python3 -m venv randomenv"
   ]
  },
  {
   "cell_type": "code",
   "execution_count": 100,
   "metadata": {},
   "outputs": [
    {
     "name": "stdout",
     "output_type": "stream",
     "text": [
      "\u001b[0m\u001b[01;34mrandomenv\u001b[0m/\r\n"
     ]
    }
   ],
   "source": [
    "ls"
   ]
  },
  {
   "cell_type": "code",
   "execution_count": 101,
   "metadata": {},
   "outputs": [
    {
     "name": "stdout",
     "output_type": "stream",
     "text": [
      "activate      activate.fish  easy_install-3.7  pip3    python\r\n",
      "activate.csh  easy_install   pip\t       pip3.7  python3\r\n"
     ]
    }
   ],
   "source": [
    "!ls ./randomenv/bin"
   ]
  },
  {
   "cell_type": "markdown",
   "metadata": {},
   "source": [
    "Use source on terminal."
   ]
  },
  {
   "cell_type": "code",
   "execution_count": 102,
   "metadata": {},
   "outputs": [],
   "source": [
    "!. ./randomenv/bin/activate"
   ]
  },
  {
   "cell_type": "code",
   "execution_count": 103,
   "metadata": {},
   "outputs": [
    {
     "name": "stdout",
     "output_type": "stream",
     "text": [
      "Probably not in a virtualenv\n"
     ]
    }
   ],
   "source": [
    "import sys\n",
    "if getattr(sys, \"real_prefix\", None) is not None:\n",
    "    print(\"Maybe in a virtualenv\")\n",
    "else:\n",
    "    print(\"Probably not in a virtualenv\")"
   ]
  },
  {
   "cell_type": "code",
   "execution_count": 104,
   "metadata": {},
   "outputs": [
    {
     "data": {
      "text/plain": [
       "True"
      ]
     },
     "execution_count": 104,
     "metadata": {},
     "output_type": "execute_result"
    }
   ],
   "source": [
    "'datetime' in sys.modules"
   ]
  },
  {
   "cell_type": "code",
   "execution_count": 105,
   "metadata": {},
   "outputs": [
    {
     "data": {
      "text/plain": [
       "739"
      ]
     },
     "execution_count": 105,
     "metadata": {},
     "output_type": "execute_result"
    }
   ],
   "source": [
    "len(sys.modules)"
   ]
  },
  {
   "cell_type": "code",
   "execution_count": 120,
   "metadata": {},
   "outputs": [
    {
     "name": "stdout",
     "output_type": "stream",
     "text": [
      "Collecting six\n",
      "  Downloading https://files.pythonhosted.org/packages/d9/5a/e7c31adbe875f2abbb91bd84cf2dc52d792b5a01506781dbcf25c91daf11/six-1.16.0-py2.py3-none-any.whl\n",
      "Installing collected packages: six\n",
      "Successfully installed six-1.16.0\n",
      "\u001b[33mYou are using pip version 19.0.3, however version 21.1.2 is available.\n",
      "You should consider upgrading via the 'pip install --upgrade pip' command.\u001b[0m\n",
      "1.3382018199772574\n"
     ]
    }
   ],
   "source": [
    "start_time = timeit.default_timer()\n",
    "!./randomenv/bin/pip install six --no-cache-dir\n",
    "print(timeit.default_timer() - start_time)"
   ]
  },
  {
   "cell_type": "code",
   "execution_count": 97,
   "metadata": {},
   "outputs": [],
   "source": [
    "rm -rf randomenv"
   ]
  },
  {
   "cell_type": "code",
   "execution_count": 98,
   "metadata": {},
   "outputs": [],
   "source": [
    "ls"
   ]
  },
  {
   "cell_type": "markdown",
   "metadata": {},
   "source": [
    "# running on x machines gives x times for each library ->\n",
    "\n",
    "# loops through each dependency\n",
    "for i in [dependencies]:\n",
    "   # make and enter virtual-environment folder\n",
    "   mkdir ve\n",
    "   cd ve\n",
    "   # create virtual environment\n",
    "   virtualenv randomenv\n",
    "   # activate the virtual environment\n",
    "   source randomenv/bin/activate\n",
    "   # the following line will be changed to include a benchmark, which will then be read into an output file\n",
    "   (pip install pandas --no-cache-dir) - SCRIPT TIMING\n",
    "   # deactivate the virtual environment\n",
    "   deactivate\n",
    "   # go back to home directory\n",
    "   cd ..\n",
    "   # remove the virtual environment folder and the pip cache (stored in .cache/pip)\n",
    "   rm -r ve\n",
    "   rm -r .cache"
   ]
  },
  {
   "cell_type": "code",
   "execution_count": null,
   "metadata": {},
   "outputs": [],
   "source": []
  }
 ],
 "metadata": {
  "kernelspec": {
   "display_name": "Python 3",
   "language": "python",
   "name": "python3"
  },
  "language_info": {
   "codemirror_mode": {
    "name": "ipython",
    "version": 3
   },
   "file_extension": ".py",
   "mimetype": "text/x-python",
   "name": "python",
   "nbconvert_exporter": "python",
   "pygments_lexer": "ipython3",
   "version": "3.7.3"
  }
 },
 "nbformat": 4,
 "nbformat_minor": 2
}
